{
  "nbformat": 4,
  "nbformat_minor": 0,
  "metadata": {
    "colab": {
      "provenance": [],
      "gpuType": "T4"
    },
    "kernelspec": {
      "name": "python3",
      "display_name": "Python 3"
    },
    "language_info": {
      "name": "python"
    },
    "accelerator": "GPU"
  },
  "cells": [
    {
      "cell_type": "markdown",
      "source": [
        "# I. CÀI ĐẶT / IMPORT THƯ VIỆN / LOAD DATA\n"
      ],
      "metadata": {
        "id": "pVKDhyDt6wSN"
      }
    },
    {
      "cell_type": "code",
      "source": [
        "# !pip install datasets accelerate evaluate torchvision"
      ],
      "metadata": {
        "id": "hYIo0CaP62SH"
      },
      "execution_count": null,
      "outputs": []
    },
    {
      "cell_type": "code",
      "execution_count": null,
      "metadata": {
        "id": "-Z4cB_6ZzGGV"
      },
      "outputs": [],
      "source": [
        "import psutil\n",
        "import pandas as pd\n",
        "import numpy as np\n",
        "import matplotlib.pyplot as plt\n",
        "\n",
        "import torch\n",
        "import torch.nn as nn\n",
        "import torch.nn.functional as F\n",
        "import torch.optim as optim\n",
        "from torch.utils.data import DataLoader, Dataset\n",
        "from torchvision import transforms, models\n",
        "\n",
        "from datasets import load_dataset, DatasetDict\n",
        "from datasets import Features, Value, Image\n"
      ]
    },
    {
      "cell_type": "code",
      "source": [
        "# Kiểm tra RAM\n",
        "available_ram = psutil.virtual_memory().available\n",
        "cpu_count = psutil.cpu_count(logical=True)\n",
        "print(f\"Available RAM: {available_ram / (1024**3):.2f} GB\")\n",
        "print(f\"CPU count: {cpu_count}\")"
      ],
      "metadata": {
        "colab": {
          "base_uri": "https://localhost:8080/"
        },
        "id": "FD3JKiX160oz",
        "outputId": "12a8d1b7-65cc-4382-e698-086f826def78"
      },
      "execution_count": null,
      "outputs": [
        {
          "output_type": "stream",
          "name": "stdout",
          "text": [
            "Available RAM: 9.20 GB\n",
            "CPU count: 2\n"
          ]
        }
      ]
    },
    {
      "cell_type": "markdown",
      "source": [
        "## 1.1 Tải dataset từ Hugging Face"
      ],
      "metadata": {
        "id": "7Prx00vV67Dv"
      }
    },
    {
      "cell_type": "code",
      "source": [
        "dataset_dict  = load_dataset(\"ashraq/fashion-product-images-small\")\n",
        "print(dataset_dict)"
      ],
      "metadata": {
        "colab": {
          "base_uri": "https://localhost:8080/"
        },
        "id": "lwbeRCCB67cA",
        "outputId": "a8871e6b-2054-42f1-dc7d-169618195821"
      },
      "execution_count": null,
      "outputs": [
        {
          "output_type": "stream",
          "name": "stdout",
          "text": [
            "DatasetDict({\n",
            "    train: Dataset({\n",
            "        features: ['id', 'gender', 'masterCategory', 'subCategory', 'articleType', 'baseColour', 'season', 'year', 'usage', 'productDisplayName', 'image'],\n",
            "        num_rows: 44072\n",
            "    })\n",
            "})\n"
          ]
        }
      ]
    },
    {
      "cell_type": "code",
      "source": [
        "# Dữ liệu gốc: dataset_dict[\"train\"]\n",
        "train_dataset_org = dataset_dict[\"train\"]"
      ],
      "metadata": {
        "id": "tSZW9nK_68yJ"
      },
      "execution_count": null,
      "outputs": []
    },
    {
      "cell_type": "code",
      "source": [
        "# Xem thử 1 record\n",
        "print(train_dataset_org[0])"
      ],
      "metadata": {
        "colab": {
          "base_uri": "https://localhost:8080/"
        },
        "id": "47pZwqa66-Ht",
        "outputId": "e6e9e31c-0c85-4ce2-db84-0233198115b7"
      },
      "execution_count": null,
      "outputs": [
        {
          "output_type": "stream",
          "name": "stdout",
          "text": [
            "{'id': 15970, 'gender': 'Men', 'masterCategory': 'Apparel', 'subCategory': 'Topwear', 'articleType': 'Shirts', 'baseColour': 'Navy Blue', 'season': 'Fall', 'year': 2011.0, 'usage': 'Casual', 'productDisplayName': 'Turtle Check Men Navy Blue Shirt', 'image': <PIL.JpegImagePlugin.JpegImageFile image mode=RGB size=60x80 at 0x79995303C890>}\n"
          ]
        }
      ]
    },
    {
      "cell_type": "markdown",
      "source": [
        "# II. TIỀN XỬ LÝ & CHUẨN BỊ DỮ LIỆU"
      ],
      "metadata": {
        "id": "25MQksSc7FZX"
      }
    },
    {
      "cell_type": "markdown",
      "source": [
        "## 2.1 Thêm cột giá (price) minh hoạ"
      ],
      "metadata": {
        "id": "h1XNBfe-7ogN"
      }
    },
    {
      "cell_type": "code",
      "source": [
        "def assign_price(masterCategory, subCategory, articleType, year, season, usage):\n",
        "    \"\"\"Giả lập sinh giá tiền dựa trên masterCategory/subCategory/...\"\"\"\n",
        "    import numpy as np\n",
        "    master_price_range = {\n",
        "        'Apparel': (10, 20), 'Accessories': (5, 100), 'Footwear': (20, 200),\n",
        "        'Personal Care': (5, 300), 'Free Items': (0, 5), 'Sporting Goods': (100, 250), 'Home': (100, 300)\n",
        "    }\n",
        "    sub_price_adjustment = {\n",
        "        'Topwear': (5, 50), 'Watches': (30, 150), 'Shoes': (20, 100),\n",
        "        'Bags': (10, 70), 'Fragrance': (5, 80), 'Jewellery': (10, 200)\n",
        "    }\n",
        "    article_price_range = {\n",
        "        'Shirts': (15, 70), 'Watches': (50, 300), 'Sports Shoes': (40, 200),\n",
        "        'Sunglasses': (30, 150), 'Perfumes': (25, 120)\n",
        "    }\n",
        "    # Lấy khoảng giá từ masterCategory\n",
        "    base_min, base_max = master_price_range.get(masterCategory, (10, 100))\n",
        "    # Điều chỉnh theo subCategory\n",
        "    adj_min, adj_max = sub_price_adjustment.get(subCategory, (0, 0))\n",
        "    # Điều chỉnh theo articleType\n",
        "    art_min, art_max = article_price_range.get(articleType, (base_min + adj_min, base_max + adj_max))\n",
        "    # Điều chỉnh năm\n",
        "    if year < 2015:\n",
        "        discount = 0.3\n",
        "    elif year < 2018:\n",
        "        discount = 0.15\n",
        "    else:\n",
        "        discount = 0\n",
        "    final_min = art_min * (1 - discount)\n",
        "    final_max = art_max * (1 - discount)\n",
        "    return round(np.random.uniform(final_min, final_max) * 2500, 0)"
      ],
      "metadata": {
        "id": "x4rlg6qV7IaB"
      },
      "execution_count": null,
      "outputs": []
    },
    {
      "cell_type": "code",
      "source": [
        "def add_price_column(example):\n",
        "    example[\"price_in_vnd\"] = assign_price(\n",
        "        example[\"masterCategory\"],\n",
        "        example[\"subCategory\"],\n",
        "        example[\"articleType\"],\n",
        "        example[\"year\"],\n",
        "        example[\"season\"],\n",
        "        example[\"usage\"]\n",
        "    )\n",
        "    return example"
      ],
      "metadata": {
        "id": "I-gZ7PxP7Khw"
      },
      "execution_count": null,
      "outputs": []
    },
    {
      "cell_type": "code",
      "source": [
        "# Loại bỏ record null\n",
        "def has_null(example):\n",
        "    return any(val is None for val in example.values())\n",
        "\n",
        "missing_null = dataset_dict[\"train\"].filter(has_null)\n",
        "print(f\"Số record có giá trị null: {len(missing_null)}\")"
      ],
      "metadata": {
        "colab": {
          "base_uri": "https://localhost:8080/"
        },
        "id": "xStJrINo7L5O",
        "outputId": "27ced435-8f35-47ff-978a-a76bd47b0d91"
      },
      "execution_count": null,
      "outputs": [
        {
          "output_type": "stream",
          "name": "stdout",
          "text": [
            "Số record có giá trị null: 0\n"
          ]
        }
      ]
    },
    {
      "cell_type": "code",
      "source": [
        "# Mapped dataset\n",
        "dataset_dict[\"train\"] = dataset_dict[\"train\"].map(add_price_column)"
      ],
      "metadata": {
        "id": "0w7n9_Ow7OJX"
      },
      "execution_count": null,
      "outputs": []
    },
    {
      "cell_type": "code",
      "source": [
        "# Tách train/val/test (10% test, 10% val)\n",
        "train_test_split = dataset_dict['train'].train_test_split(test_size=0.1, seed=42)\n",
        "train_val_split = train_test_split['train'].train_test_split(test_size=0.1, seed=42)"
      ],
      "metadata": {
        "id": "JTIAI0M87PsI"
      },
      "execution_count": null,
      "outputs": []
    },
    {
      "cell_type": "code",
      "source": [
        "final_dataset = DatasetDict({\n",
        "    'train': train_val_split['train'],\n",
        "    'val': train_val_split['test'],\n",
        "    'test': train_test_split['test']\n",
        "})"
      ],
      "metadata": {
        "id": "SbuhncmW7Rbb"
      },
      "execution_count": null,
      "outputs": []
    },
    {
      "cell_type": "code",
      "source": [
        "train_dataset = final_dataset[\"train\"]\n",
        "val_dataset   = final_dataset[\"val\"]\n",
        "test_dataset  = final_dataset[\"test\"]"
      ],
      "metadata": {
        "id": "vIj1A9bL7S3r"
      },
      "execution_count": null,
      "outputs": []
    },
    {
      "cell_type": "code",
      "source": [
        "# Định nghĩa features (để cast)\n",
        "features = Features({\n",
        "    'id': Value('int64'),\n",
        "    'gender': Value('string'),\n",
        "    'masterCategory': Value('string'),\n",
        "    'subCategory': Value('string'),\n",
        "    'articleType': Value('string'),\n",
        "    'baseColour': Value('string'),\n",
        "    'season': Value('string'),\n",
        "    'year': Value('int64'),\n",
        "    'usage': Value('string'),\n",
        "    'productDisplayName': Value('string'),\n",
        "    'image': Image(),\n",
        "    'price_in_vnd': Value('int64')\n",
        "})"
      ],
      "metadata": {
        "id": "5ey_UG3E7UXu"
      },
      "execution_count": null,
      "outputs": []
    },
    {
      "cell_type": "code",
      "source": [
        "train_dataset = train_dataset.cast(features)\n",
        "val_dataset   = val_dataset.cast(features)\n",
        "test_dataset  = test_dataset.cast(features)"
      ],
      "metadata": {
        "id": "ypzZ4WjJ7WIv"
      },
      "execution_count": null,
      "outputs": []
    },
    {
      "cell_type": "markdown",
      "source": [
        "## 2.2 Tạo cột brand (chỉ số hoá) từ 'productDisplayName' + 'gender'"
      ],
      "metadata": {
        "id": "iMgZLvTc7lLd"
      }
    },
    {
      "cell_type": "code",
      "source": [
        "def extract_brand(name, gender):\n",
        "    # Ví dụ: tách brand bằng cách lấy chuỗi trước từ \"gender\"\n",
        "    name_lower   = name.lower()\n",
        "    gender_lower = gender.lower()\n",
        "    tokens       = name.split(\" \")\n",
        "    tokens_lower = name_lower.split(\" \")\n",
        "    if gender_lower in tokens_lower:\n",
        "        idx = tokens_lower.index(gender_lower)\n",
        "        brand_tokens = tokens[:idx]\n",
        "        brand = \" \".join(brand_tokens).replace(\"by\",\"\").strip()\n",
        "        return brand\n",
        "    else:\n",
        "        return tokens[0]\n"
      ],
      "metadata": {
        "id": "mfUJSsSG7g5k"
      },
      "execution_count": null,
      "outputs": []
    },
    {
      "cell_type": "code",
      "source": [
        "def build_brand_mapping(dataset):\n",
        "    brands = []\n",
        "    for name, gender in zip(dataset[\"productDisplayName\"], dataset[\"gender\"]):\n",
        "        brands.append(extract_brand(name, gender))\n",
        "    unique_brands = sorted(list(set(brands)))\n",
        "    mapping = {brand: idx for idx, brand in enumerate(unique_brands)}\n",
        "    inv_mapping = {idx: brand for brand, idx in mapping.items()}\n",
        "    return mapping, inv_mapping"
      ],
      "metadata": {
        "id": "hIfYeU8k7sJ0"
      },
      "execution_count": null,
      "outputs": []
    },
    {
      "cell_type": "code",
      "source": [
        "def build_mapping(dataset, col):\n",
        "    unique_labels = dataset.unique(col)\n",
        "    unique_labels.sort()\n",
        "    mapping = {label: idx for idx, label in enumerate(unique_labels)}\n",
        "    inv_mapping = {idx: label for label, idx in mapping.items()}\n",
        "    return mapping, inv_mapping"
      ],
      "metadata": {
        "id": "fb2QPAK37udm"
      },
      "execution_count": null,
      "outputs": []
    },
    {
      "cell_type": "code",
      "source": [
        "# Sinh mapping dựa trên FULL dataset gốc (train_dataset_org) hoặc tuỳ\n",
        "gender_map, inv_gender_map           = build_mapping(train_dataset_org, \"gender\")\n",
        "master_category_map, inv_master_map  = build_mapping(train_dataset_org, \"masterCategory\")\n",
        "sub_category_map, inv_sub_cat_map    = build_mapping(train_dataset_org, \"subCategory\")\n",
        "article_type_map, inv_article_map    = build_mapping(train_dataset_org, \"articleType\")\n",
        "base_colour_map, inv_base_colour_map = build_mapping(train_dataset_org, \"baseColour\")\n",
        "usage_map, inv_usage_map             = build_mapping(train_dataset_org, \"usage\")\n",
        "brand_map, inv_brand_map             = build_brand_mapping(train_dataset_org)"
      ],
      "metadata": {
        "id": "NnRgylto7v3p"
      },
      "execution_count": null,
      "outputs": []
    },
    {
      "cell_type": "code",
      "source": [
        "def update_categorical(example):\n",
        "    # Thay thế string bằng ID\n",
        "    example[\"gender\"]         = gender_map[example[\"gender\"]]\n",
        "    example[\"masterCategory\"] = master_category_map[example[\"masterCategory\"]]\n",
        "    example[\"subCategory\"]    = sub_category_map[example[\"subCategory\"]]\n",
        "    example[\"articleType\"]    = article_type_map[example[\"articleType\"]]\n",
        "    example[\"baseColour\"]     = base_colour_map[example[\"baseColour\"]]\n",
        "    example[\"usage\"]          = usage_map[example[\"usage\"]]\n",
        "    # brand\n",
        "    extracted          = extract_brand(example[\"productDisplayName\"], inv_gender_map[example[\"gender\"]])\n",
        "    example[\"brand\"]   = brand_map.get(extracted, -1)  # -1 nếu ko match\n",
        "    return example"
      ],
      "metadata": {
        "id": "MC5CRSBe72E5"
      },
      "execution_count": null,
      "outputs": []
    },
    {
      "cell_type": "code",
      "source": [
        "train_dataset = train_dataset.map(update_categorical)\n",
        "val_dataset   = val_dataset.map(update_categorical)\n",
        "test_dataset  = test_dataset.map(update_categorical)"
      ],
      "metadata": {
        "id": "jGm6ixzX73dc"
      },
      "execution_count": null,
      "outputs": []
    },
    {
      "cell_type": "code",
      "source": [
        "from sklearn.preprocessing import MinMaxScaler\n",
        "min_max_scaler = MinMaxScaler()\n",
        "\n",
        "def scale_dataset(ds, scaler):\n",
        "    arr = np.array([ds[col] for col in [\"year\",\"price_in_vnd\"]]).T\n",
        "    scaled = scaler.transform(arr)\n",
        "    def f(ex, idx):\n",
        "        return {\n",
        "            \"year\": scaled[idx][0],\n",
        "            \"price_in_vnd\": scaled[idx][1]\n",
        "        }\n",
        "    ds = ds.map(f, with_indices=True)\n",
        "    return ds\n",
        "\n",
        "# Fit scaler trên train\n",
        "arr_train = np.array([train_dataset[col] for col in [\"year\",\"price_in_vnd\"]]).T\n",
        "scaled_train = min_max_scaler.fit_transform(arr_train)"
      ],
      "metadata": {
        "id": "NJoqoKKt76pT"
      },
      "execution_count": null,
      "outputs": []
    },
    {
      "cell_type": "code",
      "source": [
        "def f_train(ex, idx):\n",
        "    return {\n",
        "        \"year\": scaled_train[idx][0],\n",
        "        \"price_in_vnd\": scaled_train[idx][1]\n",
        "    }\n",
        "train_dataset = train_dataset.map(f_train, with_indices=True)\n",
        "\n",
        "# Transform val, test\n",
        "val_dataset  = scale_dataset(val_dataset, min_max_scaler)\n",
        "test_dataset = scale_dataset(test_dataset, min_max_scaler)"
      ],
      "metadata": {
        "id": "2tba-nbj77Kh"
      },
      "execution_count": null,
      "outputs": []
    },
    {
      "cell_type": "code",
      "source": [
        "# Encode season thủ công\n",
        "season_mapping = {'Spring': 0, 'Summer': 1, 'Fall': 2, 'Winter': 3}\n",
        "train_dataset = train_dataset.map(lambda x: {'season': season_mapping[x['season']]})\n",
        "val_dataset   = val_dataset.map(lambda x: {'season': season_mapping[x['season']]})\n",
        "test_dataset  = test_dataset.map(lambda x: {'season': season_mapping[x['season']]})\n"
      ],
      "metadata": {
        "id": "0jCQUfL37_wd"
      },
      "execution_count": null,
      "outputs": []
    },
    {
      "cell_type": "code",
      "source": [
        "# Bỏ cột productDisplayName nếu muốn (đỡ cồng kềnh)\n",
        "train_dataset = train_dataset.remove_columns([\"productDisplayName\"])\n",
        "val_dataset   = val_dataset.remove_columns([\"productDisplayName\"])\n",
        "test_dataset  = test_dataset.remove_columns([\"productDisplayName\"])\n"
      ],
      "metadata": {
        "id": "_ozfyYgO8Bce"
      },
      "execution_count": null,
      "outputs": []
    },
    {
      "cell_type": "code",
      "source": [
        "train_dataset.features"
      ],
      "metadata": {
        "colab": {
          "base_uri": "https://localhost:8080/"
        },
        "id": "3CXYANi28hOq",
        "outputId": "05c22d5d-253e-49e8-e490-fb4f97a7aa92"
      },
      "execution_count": null,
      "outputs": [
        {
          "output_type": "execute_result",
          "data": {
            "text/plain": [
              "{'id': Value(dtype='int64', id=None),\n",
              " 'gender': Value(dtype='int64', id=None),\n",
              " 'masterCategory': Value(dtype='int64', id=None),\n",
              " 'subCategory': Value(dtype='int64', id=None),\n",
              " 'articleType': Value(dtype='int64', id=None),\n",
              " 'baseColour': Value(dtype='int64', id=None),\n",
              " 'season': Value(dtype='int64', id=None),\n",
              " 'year': Value(dtype='float64', id=None),\n",
              " 'usage': Value(dtype='int64', id=None),\n",
              " 'image': Image(mode=None, decode=True, id=None),\n",
              " 'price_in_vnd': Value(dtype='float64', id=None),\n",
              " 'brand': Value(dtype='int64', id=None)}"
            ]
          },
          "metadata": {},
          "execution_count": 116
        }
      ]
    },
    {
      "cell_type": "code",
      "source": [
        "print(\"Train sample:\", train_dataset[0])"
      ],
      "metadata": {
        "colab": {
          "base_uri": "https://localhost:8080/"
        },
        "id": "Mup4Raz08Ezh",
        "outputId": "c15f6807-4e17-4dfd-e371-27a328cd57d4"
      },
      "execution_count": null,
      "outputs": [
        {
          "output_type": "stream",
          "name": "stdout",
          "text": [
            "Train sample: {'id': 32762, 'gender': 2, 'masterCategory': 1, 'subCategory': 38, 'articleType': 103, 'baseColour': 2, 'season': 1, 'year': 0.4166666666666572, 'usage': 2, 'image': <PIL.JpegImagePlugin.JpegImageFile image mode=RGB size=60x80 at 0x7999482E0CD0>, 'price_in_vnd': 0.15022603799024467, 'brand': 405}\n"
          ]
        }
      ]
    },
    {
      "cell_type": "markdown",
      "source": [
        "# III. CHUẨN BỊ DataLoader"
      ],
      "metadata": {
        "id": "iE-mVXP-8IUN"
      }
    },
    {
      "cell_type": "code",
      "source": [
        "# Tạo transform cho ảnh\n",
        "train_transform = transforms.Compose([\n",
        "    transforms.Resize((224, 224)),\n",
        "    transforms.RandomHorizontalFlip(),\n",
        "    transforms.ToTensor(),\n",
        "])\n",
        "val_test_transform = transforms.Compose([\n",
        "    transforms.Resize((224, 224)),\n",
        "    transforms.ToTensor(),\n",
        "])"
      ],
      "metadata": {
        "id": "2PZZthu_8GIJ"
      },
      "execution_count": null,
      "outputs": []
    },
    {
      "cell_type": "code",
      "source": [
        "class FashionDataset(Dataset):\n",
        "    \"\"\"\n",
        "    Dataset trả về (image_tensor, numeric_tensor, labels_dict)\n",
        "    \"\"\"\n",
        "    def __init__(self, hf_dataset, transform=None):\n",
        "        self.dataset = hf_dataset\n",
        "        self.transform = transform\n",
        "\n",
        "    def __len__(self):\n",
        "        return len(self.dataset)\n",
        "\n",
        "    def __getitem__(self, idx):\n",
        "        item = self.dataset[idx]\n",
        "        # 1) Ảnh\n",
        "        image = item[\"image\"].convert(\"RGB\")\n",
        "        if self.transform:\n",
        "            image = self.transform(image)\n",
        "\n",
        "        # 2) Numeric features (season, year, price_in_vnd)\n",
        "        #    -> float tensor\n",
        "        #    -> Bạn có thể thêm bớt cột tuỳ ý\n",
        "        numeric_features = [\n",
        "            item[\"season\"],       # float\n",
        "            item[\"year\"],         # float (đã scale)\n",
        "            item[\"price_in_vnd\"]  # float (đã scale)\n",
        "        ]\n",
        "        numeric_features = torch.tensor(numeric_features, dtype=torch.float)\n",
        "\n",
        "        # 3) Labels (7 đầu ra multi-task)\n",
        "        labels = {}\n",
        "        labels[\"gender\"]         = torch.tensor(item[\"gender\"], dtype=torch.long)\n",
        "        labels[\"masterCategory\"] = torch.tensor(item[\"masterCategory\"], dtype=torch.long)\n",
        "        labels[\"usage\"]          = torch.tensor(item[\"usage\"], dtype=torch.long)\n",
        "        labels[\"subCategory\"]    = torch.tensor(item[\"subCategory\"], dtype=torch.long)\n",
        "        labels[\"articleType\"]    = torch.tensor(item[\"articleType\"], dtype=torch.long)\n",
        "        labels[\"baseColour\"]     = torch.tensor(item[\"baseColour\"], dtype=torch.long)\n",
        "        labels[\"brand\"]          = torch.tensor(item[\"brand\"], dtype=torch.long)\n",
        "\n",
        "        return image, numeric_features, labels"
      ],
      "metadata": {
        "id": "lGEORec99JOr"
      },
      "execution_count": null,
      "outputs": []
    },
    {
      "cell_type": "code",
      "source": [
        "# Tạo Torch Dataset & DataLoader\n",
        "train_torch_dataset = FashionDataset(train_dataset, transform=train_transform)\n",
        "val_torch_dataset   = FashionDataset(val_dataset,   transform=val_test_transform)\n",
        "test_torch_dataset  = FashionDataset(test_dataset,  transform=val_test_transform)"
      ],
      "metadata": {
        "id": "sy7y2JvR9VhA"
      },
      "execution_count": null,
      "outputs": []
    },
    {
      "cell_type": "code",
      "source": [
        "train_loader = DataLoader(train_torch_dataset, batch_size=32, shuffle=True,  num_workers=0)\n",
        "val_loader   = DataLoader(val_torch_dataset,   batch_size=32, shuffle=False, num_workers=0)\n",
        "test_loader  = DataLoader(test_torch_dataset,  batch_size=32, shuffle=False, num_workers=0)\n",
        "\n",
        "print(\"Số batch train:\", len(train_loader), \"Số batch val:\", len(val_loader))"
      ],
      "metadata": {
        "colab": {
          "base_uri": "https://localhost:8080/"
        },
        "id": "hFFxsZEs9XIu",
        "outputId": "c4131113-d45f-4928-bcec-740e46df9fc2"
      },
      "execution_count": null,
      "outputs": [
        {
          "output_type": "stream",
          "name": "stdout",
          "text": [
            "Số batch train: 1116 Số batch val: 124\n"
          ]
        }
      ]
    },
    {
      "cell_type": "markdown",
      "source": [
        "# IV. XÂY DỰNG CNN + MLP = FUSION MULTI-HEAD"
      ],
      "metadata": {
        "id": "rik_9fBk9iRc"
      }
    },
    {
      "cell_type": "code",
      "source": [
        "num_gender         = len(gender_map)         # 5\n",
        "num_master         = len(master_category_map)# 7\n",
        "num_usage          = len(usage_map)          # 8\n",
        "num_subcategory    = len(sub_category_map)   # 45\n",
        "num_article        = len(article_type_map)   # 142\n",
        "num_basecolour     = len(base_colour_map)    # 46\n",
        "num_brand          = len(brand_map)          # ~820 (tuỳ dataset)\n",
        "\n",
        "# Hoặc in ra cho chắc:\n",
        "print(\"num_gender\", num_gender)\n",
        "print(\"num_master\", num_master)\n",
        "print(\"num_usage\",  num_usage)\n",
        "print(\"num_subcategory\", num_subcategory)\n",
        "print(\"num_article\", num_article)\n",
        "print(\"num_basecolour\", num_basecolour)\n",
        "print(\"num_brand\", num_brand)"
      ],
      "metadata": {
        "colab": {
          "base_uri": "https://localhost:8080/"
        },
        "id": "XyW7muXH-GBO",
        "outputId": "24b9caf5-28b3-4792-ee3f-d505acb828a3"
      },
      "execution_count": null,
      "outputs": [
        {
          "output_type": "stream",
          "name": "stdout",
          "text": [
            "num_gender 5\n",
            "num_master 7\n",
            "num_usage 8\n",
            "num_subcategory 45\n",
            "num_article 141\n",
            "num_basecolour 46\n",
            "num_brand 817\n"
          ]
        }
      ]
    },
    {
      "cell_type": "code",
      "source": [
        "class MultiModalResNet(nn.Module):\n",
        "    \"\"\"\n",
        "    Mô hình CNN cho ảnh + MLP cho numeric_features (season, year, price_in_vnd).\n",
        "    Kết hợp (concat) => 7 heads cho 7 task.\n",
        "    \"\"\"\n",
        "    def __init__(self,\n",
        "                 num_gender,\n",
        "                 num_master,\n",
        "                 num_usage,\n",
        "                 num_sub,\n",
        "                 num_article,\n",
        "                 num_base,\n",
        "                 num_brand,\n",
        "                 pretrained=True,\n",
        "                 mlp_hidden=32):\n",
        "        super().__init__()\n",
        "\n",
        "        # 1) Backbone CNN (ResNet18)\n",
        "        self.backbone = models.resnet18(pretrained=pretrained)\n",
        "        backbone_out = self.backbone.fc.in_features\n",
        "        # Thay FC cuối = Identity để lấy feature vector [B, backbone_out]\n",
        "        self.backbone.fc = nn.Identity()\n",
        "\n",
        "        # 2) MLP cho numeric_features\n",
        "        #    3 đầu vào: (season, year, price_in_vnd)\n",
        "        #    => mlp_hidden dimension\n",
        "        self.mlp = nn.Sequential(\n",
        "            nn.Linear(3, mlp_hidden),\n",
        "            nn.ReLU(),\n",
        "            nn.Linear(mlp_hidden, mlp_hidden),\n",
        "            nn.ReLU()\n",
        "        )\n",
        "\n",
        "        # 3) Tạo 7 \"head\" (fully-connected) từ vector concat (CNN + MLP)\n",
        "        fused_dim = backbone_out + mlp_hidden\n",
        "        self.head_gender   = nn.Linear(fused_dim, num_gender)\n",
        "        self.head_master   = nn.Linear(fused_dim, num_master)\n",
        "        self.head_usage    = nn.Linear(fused_dim, num_usage)\n",
        "        self.head_sub      = nn.Linear(fused_dim, num_sub)\n",
        "        self.head_article  = nn.Linear(fused_dim, num_article)\n",
        "        self.head_base     = nn.Linear(fused_dim, num_base)\n",
        "        self.head_brand    = nn.Linear(fused_dim, num_brand)\n",
        "\n",
        "    def forward(self, images, numeric_data):\n",
        "        # CNN features từ ảnh\n",
        "        cnn_feats = self.backbone(images)  # shape [B, backbone_out]\n",
        "        # MLP features từ numeric_data\n",
        "        mlp_feats = self.mlp(numeric_data) # shape [B, mlp_hidden]\n",
        "\n",
        "        # Fusion\n",
        "        fused = torch.cat([cnn_feats, mlp_feats], dim=1)  # [B, backbone_out + mlp_hidden]\n",
        "\n",
        "        # 7 heads => dict\n",
        "        out_gender   = self.head_gender(fused)\n",
        "        out_master   = self.head_master(fused)\n",
        "        out_usage    = self.head_usage(fused)\n",
        "        out_sub      = self.head_sub(fused)\n",
        "        out_article  = self.head_article(fused)\n",
        "        out_base     = self.head_base(fused)\n",
        "        out_brand    = self.head_brand(fused)\n",
        "\n",
        "        return {\n",
        "            \"gender\":         out_gender,\n",
        "            \"masterCategory\": out_master,\n",
        "            \"usage\":          out_usage,\n",
        "            \"subCategory\":    out_sub,\n",
        "            \"articleType\":    out_article,\n",
        "            \"baseColour\":     out_base,\n",
        "            \"brand\":          out_brand\n",
        "        }"
      ],
      "metadata": {
        "id": "2JRs3bEF9jwZ"
      },
      "execution_count": null,
      "outputs": []
    },
    {
      "cell_type": "code",
      "source": [
        "# Khởi tạo model\n",
        "device = torch.device(\"cuda\" if torch.cuda.is_available() else \"cpu\")"
      ],
      "metadata": {
        "id": "tdTBLYtW9n1c"
      },
      "execution_count": null,
      "outputs": []
    },
    {
      "cell_type": "code",
      "source": [
        "model_cnn = MultiModalResNet(\n",
        "    num_gender=num_gender,\n",
        "    num_master=num_master,\n",
        "    num_usage=num_usage,\n",
        "    num_sub=num_subcategory,\n",
        "    num_article=num_article,\n",
        "    num_base=num_basecolour,\n",
        "    num_brand=num_brand,\n",
        "    pretrained=True,\n",
        "    mlp_hidden=32\n",
        ").to(device)"
      ],
      "metadata": {
        "colab": {
          "base_uri": "https://localhost:8080/"
        },
        "id": "aZSZ8m3d9p4P",
        "outputId": "63e8116d-473f-4f46-b565-d73ce558221d"
      },
      "execution_count": null,
      "outputs": [
        {
          "output_type": "stream",
          "name": "stderr",
          "text": [
            "/usr/local/lib/python3.11/dist-packages/torchvision/models/_utils.py:208: UserWarning: The parameter 'pretrained' is deprecated since 0.13 and may be removed in the future, please use 'weights' instead.\n",
            "  warnings.warn(\n",
            "/usr/local/lib/python3.11/dist-packages/torchvision/models/_utils.py:223: UserWarning: Arguments other than a weight enum or `None` for 'weights' are deprecated since 0.13 and may be removed in the future. The current behavior is equivalent to passing `weights=ResNet18_Weights.IMAGENET1K_V1`. You can also use `weights=ResNet18_Weights.DEFAULT` to get the most up-to-date weights.\n",
            "  warnings.warn(msg)\n"
          ]
        }
      ]
    },
    {
      "cell_type": "markdown",
      "source": [
        "# V. TRAINING LOOP"
      ],
      "metadata": {
        "id": "0pNMNFMD-PL3"
      }
    },
    {
      "cell_type": "code",
      "source": [
        "optimizer = optim.Adam(model_cnn.parameters(), lr=1e-4)\n",
        "scheduler = optim.lr_scheduler.StepLR(optimizer, step_size=5, gamma=0.1)"
      ],
      "metadata": {
        "id": "gHdPMuie9rqv"
      },
      "execution_count": null,
      "outputs": []
    },
    {
      "cell_type": "code",
      "source": [
        "def multi_task_loss(outputs, labels):\n",
        "    total_loss = 0\n",
        "    for key in labels:\n",
        "        total_loss += F.cross_entropy(outputs[key], labels[key])\n",
        "    return total_loss"
      ],
      "metadata": {
        "id": "pl0Kxbou-STk"
      },
      "execution_count": null,
      "outputs": []
    },
    {
      "cell_type": "code",
      "source": [
        "def train_one_epoch(model, dataloader, optimizer):\n",
        "    model.train()\n",
        "    total_loss = 0\n",
        "    for images, numeric_data, labels_dict in dataloader:\n",
        "        images = images.to(device)\n",
        "        numeric_data = numeric_data.to(device)\n",
        "        for k in labels_dict:\n",
        "            labels_dict[k] = labels_dict[k].to(device)\n",
        "\n",
        "        optimizer.zero_grad()\n",
        "        outputs = model(images, numeric_data)\n",
        "        loss = multi_task_loss(outputs, labels_dict)\n",
        "        loss.backward()\n",
        "        optimizer.step()\n",
        "        total_loss += loss.item()\n",
        "    return total_loss / len(dataloader)"
      ],
      "metadata": {
        "id": "_lbEyfKL-XUL"
      },
      "execution_count": null,
      "outputs": []
    },
    {
      "cell_type": "code",
      "source": [
        "def evaluate(model, dataloader):\n",
        "    model.eval()\n",
        "    total_loss = 0\n",
        "    correct_counts = {k: 0 for k in [\"gender\",\"masterCategory\",\"usage\",\"subCategory\",\"articleType\",\"baseColour\",\"brand\"]}\n",
        "    total_samples  = 0\n",
        "\n",
        "    with torch.no_grad():\n",
        "        for images, numeric_data, labels_dict in dataloader:\n",
        "            images = images.to(device)\n",
        "            numeric_data = numeric_data.to(device)\n",
        "            for k in labels_dict:\n",
        "                labels_dict[k] = labels_dict[k].to(device)\n",
        "\n",
        "            outputs = model(images, numeric_data)\n",
        "            loss = multi_task_loss(outputs, labels_dict)\n",
        "            total_loss += loss.item()\n",
        "\n",
        "            batch_size = images.size(0)\n",
        "            total_samples += batch_size\n",
        "            for k in labels_dict:\n",
        "                preds = torch.argmax(outputs[k], dim=1)\n",
        "                correct_counts[k] += (preds == labels_dict[k]).sum().item()\n",
        "\n",
        "    avg_loss = total_loss / len(dataloader)\n",
        "    accuracies = {}\n",
        "    for k in correct_counts:\n",
        "        accuracies[k] = correct_counts[k] / float(total_samples)\n",
        "    return avg_loss, accuracies"
      ],
      "metadata": {
        "id": "c_7WADjD-ZbG"
      },
      "execution_count": null,
      "outputs": []
    },
    {
      "cell_type": "code",
      "source": [
        "# for i in range(len(train_torch_dataset)):\n",
        "#     try:\n",
        "#         sample = train_torch_dataset[i]\n",
        "#         # sample = (image, numeric_features, labels_dict)\n",
        "#         image_shape = sample[0].size()\n",
        "#         numeric_shape = sample[1].size()\n",
        "#         print(f\"Sample {i} OK => Image shape: {image_shape}, numeric shape: {numeric_shape}\")\n",
        "#     except Exception as e:\n",
        "#         print(f\"Sample {i} LỖI =>\", e)\n",
        "#         break\n"
      ],
      "metadata": {
        "collapsed": true,
        "id": "rbziWImB--If"
      },
      "execution_count": null,
      "outputs": []
    },
    {
      "cell_type": "code",
      "source": [
        "# Train\n",
        "num_epochs = 10\n",
        "for epoch in range(num_epochs):\n",
        "    train_loss = train_one_epoch(model_cnn, train_loader, optimizer)\n",
        "    val_loss, val_accs = evaluate(model_cnn, val_loader)\n",
        "    scheduler.step()\n",
        "\n",
        "    print(f\"Epoch [{epoch+1}/{num_epochs}]\")\n",
        "    print(f\"   Train Loss: {train_loss:.4f}\")\n",
        "    print(f\"   Val   Loss: {val_loss:.4f}\")\n",
        "    for task, acc in val_accs.items():\n",
        "        print(f\"       Val {task} Acc: {acc*100:.2f}%\")"
      ],
      "metadata": {
        "colab": {
          "base_uri": "https://localhost:8080/"
        },
        "id": "PA1H8McU-bv5",
        "outputId": "7a498d18-5691-4009-a377-841ed8f65237"
      },
      "execution_count": null,
      "outputs": [
        {
          "output_type": "stream",
          "name": "stdout",
          "text": [
            "Epoch [1/10]\n",
            "   Train Loss: 7.6668\n",
            "   Val   Loss: 5.5468\n",
            "       Val gender Acc: 90.22%\n",
            "       Val masterCategory Acc: 99.07%\n",
            "       Val usage Acc: 90.52%\n",
            "       Val subCategory Acc: 94.50%\n",
            "       Val articleType Acc: 83.29%\n",
            "       Val baseColour Acc: 64.31%\n",
            "       Val brand Acc: 30.70%\n",
            "Epoch [2/10]\n",
            "   Train Loss: 4.9968\n",
            "   Val   Loss: 4.7316\n",
            "       Val gender Acc: 92.24%\n",
            "       Val masterCategory Acc: 99.29%\n",
            "       Val usage Acc: 91.56%\n",
            "       Val subCategory Acc: 95.64%\n",
            "       Val articleType Acc: 86.54%\n",
            "       Val baseColour Acc: 67.00%\n",
            "       Val brand Acc: 37.84%\n",
            "Epoch [3/10]\n",
            "   Train Loss: 4.1019\n",
            "   Val   Loss: 4.3482\n",
            "       Val gender Acc: 91.50%\n",
            "       Val masterCategory Acc: 99.40%\n",
            "       Val usage Acc: 91.56%\n",
            "       Val subCategory Acc: 95.84%\n",
            "       Val articleType Acc: 87.42%\n",
            "       Val baseColour Acc: 68.11%\n",
            "       Val brand Acc: 45.10%\n",
            "Epoch [4/10]\n",
            "   Train Loss: 3.4687\n",
            "   Val   Loss: 4.1041\n",
            "       Val gender Acc: 92.97%\n",
            "       Val masterCategory Acc: 99.37%\n",
            "       Val usage Acc: 92.46%\n",
            "       Val subCategory Acc: 95.71%\n",
            "       Val articleType Acc: 87.12%\n",
            "       Val baseColour Acc: 68.19%\n",
            "       Val brand Acc: 49.74%\n",
            "Epoch [5/10]\n",
            "   Train Loss: 2.9148\n",
            "   Val   Loss: 3.9154\n",
            "       Val gender Acc: 92.84%\n",
            "       Val masterCategory Acc: 99.45%\n",
            "       Val usage Acc: 92.87%\n",
            "       Val subCategory Acc: 96.12%\n",
            "       Val articleType Acc: 88.66%\n",
            "       Val baseColour Acc: 69.40%\n",
            "       Val brand Acc: 52.56%\n",
            "Epoch [6/10]\n",
            "   Train Loss: 2.1476\n",
            "   Val   Loss: 3.5447\n",
            "       Val gender Acc: 94.05%\n",
            "       Val masterCategory Acc: 99.52%\n",
            "       Val usage Acc: 93.80%\n",
            "       Val subCategory Acc: 96.82%\n",
            "       Val articleType Acc: 90.17%\n",
            "       Val baseColour Acc: 70.15%\n",
            "       Val brand Acc: 56.77%\n",
            "Epoch [7/10]\n",
            "   Train Loss: 1.9530\n",
            "   Val   Loss: 3.5067\n",
            "       Val gender Acc: 94.45%\n",
            "       Val masterCategory Acc: 99.55%\n",
            "       Val usage Acc: 93.98%\n",
            "       Val subCategory Acc: 97.03%\n",
            "       Val articleType Acc: 90.37%\n",
            "       Val baseColour Acc: 70.81%\n",
            "       Val brand Acc: 57.63%\n",
            "Epoch [8/10]\n",
            "   Train Loss: 1.8344\n",
            "   Val   Loss: 3.4950\n",
            "       Val gender Acc: 94.71%\n",
            "       Val masterCategory Acc: 99.55%\n",
            "       Val usage Acc: 93.75%\n",
            "       Val subCategory Acc: 97.03%\n",
            "       Val articleType Acc: 90.29%\n",
            "       Val baseColour Acc: 70.56%\n",
            "       Val brand Acc: 58.13%\n",
            "Epoch [9/10]\n",
            "   Train Loss: 1.7317\n",
            "   Val   Loss: 3.4927\n",
            "       Val gender Acc: 94.43%\n",
            "       Val masterCategory Acc: 99.52%\n",
            "       Val usage Acc: 93.82%\n",
            "       Val subCategory Acc: 96.95%\n",
            "       Val articleType Acc: 90.40%\n",
            "       Val baseColour Acc: 70.99%\n",
            "       Val brand Acc: 58.26%\n",
            "Epoch [10/10]\n",
            "   Train Loss: 1.6432\n",
            "   Val   Loss: 3.4931\n",
            "       Val gender Acc: 94.66%\n",
            "       Val masterCategory Acc: 99.55%\n",
            "       Val usage Acc: 93.45%\n",
            "       Val subCategory Acc: 96.98%\n",
            "       Val articleType Acc: 90.35%\n",
            "       Val baseColour Acc: 70.58%\n",
            "       Val brand Acc: 58.89%\n"
          ]
        }
      ]
    },
    {
      "cell_type": "markdown",
      "source": [
        "# VI. ĐÁNH GIÁ TRÊN TEST"
      ],
      "metadata": {
        "id": "xxbC2x5l-vJg"
      }
    },
    {
      "cell_type": "code",
      "source": [
        "test_loss, test_accs = evaluate(model_cnn, test_loader)\n",
        "print(f\"[Test] Loss: {test_loss:.4f}\")\n",
        "for task, acc in test_accs.items():\n",
        "    print(f\"[Test] {task} Accuracy = {acc*100:.2f}%\")"
      ],
      "metadata": {
        "colab": {
          "base_uri": "https://localhost:8080/"
        },
        "id": "cRsmLlxU-sM9",
        "outputId": "23fb5b18-d0db-4955-a049-0c85e6afcf2c"
      },
      "execution_count": null,
      "outputs": [
        {
          "output_type": "stream",
          "name": "stdout",
          "text": [
            "[Test] Loss: 3.4597\n",
            "[Test] gender Accuracy = 93.06%\n",
            "[Test] masterCategory Accuracy = 99.66%\n",
            "[Test] usage Accuracy = 92.92%\n",
            "[Test] subCategory Accuracy = 97.19%\n",
            "[Test] articleType Accuracy = 89.36%\n",
            "[Test] baseColour Accuracy = 71.14%\n",
            "[Test] brand Accuracy = 59.64%\n"
          ]
        }
      ]
    },
    {
      "cell_type": "markdown",
      "source": [
        "# VII. LƯU MODEL"
      ],
      "metadata": {
        "id": "VZMqSasF-xQv"
      }
    },
    {
      "cell_type": "code",
      "source": [
        "torch.save(model_cnn.state_dict(), \"cnn_plus_mlp_multitask_model.pt\")\n",
        "print(\"Model weights saved to cnn_plus_mlp_multitask_model.pt\")"
      ],
      "metadata": {
        "colab": {
          "base_uri": "https://localhost:8080/"
        },
        "id": "f82v-KMT-y7I",
        "outputId": "13d37e7a-47c5-416e-f813-2299253fffe2"
      },
      "execution_count": null,
      "outputs": [
        {
          "output_type": "stream",
          "name": "stdout",
          "text": [
            "Model weights saved to cnn_plus_mlp_multitask_model.pt\n"
          ]
        }
      ]
    },
    {
      "cell_type": "code",
      "source": [
        "def find_best_pdname(\n",
        "    df_all,\n",
        "    pred_brand_str,\n",
        "    pred_gender_str,\n",
        "    pred_usage_str,\n",
        "    pred_base_str,\n",
        "    pred_article_str,\n",
        "    pred_sub_str,\n",
        "    pred_master_str\n",
        "):\n",
        "    \"\"\"\n",
        "    Tìm 1 row trong df_all có 7 cột (brand, gender, usage, baseColour, articleType, subCategory, masterCategory)\n",
        "    khớp/tương đồng nhất với các giá trị đã dự đoán, sau đó trả về productDisplayName.\n",
        "    \"\"\"\n",
        "\n",
        "    best_score = -1\n",
        "    best_pdname = None\n",
        "\n",
        "    for idx, row in df_all.iterrows():\n",
        "        score = 0\n",
        "        # brand\n",
        "        if row[\"brand\"] == pred_brand_str:\n",
        "            score += 1\n",
        "        # gender\n",
        "        if row[\"gender\"] == pred_gender_str:\n",
        "            score += 1\n",
        "        # usage\n",
        "        if row[\"usage\"] == pred_usage_str:\n",
        "            score += 1\n",
        "        # baseColour\n",
        "        if row[\"baseColour\"] == pred_base_str:\n",
        "            score += 1\n",
        "        # articleType\n",
        "        if row[\"articleType\"] == pred_article_str:\n",
        "            score += 1\n",
        "        # subCategory\n",
        "        if row[\"subCategory\"] == pred_sub_str:\n",
        "            score += 1\n",
        "        # masterCategory\n",
        "        if row[\"masterCategory\"] == pred_master_str:\n",
        "            score += 1\n",
        "\n",
        "        if score > best_score:\n",
        "            best_score = score\n",
        "            best_pdname = row[\"productDisplayName\"]\n",
        "\n",
        "    return best_pdname, best_score\n"
      ],
      "metadata": {
        "id": "tk2EXPBsMdNN"
      },
      "execution_count": null,
      "outputs": []
    },
    {
      "cell_type": "code",
      "source": [
        "pred_brand_str  = inv_brand_map[pred_brand_id]\n",
        "pred_gender_str = inv_gender_map[pred_gender_id]\n",
        "pred_usage_str  = inv_usage_map[pred_usage_id]\n",
        "pred_base_str   = inv_base_colour_map[pred_base_id]\n",
        "pred_article_str= inv_article_type_map[pred_article_id]\n",
        "pred_sub_str    = inv_sub_category_map[pred_sub_id]\n",
        "pred_master_str = inv_master_map[pred_master_id]\n",
        "\n",
        "pdname, score = find_best_pdname(\n",
        "    df_all,\n",
        "    pred_brand_str,\n",
        "    pred_gender_str,\n",
        "    pred_usage_str,\n",
        "    pred_base_str,\n",
        "    pred_article_str,\n",
        "    pred_sub_str,\n",
        "    pred_master_str\n",
        ")\n",
        "\n",
        "print(\"Best matched productDisplayName:\", pdname)\n",
        "print(\"Match score =\", score)\n"
      ],
      "metadata": {
        "id": "h-w5hMLHMkgc"
      },
      "execution_count": null,
      "outputs": []
    },
    {
      "cell_type": "markdown",
      "source": [],
      "metadata": {
        "id": "OI0gLBtLAFx1"
      }
    }
  ]
}