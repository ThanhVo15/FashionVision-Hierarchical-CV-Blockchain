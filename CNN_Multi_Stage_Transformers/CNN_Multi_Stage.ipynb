{
  "cells": [
    {
      "cell_type": "markdown",
      "metadata": {
        "id": "pVKDhyDt6wSN"
      },
      "source": [
        "# I. CÀI ĐẶT / IMPORT THƯ VIỆN / LOAD DATA\n"
      ]
    },
    {
      "cell_type": "code",
      "execution_count": 1,
      "metadata": {
        "colab": {
          "base_uri": "https://localhost:8080/"
        },
        "id": "hYIo0CaP62SH",
        "outputId": "7431a394-9698-4726-d85b-f99aad3d7d28"
      },
      "outputs": [
        {
          "name": "stdout",
          "output_type": "stream",
          "text": [
            "Requirement already satisfied: datasets in /home/ailab1/miniconda3/envs/thanh-env/lib/python3.10/site-packages (3.3.2)\n",
            "Requirement already satisfied: accelerate in /home/ailab1/miniconda3/envs/thanh-env/lib/python3.10/site-packages (0.30.1)\n",
            "Requirement already satisfied: evaluate in /home/ailab1/miniconda3/envs/thanh-env/lib/python3.10/site-packages (0.4.3)\n",
            "Requirement already satisfied: torchvision in /home/ailab1/miniconda3/envs/thanh-env/lib/python3.10/site-packages (0.21.0)\n",
            "Requirement already satisfied: filelock in /home/ailab1/miniconda3/envs/thanh-env/lib/python3.10/site-packages (from datasets) (3.16.1)\n",
            "Requirement already satisfied: numpy>=1.17 in /home/ailab1/miniconda3/envs/thanh-env/lib/python3.10/site-packages (from datasets) (1.24.4)\n",
            "Requirement already satisfied: pyarrow>=15.0.0 in /home/ailab1/miniconda3/envs/thanh-env/lib/python3.10/site-packages (from datasets) (19.0.1)\n",
            "Requirement already satisfied: dill<0.3.9,>=0.3.0 in /home/ailab1/miniconda3/envs/thanh-env/lib/python3.10/site-packages (from datasets) (0.3.8)\n",
            "Requirement already satisfied: pandas in /home/ailab1/miniconda3/envs/thanh-env/lib/python3.10/site-packages (from datasets) (1.5.3)\n",
            "Requirement already satisfied: requests>=2.32.2 in /home/ailab1/miniconda3/envs/thanh-env/lib/python3.10/site-packages (from datasets) (2.32.3)\n",
            "Requirement already satisfied: tqdm>=4.66.3 in /home/ailab1/miniconda3/envs/thanh-env/lib/python3.10/site-packages (from datasets) (4.67.1)\n",
            "Requirement already satisfied: xxhash in /home/ailab1/miniconda3/envs/thanh-env/lib/python3.10/site-packages (from datasets) (3.5.0)\n",
            "Requirement already satisfied: multiprocess<0.70.17 in /home/ailab1/miniconda3/envs/thanh-env/lib/python3.10/site-packages (from datasets) (0.70.16)\n",
            "Requirement already satisfied: fsspec<=2024.12.0,>=2023.1.0 in /home/ailab1/miniconda3/envs/thanh-env/lib/python3.10/site-packages (from fsspec[http]<=2024.12.0,>=2023.1.0->datasets) (2024.12.0)\n",
            "Requirement already satisfied: aiohttp in /home/ailab1/miniconda3/envs/thanh-env/lib/python3.10/site-packages (from datasets) (3.11.13)\n",
            "Requirement already satisfied: huggingface-hub>=0.24.0 in /home/ailab1/miniconda3/envs/thanh-env/lib/python3.10/site-packages (from datasets) (0.27.0)\n",
            "Requirement already satisfied: packaging in /home/ailab1/miniconda3/envs/thanh-env/lib/python3.10/site-packages (from datasets) (24.2)\n",
            "Requirement already satisfied: pyyaml>=5.1 in /home/ailab1/miniconda3/envs/thanh-env/lib/python3.10/site-packages (from datasets) (6.0.2)\n",
            "Requirement already satisfied: psutil in /home/ailab1/miniconda3/envs/thanh-env/lib/python3.10/site-packages (from accelerate) (5.9.0)\n",
            "Requirement already satisfied: torch>=1.10.0 in /home/ailab1/miniconda3/envs/thanh-env/lib/python3.10/site-packages (from accelerate) (2.6.0)\n",
            "Requirement already satisfied: safetensors>=0.3.1 in /home/ailab1/miniconda3/envs/thanh-env/lib/python3.10/site-packages (from accelerate) (0.4.5)\n",
            "Requirement already satisfied: pillow!=8.3.*,>=5.3.0 in /home/ailab1/miniconda3/envs/thanh-env/lib/python3.10/site-packages (from torchvision) (11.0.0)\n",
            "Requirement already satisfied: typing-extensions>=4.10.0 in /home/ailab1/miniconda3/envs/thanh-env/lib/python3.10/site-packages (from torch>=1.10.0->accelerate) (4.12.2)\n",
            "Requirement already satisfied: networkx in /home/ailab1/miniconda3/envs/thanh-env/lib/python3.10/site-packages (from torch>=1.10.0->accelerate) (3.4.2)\n",
            "Requirement already satisfied: jinja2 in /home/ailab1/miniconda3/envs/thanh-env/lib/python3.10/site-packages (from torch>=1.10.0->accelerate) (3.1.5)\n",
            "Requirement already satisfied: nvidia-cuda-nvrtc-cu12==12.4.127 in /home/ailab1/miniconda3/envs/thanh-env/lib/python3.10/site-packages (from torch>=1.10.0->accelerate) (12.4.127)\n",
            "Requirement already satisfied: nvidia-cuda-runtime-cu12==12.4.127 in /home/ailab1/miniconda3/envs/thanh-env/lib/python3.10/site-packages (from torch>=1.10.0->accelerate) (12.4.127)\n",
            "Requirement already satisfied: nvidia-cuda-cupti-cu12==12.4.127 in /home/ailab1/miniconda3/envs/thanh-env/lib/python3.10/site-packages (from torch>=1.10.0->accelerate) (12.4.127)\n",
            "Requirement already satisfied: nvidia-cudnn-cu12==9.1.0.70 in /home/ailab1/miniconda3/envs/thanh-env/lib/python3.10/site-packages (from torch>=1.10.0->accelerate) (9.1.0.70)\n",
            "Requirement already satisfied: nvidia-cublas-cu12==12.4.5.8 in /home/ailab1/miniconda3/envs/thanh-env/lib/python3.10/site-packages (from torch>=1.10.0->accelerate) (12.4.5.8)\n",
            "Requirement already satisfied: nvidia-cufft-cu12==11.2.1.3 in /home/ailab1/miniconda3/envs/thanh-env/lib/python3.10/site-packages (from torch>=1.10.0->accelerate) (11.2.1.3)\n",
            "Requirement already satisfied: nvidia-curand-cu12==10.3.5.147 in /home/ailab1/miniconda3/envs/thanh-env/lib/python3.10/site-packages (from torch>=1.10.0->accelerate) (10.3.5.147)\n",
            "Requirement already satisfied: nvidia-cusolver-cu12==11.6.1.9 in /home/ailab1/miniconda3/envs/thanh-env/lib/python3.10/site-packages (from torch>=1.10.0->accelerate) (11.6.1.9)\n",
            "Requirement already satisfied: nvidia-cusparse-cu12==12.3.1.170 in /home/ailab1/miniconda3/envs/thanh-env/lib/python3.10/site-packages (from torch>=1.10.0->accelerate) (12.3.1.170)\n",
            "Requirement already satisfied: nvidia-cusparselt-cu12==0.6.2 in /home/ailab1/miniconda3/envs/thanh-env/lib/python3.10/site-packages (from torch>=1.10.0->accelerate) (0.6.2)\n",
            "Requirement already satisfied: nvidia-nccl-cu12==2.21.5 in /home/ailab1/miniconda3/envs/thanh-env/lib/python3.10/site-packages (from torch>=1.10.0->accelerate) (2.21.5)\n",
            "Requirement already satisfied: nvidia-nvtx-cu12==12.4.127 in /home/ailab1/miniconda3/envs/thanh-env/lib/python3.10/site-packages (from torch>=1.10.0->accelerate) (12.4.127)\n",
            "Requirement already satisfied: nvidia-nvjitlink-cu12==12.4.127 in /home/ailab1/miniconda3/envs/thanh-env/lib/python3.10/site-packages (from torch>=1.10.0->accelerate) (12.4.127)\n",
            "Requirement already satisfied: triton==3.2.0 in /home/ailab1/miniconda3/envs/thanh-env/lib/python3.10/site-packages (from torch>=1.10.0->accelerate) (3.2.0)\n",
            "Requirement already satisfied: sympy==1.13.1 in /home/ailab1/miniconda3/envs/thanh-env/lib/python3.10/site-packages (from torch>=1.10.0->accelerate) (1.13.1)\n",
            "Requirement already satisfied: mpmath<1.4,>=1.1.0 in /home/ailab1/miniconda3/envs/thanh-env/lib/python3.10/site-packages (from sympy==1.13.1->torch>=1.10.0->accelerate) (1.3.0)\n",
            "Requirement already satisfied: aiohappyeyeballs>=2.3.0 in /home/ailab1/miniconda3/envs/thanh-env/lib/python3.10/site-packages (from aiohttp->datasets) (2.5.0)\n",
            "Requirement already satisfied: aiosignal>=1.1.2 in /home/ailab1/miniconda3/envs/thanh-env/lib/python3.10/site-packages (from aiohttp->datasets) (1.3.2)\n",
            "Requirement already satisfied: async-timeout<6.0,>=4.0 in /home/ailab1/miniconda3/envs/thanh-env/lib/python3.10/site-packages (from aiohttp->datasets) (5.0.1)\n",
            "Requirement already satisfied: attrs>=17.3.0 in /home/ailab1/miniconda3/envs/thanh-env/lib/python3.10/site-packages (from aiohttp->datasets) (24.3.0)\n",
            "Requirement already satisfied: frozenlist>=1.1.1 in /home/ailab1/miniconda3/envs/thanh-env/lib/python3.10/site-packages (from aiohttp->datasets) (1.5.0)\n",
            "Requirement already satisfied: multidict<7.0,>=4.5 in /home/ailab1/miniconda3/envs/thanh-env/lib/python3.10/site-packages (from aiohttp->datasets) (6.1.0)\n",
            "Requirement already satisfied: propcache>=0.2.0 in /home/ailab1/miniconda3/envs/thanh-env/lib/python3.10/site-packages (from aiohttp->datasets) (0.3.0)\n",
            "Requirement already satisfied: yarl<2.0,>=1.17.0 in /home/ailab1/miniconda3/envs/thanh-env/lib/python3.10/site-packages (from aiohttp->datasets) (1.18.3)\n",
            "Requirement already satisfied: charset_normalizer<4,>=2 in /home/ailab1/miniconda3/envs/thanh-env/lib/python3.10/site-packages (from requests>=2.32.2->datasets) (3.4.0)\n",
            "Requirement already satisfied: idna<4,>=2.5 in /home/ailab1/miniconda3/envs/thanh-env/lib/python3.10/site-packages (from requests>=2.32.2->datasets) (3.10)\n",
            "Requirement already satisfied: urllib3<3,>=1.21.1 in /home/ailab1/miniconda3/envs/thanh-env/lib/python3.10/site-packages (from requests>=2.32.2->datasets) (2.3.0)\n",
            "Requirement already satisfied: certifi>=2017.4.17 in /home/ailab1/miniconda3/envs/thanh-env/lib/python3.10/site-packages (from requests>=2.32.2->datasets) (2025.1.31)\n",
            "Requirement already satisfied: python-dateutil>=2.8.1 in /home/ailab1/miniconda3/envs/thanh-env/lib/python3.10/site-packages (from pandas->datasets) (2.9.0.post0)\n",
            "Requirement already satisfied: pytz>=2020.1 in /home/ailab1/miniconda3/envs/thanh-env/lib/python3.10/site-packages (from pandas->datasets) (2024.2)\n",
            "Requirement already satisfied: six>=1.5 in /home/ailab1/miniconda3/envs/thanh-env/lib/python3.10/site-packages (from python-dateutil>=2.8.1->pandas->datasets) (1.16.0)\n",
            "Requirement already satisfied: MarkupSafe>=2.0 in /home/ailab1/miniconda3/envs/thanh-env/lib/python3.10/site-packages (from jinja2->torch>=1.10.0->accelerate) (3.0.2)\n"
          ]
        }
      ],
      "source": [
        "!pip install datasets accelerate evaluate torchvision"
      ]
    },
    {
      "cell_type": "code",
      "execution_count": 2,
      "metadata": {
        "id": "-Z4cB_6ZzGGV"
      },
      "outputs": [
        {
          "name": "stderr",
          "output_type": "stream",
          "text": [
            "/home/ailab1/miniconda3/envs/thanh-env/lib/python3.10/site-packages/tqdm/auto.py:21: TqdmWarning: IProgress not found. Please update jupyter and ipywidgets. See https://ipywidgets.readthedocs.io/en/stable/user_install.html\n",
            "  from .autonotebook import tqdm as notebook_tqdm\n"
          ]
        }
      ],
      "source": [
        "import psutil\n",
        "import pandas as pd\n",
        "import numpy as np\n",
        "import matplotlib.pyplot as plt\n",
        "\n",
        "import torch\n",
        "import torch.nn as nn\n",
        "import torch.nn.functional as F\n",
        "import torch.optim as optim\n",
        "from torch.utils.data import DataLoader, Dataset\n",
        "from torchvision import transforms, models\n",
        "\n",
        "from datasets import load_dataset, DatasetDict\n",
        "from datasets import Features, Value, Image\n",
        "# from google.colab import drive\n",
        "# drive.mount('/content/drive', force_remount=True)"
      ]
    },
    {
      "cell_type": "code",
      "execution_count": 3,
      "metadata": {
        "colab": {
          "base_uri": "https://localhost:8080/"
        },
        "id": "FD3JKiX160oz",
        "outputId": "02db7544-bc22-4595-b943-70b4a930f685"
      },
      "outputs": [
        {
          "name": "stdout",
          "output_type": "stream",
          "text": [
            "Available RAM: 24.48 GB\n",
            "CPU count: 56\n"
          ]
        }
      ],
      "source": [
        "# Kiểm tra RAM\n",
        "available_ram = psutil.virtual_memory().available\n",
        "cpu_count = psutil.cpu_count(logical=True)\n",
        "print(f\"Available RAM: {available_ram / (1024**3):.2f} GB\")\n",
        "print(f\"CPU count: {cpu_count}\")"
      ]
    },
    {
      "cell_type": "markdown",
      "metadata": {
        "id": "7Prx00vV67Dv"
      },
      "source": [
        "## 1.1 Tải dataset từ Hugging Face"
      ]
    },
    {
      "cell_type": "code",
      "execution_count": 4,
      "metadata": {
        "colab": {
          "base_uri": "https://localhost:8080/"
        },
        "id": "lwbeRCCB67cA",
        "outputId": "25dbdc55-d4e9-4978-d694-3d30cb159460"
      },
      "outputs": [
        {
          "name": "stderr",
          "output_type": "stream",
          "text": [
            "Generating train split: 100%|██████████| 44072/44072 [00:02<00:00, 20447.23 examples/s]\n"
          ]
        },
        {
          "name": "stdout",
          "output_type": "stream",
          "text": [
            "DatasetDict({\n",
            "    train: Dataset({\n",
            "        features: ['id', 'gender', 'masterCategory', 'subCategory', 'articleType', 'baseColour', 'season', 'year', 'usage', 'productDisplayName', 'image'],\n",
            "        num_rows: 44072\n",
            "    })\n",
            "})\n"
          ]
        }
      ],
      "source": [
        "dataset_dict  = load_dataset(\"ashraq/fashion-product-images-small\")\n",
        "print(dataset_dict)"
      ]
    },
    {
      "cell_type": "code",
      "execution_count": 5,
      "metadata": {
        "id": "tSZW9nK_68yJ"
      },
      "outputs": [],
      "source": [
        "# Dữ liệu gốc: dataset_dict[\"train\"]\n",
        "train_dataset_org = dataset_dict[\"train\"]"
      ]
    },
    {
      "cell_type": "code",
      "execution_count": 6,
      "metadata": {
        "colab": {
          "base_uri": "https://localhost:8080/"
        },
        "id": "47pZwqa66-Ht",
        "outputId": "71cd320a-8a5d-4665-afe3-e78511589e56"
      },
      "outputs": [
        {
          "name": "stdout",
          "output_type": "stream",
          "text": [
            "{'id': 15970, 'gender': 'Men', 'masterCategory': 'Apparel', 'subCategory': 'Topwear', 'articleType': 'Shirts', 'baseColour': 'Navy Blue', 'season': 'Fall', 'year': 2011.0, 'usage': 'Casual', 'productDisplayName': 'Turtle Check Men Navy Blue Shirt', 'image': <PIL.JpegImagePlugin.JpegImageFile image mode=RGB size=60x80 at 0x7FA3485C1270>}\n"
          ]
        }
      ],
      "source": [
        "# Xem thử 1 record\n",
        "print(train_dataset_org[0])"
      ]
    },
    {
      "cell_type": "markdown",
      "metadata": {
        "id": "25MQksSc7FZX"
      },
      "source": [
        "# II. TIỀN XỬ LÝ & CHUẨN BỊ DỮ LIỆU"
      ]
    },
    {
      "cell_type": "markdown",
      "metadata": {
        "id": "h1XNBfe-7ogN"
      },
      "source": [
        "## 2.1 Thêm cột giá (price) minh hoạ"
      ]
    },
    {
      "cell_type": "code",
      "execution_count": 7,
      "metadata": {
        "id": "x4rlg6qV7IaB"
      },
      "outputs": [],
      "source": [
        "def assign_price(masterCategory, subCategory, articleType, year, season, usage):\n",
        "    \"\"\"Giả lập sinh giá tiền dựa trên masterCategory/subCategory/...\"\"\"\n",
        "    import numpy as np\n",
        "    master_price_range = {\n",
        "        'Apparel': (10, 20), 'Accessories': (5, 100), 'Footwear': (20, 200),\n",
        "        'Personal Care': (5, 300), 'Free Items': (0, 5), 'Sporting Goods': (100, 250), 'Home': (100, 300)\n",
        "    }\n",
        "    sub_price_adjustment = {\n",
        "        'Topwear': (5, 50), 'Watches': (30, 150), 'Shoes': (20, 100),\n",
        "        'Bags': (10, 70), 'Fragrance': (5, 80), 'Jewellery': (10, 200)\n",
        "    }\n",
        "    article_price_range = {\n",
        "        'Shirts': (15, 70), 'Watches': (50, 300), 'Sports Shoes': (40, 200),\n",
        "        'Sunglasses': (30, 150), 'Perfumes': (25, 120)\n",
        "    }\n",
        "    # Lấy khoảng giá từ masterCategory\n",
        "    base_min, base_max = master_price_range.get(masterCategory, (10, 100))\n",
        "    # Điều chỉnh theo subCategory\n",
        "    adj_min, adj_max = sub_price_adjustment.get(subCategory, (0, 0))\n",
        "    # Điều chỉnh theo articleType\n",
        "    art_min, art_max = article_price_range.get(articleType, (base_min + adj_min, base_max + adj_max))\n",
        "    # Điều chỉnh năm\n",
        "    if year < 2015:\n",
        "        discount = 0.3\n",
        "    elif year < 2018:\n",
        "        discount = 0.15\n",
        "    else:\n",
        "        discount = 0\n",
        "    final_min = art_min * (1 - discount)\n",
        "    final_max = art_max * (1 - discount)\n",
        "    return round(np.random.uniform(final_min, final_max) * 2500, 0)"
      ]
    },
    {
      "cell_type": "code",
      "execution_count": 8,
      "metadata": {
        "id": "I-gZ7PxP7Khw"
      },
      "outputs": [],
      "source": [
        "def add_price_column(example):\n",
        "    example[\"price_in_vnd\"] = assign_price(\n",
        "        example[\"masterCategory\"],\n",
        "        example[\"subCategory\"],\n",
        "        example[\"articleType\"],\n",
        "        example[\"year\"],\n",
        "        example[\"season\"],\n",
        "        example[\"usage\"]\n",
        "    )\n",
        "    return example"
      ]
    },
    {
      "cell_type": "code",
      "execution_count": 9,
      "metadata": {
        "colab": {
          "base_uri": "https://localhost:8080/"
        },
        "id": "xStJrINo7L5O",
        "outputId": "59b47a42-1f6a-4642-83cb-0bb0400b3823"
      },
      "outputs": [
        {
          "name": "stderr",
          "output_type": "stream",
          "text": [
            "Filter: 100%|██████████| 44072/44072 [00:12<00:00, 3481.63 examples/s]"
          ]
        },
        {
          "name": "stdout",
          "output_type": "stream",
          "text": [
            "Số record có giá trị null: 0\n"
          ]
        },
        {
          "name": "stderr",
          "output_type": "stream",
          "text": [
            "\n"
          ]
        }
      ],
      "source": [
        "# Loại bỏ record null\n",
        "def has_null(example):\n",
        "    return any(val is None for val in example.values())\n",
        "\n",
        "missing_null = dataset_dict[\"train\"].filter(has_null)\n",
        "print(f\"Số record có giá trị null: {len(missing_null)}\")"
      ]
    },
    {
      "cell_type": "code",
      "execution_count": 10,
      "metadata": {
        "id": "0w7n9_Ow7OJX"
      },
      "outputs": [
        {
          "name": "stderr",
          "output_type": "stream",
          "text": [
            "Map: 100%|██████████| 44072/44072 [00:09<00:00, 4473.37 examples/s]\n"
          ]
        }
      ],
      "source": [
        "# Mapped dataset\n",
        "dataset_dict[\"train\"] = dataset_dict[\"train\"].map(add_price_column)"
      ]
    },
    {
      "cell_type": "code",
      "execution_count": 11,
      "metadata": {
        "id": "JTIAI0M87PsI"
      },
      "outputs": [],
      "source": [
        "# Tách train/val/test (10% test, 10% val)\n",
        "train_test_split = dataset_dict['train'].train_test_split(test_size=0.1, seed=42)\n",
        "train_val_split = train_test_split['train'].train_test_split(test_size=0.1, seed=42)"
      ]
    },
    {
      "cell_type": "code",
      "execution_count": 12,
      "metadata": {
        "id": "SbuhncmW7Rbb"
      },
      "outputs": [],
      "source": [
        "final_dataset = DatasetDict({\n",
        "    'train': train_val_split['train'],\n",
        "    'val': train_val_split['test'],\n",
        "    'test': train_test_split['test']\n",
        "})"
      ]
    },
    {
      "cell_type": "code",
      "execution_count": 13,
      "metadata": {
        "id": "vIj1A9bL7S3r"
      },
      "outputs": [],
      "source": [
        "train_dataset = final_dataset[\"train\"]\n",
        "val_dataset   = final_dataset[\"val\"]\n",
        "test_dataset  = final_dataset[\"test\"]"
      ]
    },
    {
      "cell_type": "code",
      "execution_count": 14,
      "metadata": {
        "id": "5ey_UG3E7UXu"
      },
      "outputs": [],
      "source": [
        "# Định nghĩa features (để cast)\n",
        "features = Features({\n",
        "    'id': Value('int64'),\n",
        "    'gender': Value('string'),\n",
        "    'masterCategory': Value('string'),\n",
        "    'subCategory': Value('string'),\n",
        "    'articleType': Value('string'),\n",
        "    'baseColour': Value('string'),\n",
        "    'season': Value('string'),\n",
        "    'year': Value('int64'),\n",
        "    'usage': Value('string'),\n",
        "    'productDisplayName': Value('string'),\n",
        "    'image': Image(),\n",
        "    'price_in_vnd': Value('int64')\n",
        "})"
      ]
    },
    {
      "cell_type": "code",
      "execution_count": 15,
      "metadata": {
        "id": "ypzZ4WjJ7WIv"
      },
      "outputs": [
        {
          "name": "stderr",
          "output_type": "stream",
          "text": [
            "Casting the dataset: 100%|██████████| 35697/35697 [00:09<00:00, 3604.34 examples/s]\n",
            "Casting the dataset: 100%|██████████| 3967/3967 [00:00<00:00, 4234.47 examples/s]\n",
            "Casting the dataset: 100%|██████████| 4408/4408 [00:01<00:00, 4044.92 examples/s]\n"
          ]
        }
      ],
      "source": [
        "train_dataset = train_dataset.cast(features)\n",
        "val_dataset   = val_dataset.cast(features)\n",
        "test_dataset  = test_dataset.cast(features)"
      ]
    },
    {
      "cell_type": "markdown",
      "metadata": {
        "id": "iMgZLvTc7lLd"
      },
      "source": [
        "## 2.2 Tạo cột brand (chỉ số hoá) từ 'productDisplayName' + 'gender'"
      ]
    },
    {
      "cell_type": "code",
      "execution_count": 16,
      "metadata": {
        "id": "mfUJSsSG7g5k"
      },
      "outputs": [],
      "source": [
        "def extract_brand(name, gender):\n",
        "    # Ví dụ: tách brand bằng cách lấy chuỗi trước từ \"gender\"\n",
        "    name_lower   = name.lower()\n",
        "    gender_lower = gender.lower()\n",
        "    tokens       = name.split(\" \")\n",
        "    tokens_lower = name_lower.split(\" \")\n",
        "    if gender_lower in tokens_lower:\n",
        "        idx = tokens_lower.index(gender_lower)\n",
        "        brand_tokens = tokens[:idx]\n",
        "        brand = \" \".join(brand_tokens).replace(\"by\",\"\").strip()\n",
        "        return brand\n",
        "    else:\n",
        "        return tokens[0]\n"
      ]
    },
    {
      "cell_type": "code",
      "execution_count": 17,
      "metadata": {
        "id": "hIfYeU8k7sJ0"
      },
      "outputs": [],
      "source": [
        "def build_brand_mapping(dataset):\n",
        "    brands = []\n",
        "    for name, gender in zip(dataset[\"productDisplayName\"], dataset[\"gender\"]):\n",
        "        brands.append(extract_brand(name, gender))\n",
        "    unique_brands = sorted(list(set(brands)))\n",
        "    mapping = {brand: idx for idx, brand in enumerate(unique_brands)}\n",
        "    inv_mapping = {idx: brand for brand, idx in mapping.items()}\n",
        "    return mapping, inv_mapping"
      ]
    },
    {
      "cell_type": "code",
      "execution_count": 18,
      "metadata": {
        "id": "fb2QPAK37udm"
      },
      "outputs": [],
      "source": [
        "def build_mapping(dataset, col):\n",
        "    unique_labels = dataset.unique(col)\n",
        "    unique_labels.sort()\n",
        "    mapping = {label: idx for idx, label in enumerate(unique_labels)}\n",
        "    inv_mapping = {idx: label for label, idx in mapping.items()}\n",
        "    return mapping, inv_mapping"
      ]
    },
    {
      "cell_type": "code",
      "execution_count": 19,
      "metadata": {
        "id": "NnRgylto7v3p"
      },
      "outputs": [],
      "source": [
        "# Sinh mapping dựa trên FULL dataset gốc (train_dataset_org) hoặc tuỳ\n",
        "gender_map, inv_gender_map           = build_mapping(train_dataset_org, \"gender\")\n",
        "master_category_map, inv_master_map  = build_mapping(train_dataset_org, \"masterCategory\")\n",
        "sub_category_map, inv_sub_cat_map    = build_mapping(train_dataset_org, \"subCategory\")\n",
        "article_type_map, inv_article_type_map    = build_mapping(train_dataset_org, \"articleType\")\n",
        "base_colour_map, inv_base_colour_map = build_mapping(train_dataset_org, \"baseColour\")\n",
        "usage_map, inv_usage_map             = build_mapping(train_dataset_org, \"usage\")\n",
        "brand_map, inv_brand_map             = build_brand_mapping(train_dataset_org)"
      ]
    },
    {
      "cell_type": "code",
      "execution_count": 20,
      "metadata": {
        "id": "MC5CRSBe72E5"
      },
      "outputs": [],
      "source": [
        "def update_categorical(example):\n",
        "    # Thay thế string bằng ID\n",
        "    example[\"gender\"]         = gender_map[example[\"gender\"]]\n",
        "    example[\"masterCategory\"] = master_category_map[example[\"masterCategory\"]]\n",
        "    example[\"subCategory\"]    = sub_category_map[example[\"subCategory\"]]\n",
        "    example[\"articleType\"]    = article_type_map[example[\"articleType\"]]\n",
        "    example[\"baseColour\"]     = base_colour_map[example[\"baseColour\"]]\n",
        "    example[\"usage\"]          = usage_map[example[\"usage\"]]\n",
        "    # brand\n",
        "    extracted          = extract_brand(example[\"productDisplayName\"], inv_gender_map[example[\"gender\"]])\n",
        "    example[\"brand\"]   = brand_map.get(extracted, -1)  # -1 nếu ko match\n",
        "    return example"
      ]
    },
    {
      "cell_type": "code",
      "execution_count": 21,
      "metadata": {
        "id": "jGm6ixzX73dc"
      },
      "outputs": [
        {
          "name": "stderr",
          "output_type": "stream",
          "text": [
            "Map: 100%|██████████| 35697/35697 [00:08<00:00, 4442.91 examples/s]\n",
            "Map: 100%|██████████| 3967/3967 [00:01<00:00, 3503.99 examples/s]\n",
            "Map: 100%|██████████| 4408/4408 [00:01<00:00, 3517.09 examples/s]\n"
          ]
        }
      ],
      "source": [
        "train_dataset = train_dataset.map(update_categorical)\n",
        "val_dataset   = val_dataset.map(update_categorical)\n",
        "test_dataset  = test_dataset.map(update_categorical)"
      ]
    },
    {
      "cell_type": "code",
      "execution_count": 22,
      "metadata": {
        "id": "NJoqoKKt76pT"
      },
      "outputs": [],
      "source": [
        "from sklearn.preprocessing import MinMaxScaler\n",
        "min_max_scaler = MinMaxScaler()\n",
        "\n",
        "def scale_dataset(ds, scaler):\n",
        "    arr = np.array([ds[col] for col in [\"year\",\"price_in_vnd\"]]).T\n",
        "    scaled = scaler.transform(arr)\n",
        "    def f(ex, idx):\n",
        "        return {\n",
        "            \"year\": scaled[idx][0],\n",
        "            \"price_in_vnd\": scaled[idx][1]\n",
        "        }\n",
        "    ds = ds.map(f, with_indices=True)\n",
        "    return ds\n",
        "\n",
        "# Fit scaler trên train\n",
        "arr_train = np.array([train_dataset[col] for col in [\"year\",\"price_in_vnd\"]]).T\n",
        "scaled_train = min_max_scaler.fit_transform(arr_train)"
      ]
    },
    {
      "cell_type": "code",
      "execution_count": 23,
      "metadata": {
        "id": "2tba-nbj77Kh"
      },
      "outputs": [
        {
          "name": "stderr",
          "output_type": "stream",
          "text": [
            "Map: 100%|██████████| 35697/35697 [00:05<00:00, 6129.24 examples/s]\n",
            "Map: 100%|██████████| 3967/3967 [00:00<00:00, 4148.47 examples/s]\n",
            "Map: 100%|██████████| 4408/4408 [00:00<00:00, 5424.75 examples/s]\n"
          ]
        }
      ],
      "source": [
        "def f_train(ex, idx):\n",
        "    return {\n",
        "        \"year\": scaled_train[idx][0],\n",
        "        \"price_in_vnd\": scaled_train[idx][1]\n",
        "    }\n",
        "train_dataset = train_dataset.map(f_train, with_indices=True)\n",
        "\n",
        "# Transform val, test\n",
        "val_dataset  = scale_dataset(val_dataset, min_max_scaler)\n",
        "test_dataset = scale_dataset(test_dataset, min_max_scaler)"
      ]
    },
    {
      "cell_type": "code",
      "execution_count": 24,
      "metadata": {
        "id": "0jCQUfL37_wd"
      },
      "outputs": [
        {
          "name": "stderr",
          "output_type": "stream",
          "text": [
            "Map: 100%|██████████| 35697/35697 [00:06<00:00, 5238.52 examples/s]\n",
            "Map: 100%|██████████| 3967/3967 [00:00<00:00, 4432.20 examples/s]\n",
            "Map: 100%|██████████| 4408/4408 [00:00<00:00, 4705.34 examples/s]\n"
          ]
        }
      ],
      "source": [
        "# Encode season thủ công\n",
        "season_mapping = {'Spring': 0, 'Summer': 1, 'Fall': 2, 'Winter': 3}\n",
        "train_dataset = train_dataset.map(lambda x: {'season': season_mapping[x['season']]})\n",
        "val_dataset   = val_dataset.map(lambda x: {'season': season_mapping[x['season']]})\n",
        "test_dataset  = test_dataset.map(lambda x: {'season': season_mapping[x['season']]})\n"
      ]
    },
    {
      "cell_type": "code",
      "execution_count": 25,
      "metadata": {
        "id": "_ozfyYgO8Bce"
      },
      "outputs": [],
      "source": [
        "# Bỏ cột productDisplayName nếu muốn (đỡ cồng kềnh)\n",
        "train_dataset = train_dataset.remove_columns([\"productDisplayName\"])\n",
        "val_dataset   = val_dataset.remove_columns([\"productDisplayName\"])\n",
        "test_dataset  = test_dataset.remove_columns([\"productDisplayName\"])\n"
      ]
    },
    {
      "cell_type": "code",
      "execution_count": 26,
      "metadata": {
        "colab": {
          "base_uri": "https://localhost:8080/"
        },
        "id": "3CXYANi28hOq",
        "outputId": "c2e567be-d006-4046-bcd7-2a7642d90d22"
      },
      "outputs": [
        {
          "data": {
            "text/plain": [
              "{'id': Value(dtype='int64', id=None),\n",
              " 'gender': Value(dtype='int64', id=None),\n",
              " 'masterCategory': Value(dtype='int64', id=None),\n",
              " 'subCategory': Value(dtype='int64', id=None),\n",
              " 'articleType': Value(dtype='int64', id=None),\n",
              " 'baseColour': Value(dtype='int64', id=None),\n",
              " 'season': Value(dtype='int64', id=None),\n",
              " 'year': Value(dtype='float64', id=None),\n",
              " 'usage': Value(dtype='int64', id=None),\n",
              " 'image': Image(mode=None, decode=True, id=None),\n",
              " 'price_in_vnd': Value(dtype='float64', id=None),\n",
              " 'brand': Value(dtype='int64', id=None)}"
            ]
          },
          "execution_count": 26,
          "metadata": {},
          "output_type": "execute_result"
        }
      ],
      "source": [
        "train_dataset.features"
      ]
    },
    {
      "cell_type": "code",
      "execution_count": 27,
      "metadata": {
        "colab": {
          "base_uri": "https://localhost:8080/"
        },
        "id": "Mup4Raz08Ezh",
        "outputId": "c548c5dc-c711-47fb-a36b-c2dbbe8a377c"
      },
      "outputs": [
        {
          "name": "stdout",
          "output_type": "stream",
          "text": [
            "Train sample: {'id': 32762, 'gender': 2, 'masterCategory': 1, 'subCategory': 38, 'articleType': 103, 'baseColour': 2, 'season': 1, 'year': 0.4166666666666572, 'usage': 2, 'image': <PIL.JpegImagePlugin.JpegImageFile image mode=RGB size=60x80 at 0x7FA31430E680>, 'price_in_vnd': 0.14414646629250383, 'brand': 405}\n"
          ]
        }
      ],
      "source": [
        "print(\"Train sample:\", train_dataset[0])"
      ]
    },
    {
      "cell_type": "markdown",
      "metadata": {
        "id": "iE-mVXP-8IUN"
      },
      "source": [
        "# III. CHUẨN BỊ DataLoader"
      ]
    },
    {
      "cell_type": "code",
      "execution_count": 28,
      "metadata": {
        "id": "2PZZthu_8GIJ"
      },
      "outputs": [],
      "source": [
        "import torchvision.transforms as transforms\n",
        "\n",
        "train_transform = transforms.Compose([\n",
        "    transforms.Resize((224, 224)),          # Resize về 224x224\n",
        "    transforms.RandomHorizontalFlip(p=0.5), # Lật ngang ngẫu nhiên 50%\n",
        "    transforms.ToTensor(),\n",
        "    transforms.RandomRotation(degrees=15),  # Xoay ±15 độ\n",
        "    transforms.ColorJitter(brightness=0.2, contrast=0.2, saturation=0.2, hue=0.1), # Biến đổi màu sắc\n",
        "    transforms.RandomResizedCrop(224, scale=(0.8, 1.0)), # Crop ngẫu nhiên rồi resize về 224x224\n",
        "    transforms.RandomAffine(degrees=0, translate=(0.1, 0.1)), # Dịch chuyển ngẫu nhiên ±10% ảnh\n",
        "    transforms.RandomErasing(p=0.5, scale=(0.02, 0.2), ratio=(0.3, 3.3)), # Cắt xóa vùng ảnh ngẫu nhiên\n",
        "    transforms.Normalize(mean=[0.485, 0.456, 0.406], std=[0.229, 0.224, 0.225]), # Chuẩn hóa theo ImageNet\n",
        "])\n",
        "\n",
        "val_test_transform = transforms.Compose([\n",
        "    transforms.Resize((224, 224)),\n",
        "    transforms.ToTensor(),\n",
        "    transforms.Normalize(mean=[0.485, 0.456, 0.406], std=[0.229, 0.224, 0.225]),\n",
        "])\n"
      ]
    },
    {
      "cell_type": "code",
      "execution_count": 29,
      "metadata": {
        "id": "lGEORec99JOr"
      },
      "outputs": [],
      "source": [
        "class FashionDataset(Dataset):\n",
        "    \"\"\"\n",
        "    Dataset trả về (image_tensor, numeric_tensor, labels_dict)\n",
        "    \"\"\"\n",
        "    def __init__(self, hf_dataset, transform=None):\n",
        "        self.dataset = hf_dataset\n",
        "        self.transform = transform\n",
        "\n",
        "    def __len__(self):\n",
        "        return len(self.dataset)\n",
        "\n",
        "    def __getitem__(self, idx):\n",
        "        item = self.dataset[idx]\n",
        "        # 1) Ảnh\n",
        "        image = item[\"image\"].convert(\"RGB\")\n",
        "        if self.transform:\n",
        "            image = self.transform(image)\n",
        "\n",
        "        # 2) Numeric features (season, year, price_in_vnd)\n",
        "        #    -> float tensor\n",
        "        #    -> Bạn có thể thêm bớt cột tuỳ ý\n",
        "        numeric_features = [\n",
        "            item[\"season\"],       # float\n",
        "            item[\"year\"],         # float (đã scale)\n",
        "            item[\"price_in_vnd\"]  # float (đã scale)\n",
        "        ]\n",
        "        numeric_features = torch.tensor(numeric_features, dtype=torch.float)\n",
        "\n",
        "        # 3) Labels (7 đầu ra multi-task)\n",
        "        labels = {}\n",
        "        labels[\"gender\"]         = torch.tensor(item[\"gender\"], dtype=torch.long)\n",
        "        labels[\"masterCategory\"] = torch.tensor(item[\"masterCategory\"], dtype=torch.long)\n",
        "        labels[\"usage\"]          = torch.tensor(item[\"usage\"], dtype=torch.long)\n",
        "        labels[\"subCategory\"]    = torch.tensor(item[\"subCategory\"], dtype=torch.long)\n",
        "        labels[\"articleType\"]    = torch.tensor(item[\"articleType\"], dtype=torch.long)\n",
        "        labels[\"baseColour\"]     = torch.tensor(item[\"baseColour\"], dtype=torch.long)\n",
        "        labels[\"brand\"]          = torch.tensor(item[\"brand\"], dtype=torch.long)\n",
        "\n",
        "        return image, numeric_features, labels"
      ]
    },
    {
      "cell_type": "code",
      "execution_count": 30,
      "metadata": {
        "id": "sy7y2JvR9VhA"
      },
      "outputs": [],
      "source": [
        "# Tạo Torch Dataset & DataLoader\n",
        "train_torch_dataset = FashionDataset(train_dataset, transform=train_transform)\n",
        "val_torch_dataset   = FashionDataset(val_dataset,   transform=val_test_transform)\n",
        "test_torch_dataset  = FashionDataset(test_dataset,  transform=val_test_transform)"
      ]
    },
    {
      "cell_type": "code",
      "execution_count": 31,
      "metadata": {
        "colab": {
          "base_uri": "https://localhost:8080/"
        },
        "id": "hFFxsZEs9XIu",
        "outputId": "866e247c-93aa-4ec4-85f1-ce6dec272552"
      },
      "outputs": [
        {
          "name": "stdout",
          "output_type": "stream",
          "text": [
            "Số batch train: 1116 Số batch val: 124\n"
          ]
        }
      ],
      "source": [
        "train_loader = DataLoader(train_torch_dataset, batch_size=32, shuffle=True,  num_workers=0)\n",
        "val_loader   = DataLoader(val_torch_dataset,   batch_size=32, shuffle=False, num_workers=0)\n",
        "test_loader  = DataLoader(test_torch_dataset,  batch_size=32, shuffle=False, num_workers=0)\n",
        "\n",
        "print(\"Số batch train:\", len(train_loader), \"Số batch val:\", len(val_loader))"
      ]
    },
    {
      "cell_type": "markdown",
      "metadata": {
        "id": "rik_9fBk9iRc"
      },
      "source": [
        "# IV. XÂY DỰNG CNN + MLP = FUSION MULTI-HEAD"
      ]
    },
    {
      "cell_type": "code",
      "execution_count": 32,
      "metadata": {
        "colab": {
          "base_uri": "https://localhost:8080/"
        },
        "id": "XyW7muXH-GBO",
        "outputId": "be9bfdce-3125-45c6-efec-50748aefaf74"
      },
      "outputs": [
        {
          "name": "stdout",
          "output_type": "stream",
          "text": [
            "num_gender 5\n",
            "num_master 7\n",
            "num_usage 8\n",
            "num_subcategory 45\n",
            "num_article 141\n",
            "num_basecolour 46\n",
            "num_brand 817\n"
          ]
        }
      ],
      "source": [
        "num_gender         = len(gender_map)         # 5\n",
        "num_master         = len(master_category_map)# 7\n",
        "num_usage          = len(usage_map)          # 8\n",
        "num_subcategory    = len(sub_category_map)   # 45\n",
        "num_article        = len(article_type_map)   # 142\n",
        "num_basecolour     = len(base_colour_map)    # 46\n",
        "num_brand          = len(brand_map)          # ~820 (tuỳ dataset)\n",
        "num_sub = len(sub_category_map)\n",
        "num_article = len(article_type_map)\n",
        "num_base = len(base_colour_map)\n",
        "num_brand = len(brand_map)\n",
        "\n",
        "# Hoặc in ra cho chắc:\n",
        "print(\"num_gender\", num_gender)\n",
        "print(\"num_master\", num_master)\n",
        "print(\"num_usage\",  num_usage)\n",
        "print(\"num_subcategory\", num_subcategory)\n",
        "print(\"num_article\", num_article)\n",
        "print(\"num_basecolour\", num_basecolour)\n",
        "print(\"num_brand\", num_brand)"
      ]
    },
    {
      "cell_type": "code",
      "execution_count": 33,
      "metadata": {
        "id": "2JRs3bEF9jwZ"
      },
      "outputs": [],
      "source": [
        "import torch\n",
        "import torch.nn as nn\n",
        "import torch.nn.functional as F\n",
        "from torchvision import models\n",
        "\n",
        "class EndToEndHierarchicalModel(nn.Module):\n",
        "    def __init__(\n",
        "        self,\n",
        "        # Số lớp cho từng task:\n",
        "        num_gender, num_master, num_usage,\n",
        "        num_sub, num_article, num_base,\n",
        "        num_brand,\n",
        "        pretrained=True,\n",
        "        mlp_hidden=32,\n",
        "        embed_dim=16,\n",
        "        teacher_forcing_p=0.5\n",
        "    ):\n",
        "        super().__init__()\n",
        "        self.teacher_forcing_p = teacher_forcing_p\n",
        "\n",
        "        # 1) Backbone CNN (ResNet18)\n",
        "        self.backbone = models.resnet18(pretrained=pretrained)\n",
        "        backbone_out = self.backbone.fc.in_features\n",
        "        self.backbone.fc = nn.Identity()\n",
        "\n",
        "        # 2) MLP numeric (3 input: [season, year, price])\n",
        "        self.mlp = nn.Sequential(\n",
        "            nn.Linear(3, mlp_hidden),\n",
        "            nn.ReLU(),\n",
        "            nn.Dropout(0.1),    # Gợi ý: thêm dropout\n",
        "            nn.Linear(mlp_hidden, mlp_hidden),\n",
        "            nn.BatchNorm1d(mlp_hidden),  # Gợi ý: thêm batchnorm\n",
        "            nn.ReLU()\n",
        "        )\n",
        "\n",
        "        self.base_feat_dim = backbone_out + mlp_hidden\n",
        "\n",
        "        # ---------- Stage 1 ----------\n",
        "        self.head_gender = nn.Linear(self.base_feat_dim, num_gender)\n",
        "        self.head_master = nn.Linear(self.base_feat_dim, num_master)\n",
        "        self.head_usage  = nn.Linear(self.base_feat_dim, num_usage)\n",
        "\n",
        "        self.embed_gender = nn.Embedding(num_gender, embed_dim)\n",
        "        self.embed_master = nn.Embedding(num_master, embed_dim)\n",
        "        self.embed_usage  = nn.Embedding(num_usage,  embed_dim)\n",
        "\n",
        "        # ---------- Stage 2 ----------\n",
        "        stage1_embed_total = 3 * embed_dim\n",
        "        stage2_input_dim = self.base_feat_dim + stage1_embed_total\n",
        "\n",
        "        self.head_sub     = nn.Linear(stage2_input_dim, num_sub)\n",
        "        self.head_article = nn.Linear(stage2_input_dim, num_article)\n",
        "        self.head_base    = nn.Linear(stage2_input_dim, num_base)\n",
        "\n",
        "        self.embed_sub     = nn.Embedding(num_sub,     embed_dim)\n",
        "        self.embed_article = nn.Embedding(num_article, embed_dim)\n",
        "        self.embed_base    = nn.Embedding(num_base,    embed_dim)\n",
        "\n",
        "        # ---------- Stage 3 ----------\n",
        "        stage2_embed_total = 3 * embed_dim\n",
        "        stage3_input_dim   = self.base_feat_dim + stage1_embed_total + stage2_embed_total\n",
        "        self.head_brand = nn.Linear(stage3_input_dim, num_brand)\n",
        "\n",
        "    def forward(self, images, numeric_data=None, labels=None):\n",
        "        \"\"\"\n",
        "        images: [B, 3, 224, 224]\n",
        "        numeric_data: [B, 3] hoặc None\n",
        "        labels: dict (hoặc None)\n",
        "        \"\"\"\n",
        "        batch_size = images.size(0)\n",
        "\n",
        "        # 1) CNN\n",
        "        cnn_feat = self.backbone(images)\n",
        "\n",
        "        # 2) Xử lý numeric_data = None\n",
        "        if numeric_data is None:\n",
        "            # Nếu user không cung cấp => ta tạo tensor zero\n",
        "            numeric_data = torch.zeros(batch_size, 3, device=images.device)\n",
        "\n",
        "        mlp_feat = self.mlp(numeric_data)\n",
        "        base_feat = torch.cat([cnn_feat, mlp_feat], dim=1)  # [B, base_feat_dim]\n",
        "\n",
        "        # =================== STAGE 1 ===================\n",
        "        out_gender = self.head_gender(base_feat)\n",
        "        out_master = self.head_master(base_feat)\n",
        "        out_usage  = self.head_usage(base_feat)\n",
        "\n",
        "        pred_gender_id = torch.argmax(out_gender, dim=1)\n",
        "        pred_master_id = torch.argmax(out_master, dim=1)\n",
        "        pred_usage_id  = torch.argmax(out_usage,  dim=1)\n",
        "\n",
        "        # Mixed Teacher Forcing Stage 1\n",
        "        if (labels is not None) and self.training:\n",
        "            gt_gender_id = labels[\"gender\"]\n",
        "            gt_master_id = labels[\"masterCategory\"]\n",
        "            gt_usage_id  = labels[\"usage\"]\n",
        "\n",
        "            tf_mask = torch.rand(batch_size, device=images.device) < self.teacher_forcing_p\n",
        "\n",
        "            used_gender_id = torch.where(tf_mask, gt_gender_id, pred_gender_id)\n",
        "            used_master_id = torch.where(tf_mask, gt_master_id, pred_master_id)\n",
        "            used_usage_id  = torch.where(tf_mask, gt_usage_id,  pred_usage_id)\n",
        "        else:\n",
        "            used_gender_id = pred_gender_id\n",
        "            used_master_id = pred_master_id\n",
        "            used_usage_id  = pred_usage_id\n",
        "\n",
        "        embed_g = self.embed_gender(used_gender_id)\n",
        "        embed_m = self.embed_master(used_master_id)\n",
        "        embed_u = self.embed_usage(used_usage_id)\n",
        "        stage1_embed = torch.cat([embed_g, embed_m, embed_u], dim=1)\n",
        "\n",
        "        # =================== STAGE 2 ===================\n",
        "        stage2_input = torch.cat([base_feat, stage1_embed], dim=1)\n",
        "        out_sub     = self.head_sub(stage2_input)\n",
        "        out_article = self.head_article(stage2_input)\n",
        "        out_base    = self.head_base(stage2_input)\n",
        "\n",
        "        pred_sub_id     = torch.argmax(out_sub,     dim=1)\n",
        "        pred_article_id = torch.argmax(out_article, dim=1)\n",
        "        pred_base_id    = torch.argmax(out_base,    dim=1)\n",
        "\n",
        "        if (labels is not None) and self.training:\n",
        "            gt_sub_id     = labels[\"subCategory\"]\n",
        "            gt_article_id = labels[\"articleType\"]\n",
        "            gt_base_id    = labels[\"baseColour\"]\n",
        "\n",
        "            tf_mask2 = torch.rand(batch_size, device=images.device) < self.teacher_forcing_p\n",
        "\n",
        "            used_sub_id     = torch.where(tf_mask2, gt_sub_id,     pred_sub_id)\n",
        "            used_article_id = torch.where(tf_mask2, gt_article_id, pred_article_id)\n",
        "            used_base_id    = torch.where(tf_mask2, gt_base_id,    pred_base_id)\n",
        "        else:\n",
        "            used_sub_id     = pred_sub_id\n",
        "            used_article_id = pred_article_id\n",
        "            used_base_id    = pred_base_id\n",
        "\n",
        "        embed_s = self.embed_sub(used_sub_id)\n",
        "        embed_a = self.embed_article(used_article_id)\n",
        "        embed_b = self.embed_base(used_base_id)\n",
        "        stage2_embed = torch.cat([embed_s, embed_a, embed_b], dim=1)\n",
        "\n",
        "        # =================== STAGE 3 ===================\n",
        "        stage3_input = torch.cat([base_feat, stage1_embed, stage2_embed], dim=1)\n",
        "        out_brand = self.head_brand(stage3_input)\n",
        "\n",
        "        outputs = {\n",
        "            \"gender\":         out_gender,\n",
        "            \"masterCategory\": out_master,\n",
        "            \"usage\":          out_usage,\n",
        "            \"subCategory\":    out_sub,\n",
        "            \"articleType\":    out_article,\n",
        "            \"baseColour\":     out_base,\n",
        "            \"brand\":          out_brand\n",
        "        }\n",
        "        return outputs\n"
      ]
    },
    {
      "cell_type": "code",
      "execution_count": 34,
      "metadata": {
        "id": "m9EiAwsgEzCY"
      },
      "outputs": [],
      "source": [
        "def hierarchical_loss(outputs, labels):\n",
        "    \"\"\"\n",
        "    Tính loss = trung bình loss 3 stage.\n",
        "    Stage 1: (gender, masterCategory, usage)\n",
        "    Stage 2: (subCategory, articleType, baseColour)\n",
        "    Stage 3: (brand)\n",
        "    \"\"\"\n",
        "    # Stage 1\n",
        "    loss_s1 = (\n",
        "        F.cross_entropy(outputs[\"gender\"],         labels[\"gender\"]) +\n",
        "        F.cross_entropy(outputs[\"masterCategory\"], labels[\"masterCategory\"]) +\n",
        "        F.cross_entropy(outputs[\"usage\"],          labels[\"usage\"])\n",
        "    ) / 3.0\n",
        "\n",
        "    # Stage 2\n",
        "    loss_s2 = (\n",
        "        F.cross_entropy(outputs[\"subCategory\"],    labels[\"subCategory\"]) +\n",
        "        F.cross_entropy(outputs[\"articleType\"],    labels[\"articleType\"]) +\n",
        "        F.cross_entropy(outputs[\"baseColour\"],     labels[\"baseColour\"])\n",
        "    ) / 3.0\n",
        "\n",
        "    # Stage 3\n",
        "    loss_s3 = F.cross_entropy(outputs[\"brand\"], labels[\"brand\"])\n",
        "\n",
        "    # Trung bình stage 1,2,3\n",
        "    loss_total = (loss_s1 + loss_s2 + loss_s3) / 3.0\n",
        "    return loss_total\n"
      ]
    },
    {
      "cell_type": "code",
      "execution_count": 35,
      "metadata": {
        "id": "tdTBLYtW9n1c"
      },
      "outputs": [],
      "source": [
        "# Khởi tạo model\n",
        "device = torch.device(\"cuda\" if torch.cuda.is_available() else \"cpu\")"
      ]
    },
    {
      "cell_type": "code",
      "execution_count": 36,
      "metadata": {
        "colab": {
          "base_uri": "https://localhost:8080/"
        },
        "id": "aZSZ8m3d9p4P",
        "outputId": "88c15d9a-a1ee-47c8-c245-1df5f8f7c7e4"
      },
      "outputs": [
        {
          "name": "stderr",
          "output_type": "stream",
          "text": [
            "/home/ailab1/miniconda3/envs/thanh-env/lib/python3.10/site-packages/torchvision/models/_utils.py:208: UserWarning: The parameter 'pretrained' is deprecated since 0.13 and may be removed in the future, please use 'weights' instead.\n",
            "  warnings.warn(\n",
            "/home/ailab1/miniconda3/envs/thanh-env/lib/python3.10/site-packages/torchvision/models/_utils.py:223: UserWarning: Arguments other than a weight enum or `None` for 'weights' are deprecated since 0.13 and may be removed in the future. The current behavior is equivalent to passing `weights=ResNet18_Weights.IMAGENET1K_V1`. You can also use `weights=ResNet18_Weights.DEFAULT` to get the most up-to-date weights.\n",
            "  warnings.warn(msg)\n",
            "Downloading: \"https://download.pytorch.org/models/resnet18-f37072fd.pth\" to /home/ailab1/.cache/torch/hub/checkpoints/resnet18-f37072fd.pth\n",
            "100%|██████████| 44.7M/44.7M [00:10<00:00, 4.48MB/s]\n"
          ]
        }
      ],
      "source": [
        "model = EndToEndHierarchicalModel(\n",
        "    num_gender, num_master, num_usage,\n",
        "    num_sub, num_article, num_base,\n",
        "    num_brand,\n",
        "    pretrained=True,\n",
        "    mlp_hidden=32,\n",
        "    embed_dim=16,\n",
        "    teacher_forcing_p=0.5\n",
        ").to(device)"
      ]
    },
    {
      "cell_type": "markdown",
      "metadata": {
        "id": "0pNMNFMD-PL3"
      },
      "source": [
        "# V. TRAINING LOOP"
      ]
    },
    {
      "cell_type": "code",
      "execution_count": 37,
      "metadata": {
        "id": "gHdPMuie9rqv"
      },
      "outputs": [],
      "source": [
        "optimizer = optim.Adam(model.parameters(), lr=1e-4)\n",
        "scheduler = optim.lr_scheduler.StepLR(optimizer, step_size=5, gamma=0.1)"
      ]
    },
    {
      "cell_type": "code",
      "execution_count": 38,
      "metadata": {
        "id": "pl0Kxbou-STk"
      },
      "outputs": [],
      "source": [
        "def multi_task_loss(outputs, labels):\n",
        "    total_loss = 0\n",
        "    for key in labels:\n",
        "        total_loss += F.cross_entropy(outputs[key], labels[key])\n",
        "    return total_loss"
      ]
    },
    {
      "cell_type": "code",
      "execution_count": 39,
      "metadata": {
        "id": "_lbEyfKL-XUL"
      },
      "outputs": [],
      "source": [
        "def train_one_epoch(model, dataloader, optimizer):\n",
        "    model.train()\n",
        "    total_loss = 0\n",
        "    for images, numeric_data, labels_dict in dataloader:\n",
        "        images = images.to(device)\n",
        "        numeric_data = numeric_data.to(device)\n",
        "        for k in labels_dict:\n",
        "            labels_dict[k] = labels_dict[k].to(device)\n",
        "\n",
        "        optimizer.zero_grad()\n",
        "        outputs = model(images, numeric_data, labels=labels_dict)\n",
        "        loss = hierarchical_loss(outputs, labels_dict)\n",
        "        loss.backward()\n",
        "        optimizer.step()\n",
        "        total_loss += loss.item()\n",
        "    return total_loss / len(dataloader)"
      ]
    },
    {
      "cell_type": "code",
      "execution_count": 40,
      "metadata": {
        "id": "c_7WADjD-ZbG"
      },
      "outputs": [],
      "source": [
        "def evaluate(model, dataloader):\n",
        "    model.eval()\n",
        "    total_loss = 0\n",
        "    correct_counts = {k: 0 for k in [\"gender\",\"masterCategory\",\"usage\",\"subCategory\",\"articleType\",\"baseColour\",\"brand\"]}\n",
        "    total_samples  = 0\n",
        "\n",
        "    with torch.no_grad():\n",
        "        for images, numeric_data, labels_dict in dataloader:\n",
        "            images = images.to(device)\n",
        "            numeric_data = numeric_data.to(device)\n",
        "            for k in labels_dict:\n",
        "                labels_dict[k] = labels_dict[k].to(device)\n",
        "\n",
        "            outputs = model(images, numeric_data, labels=labels_dict)\n",
        "            loss = hierarchical_loss(outputs, labels_dict)\n",
        "            total_loss += loss.item()\n",
        "\n",
        "            batch_size = images.size(0)\n",
        "            total_samples += batch_size\n",
        "            for k in labels_dict:\n",
        "                preds = torch.argmax(outputs[k], dim=1)\n",
        "                correct_counts[k] += (preds == labels_dict[k]).sum().item()\n",
        "\n",
        "    avg_loss = total_loss / len(dataloader)\n",
        "    accuracies = {}\n",
        "    for k in correct_counts:\n",
        "        accuracies[k] = correct_counts[k] / float(total_samples)\n",
        "    return avg_loss, accuracies"
      ]
    },
    {
      "cell_type": "code",
      "execution_count": 41,
      "metadata": {
        "collapsed": true,
        "id": "rbziWImB--If"
      },
      "outputs": [],
      "source": [
        "# for i in range(len(train_torch_dataset)):\n",
        "#     try:\n",
        "#         sample = train_torch_dataset[i]\n",
        "#         # sample = (image, numeric_features, labels_dict)\n",
        "#         image_shape = sample[0].size()\n",
        "#         numeric_shape = sample[1].size()\n",
        "#         print(f\"Sample {i} OK => Image shape: {image_shape}, numeric shape: {numeric_shape}\")\n",
        "#     except Exception as e:\n",
        "#         print(f\"Sample {i} LỖI =>\", e)\n",
        "#         break\n"
      ]
    },
    {
      "cell_type": "code",
      "execution_count": 42,
      "metadata": {
        "colab": {
          "base_uri": "https://localhost:8080/"
        },
        "id": "PA1H8McU-bv5",
        "outputId": "fe371490-98bc-4a49-a7a0-7f3a77e303d2"
      },
      "outputs": [
        {
          "name": "stdout",
          "output_type": "stream",
          "text": [
            "Epoch [1/10]\n",
            "   Train Loss: 1.8465\n",
            "   Val   Loss: 1.3782\n",
            "       Val gender Acc: 86.56%\n",
            "       Val masterCategory Acc: 98.84%\n",
            "       Val usage Acc: 89.31%\n",
            "       Val subCategory Acc: 91.86%\n",
            "       Val articleType Acc: 77.84%\n",
            "       Val baseColour Acc: 56.24%\n",
            "       Val brand Acc: 27.96%\n",
            "Epoch [2/10]\n",
            "   Train Loss: 1.3011\n",
            "   Val   Loss: 1.2061\n",
            "       Val gender Acc: 87.14%\n",
            "       Val masterCategory Acc: 99.04%\n",
            "       Val usage Acc: 89.39%\n",
            "       Val subCategory Acc: 92.77%\n",
            "       Val articleType Acc: 80.89%\n",
            "       Val baseColour Acc: 58.94%\n",
            "       Val brand Acc: 34.66%\n",
            "Epoch [3/10]\n",
            "   Train Loss: 1.1235\n",
            "   Val   Loss: 1.0948\n",
            "       Val gender Acc: 89.01%\n",
            "       Val masterCategory Acc: 99.07%\n",
            "       Val usage Acc: 90.35%\n",
            "       Val subCategory Acc: 94.45%\n",
            "       Val articleType Acc: 83.26%\n",
            "       Val baseColour Acc: 60.30%\n",
            "       Val brand Acc: 40.26%\n",
            "Epoch [4/10]\n",
            "   Train Loss: 1.0066\n",
            "   Val   Loss: 1.0115\n",
            "       Val gender Acc: 89.92%\n",
            "       Val masterCategory Acc: 99.04%\n",
            "       Val usage Acc: 91.15%\n",
            "       Val subCategory Acc: 94.76%\n",
            "       Val articleType Acc: 85.15%\n",
            "       Val baseColour Acc: 61.26%\n",
            "       Val brand Acc: 44.16%\n",
            "Epoch [5/10]\n",
            "   Train Loss: 0.9167\n",
            "   Val   Loss: 0.9504\n",
            "       Val gender Acc: 89.56%\n",
            "       Val masterCategory Acc: 99.29%\n",
            "       Val usage Acc: 91.38%\n",
            "       Val subCategory Acc: 95.03%\n",
            "       Val articleType Acc: 86.01%\n",
            "       Val baseColour Acc: 62.77%\n",
            "       Val brand Acc: 48.53%\n",
            "Epoch [6/10]\n",
            "   Train Loss: 0.7894\n",
            "   Val   Loss: 0.8887\n",
            "       Val gender Acc: 90.67%\n",
            "       Val masterCategory Acc: 99.32%\n",
            "       Val usage Acc: 91.96%\n",
            "       Val subCategory Acc: 95.41%\n",
            "       Val articleType Acc: 86.74%\n",
            "       Val baseColour Acc: 64.00%\n",
            "       Val brand Acc: 52.38%\n",
            "Epoch [7/10]\n",
            "   Train Loss: 0.7598\n",
            "   Val   Loss: 0.8781\n",
            "       Val gender Acc: 90.45%\n",
            "       Val masterCategory Acc: 99.29%\n",
            "       Val usage Acc: 91.78%\n",
            "       Val subCategory Acc: 95.54%\n",
            "       Val articleType Acc: 86.79%\n",
            "       Val baseColour Acc: 64.89%\n",
            "       Val brand Acc: 52.63%\n",
            "Epoch [8/10]\n",
            "   Train Loss: 0.7409\n",
            "   Val   Loss: 0.8684\n",
            "       Val gender Acc: 90.35%\n",
            "       Val masterCategory Acc: 99.27%\n",
            "       Val usage Acc: 92.26%\n",
            "       Val subCategory Acc: 95.79%\n",
            "       Val articleType Acc: 87.42%\n",
            "       Val baseColour Acc: 63.98%\n",
            "       Val brand Acc: 53.26%\n",
            "Epoch [9/10]\n",
            "   Train Loss: 0.7275\n",
            "   Val   Loss: 0.8586\n",
            "       Val gender Acc: 90.82%\n",
            "       Val masterCategory Acc: 99.27%\n",
            "       Val usage Acc: 92.19%\n",
            "       Val subCategory Acc: 95.84%\n",
            "       Val articleType Acc: 87.40%\n",
            "       Val baseColour Acc: 64.51%\n",
            "       Val brand Acc: 54.10%\n",
            "Epoch [10/10]\n",
            "   Train Loss: 0.7123\n",
            "   Val   Loss: 0.8540\n",
            "       Val gender Acc: 89.49%\n",
            "       Val masterCategory Acc: 99.34%\n",
            "       Val usage Acc: 92.24%\n",
            "       Val subCategory Acc: 95.79%\n",
            "       Val articleType Acc: 87.85%\n",
            "       Val baseColour Acc: 64.51%\n",
            "       Val brand Acc: 54.70%\n"
          ]
        }
      ],
      "source": [
        "num_epochs = 10\n",
        "for epoch in range(num_epochs):\n",
        "    train_loss = train_one_epoch(model, train_loader, optimizer)\n",
        "    val_loss, val_accs = evaluate(model, val_loader)\n",
        "    scheduler.step()\n",
        "\n",
        "    print(f\"Epoch [{epoch+1}/{num_epochs}]\")\n",
        "    print(f\"   Train Loss: {train_loss:.4f}\")\n",
        "    print(f\"   Val   Loss: {val_loss:.4f}\")\n",
        "    for task, acc in val_accs.items():\n",
        "        print(f\"       Val {task} Acc: {acc*100:.2f}%\")"
      ]
    },
    {
      "cell_type": "markdown",
      "metadata": {
        "id": "xxbC2x5l-vJg"
      },
      "source": [
        "# VI. ĐÁNH GIÁ TRÊN TEST"
      ]
    },
    {
      "cell_type": "code",
      "execution_count": 43,
      "metadata": {
        "colab": {
          "base_uri": "https://localhost:8080/"
        },
        "id": "cRsmLlxU-sM9",
        "outputId": "e8feb020-b6b1-4355-b83f-1979c802c435"
      },
      "outputs": [
        {
          "name": "stdout",
          "output_type": "stream",
          "text": [
            "[Test] Loss: 0.8412\n",
            "[Test] gender Accuracy = 89.25%\n",
            "[Test] masterCategory Accuracy = 99.46%\n",
            "[Test] usage Accuracy = 92.06%\n",
            "[Test] subCategory Accuracy = 96.35%\n",
            "[Test] articleType Accuracy = 86.96%\n",
            "[Test] baseColour Accuracy = 63.79%\n",
            "[Test] brand Accuracy = 54.54%\n"
          ]
        }
      ],
      "source": [
        "test_loss, test_accs = evaluate(model, test_loader)\n",
        "print(f\"[Test] Loss: {test_loss:.4f}\")\n",
        "for task, acc in test_accs.items():\n",
        "    print(f\"[Test] {task} Accuracy = {acc*100:.2f}%\")"
      ]
    },
    {
      "cell_type": "code",
      "execution_count": 44,
      "metadata": {
        "id": "f6TQ7S1QpJn7"
      },
      "outputs": [],
      "source": [
        "transform_infer = transforms.Compose([\n",
        "    transforms.Resize((224, 224)),\n",
        "    transforms.ToTensor(),\n",
        "    transforms.Normalize(mean=[0.485, 0.456, 0.406], std=[0.229, 0.224, 0.225]),\n",
        "])"
      ]
    },
    {
      "cell_type": "code",
      "execution_count": 51,
      "metadata": {
        "id": "OCU4HpW-tn4V"
      },
      "outputs": [],
      "source": [
        "from PIL import Image\n",
        "\n",
        "def predict_product_display_name(\n",
        "    model,\n",
        "    image_path,\n",
        "    numeric_data=None  # tuple/list [season, year, price] hoặc None\n",
        "):\n",
        "    \"\"\"\n",
        "    - image_path: đường dẫn ảnh\n",
        "    - numeric_data: [season, year, price] hoặc None\n",
        "    - return: predicted_display_name (chuỗi)\n",
        "    \"\"\"\n",
        "\n",
        "    # 1) Load & transform ảnh\n",
        "    img = Image.open(image_path).convert(\"RGB\")\n",
        "    img_tensor = transform_infer(img).unsqueeze(0)  # [1,3,224,224]\n",
        "\n",
        "    # 2) numeric_data\n",
        "    if numeric_data is not None:\n",
        "        numeric_data = torch.tensor(numeric_data, dtype=torch.float).unsqueeze(0)\n",
        "        # shape [1,3]\n",
        "    else:\n",
        "        numeric_data = None\n",
        "\n",
        "    # 3) Model forward\n",
        "    model.eval()\n",
        "    with torch.no_grad():\n",
        "        outputs = model(img_tensor.to(device), numeric_data=numeric_data.to(device) if numeric_data is not None else None)\n",
        "\n",
        "    # 4) Lấy argmax cho mỗi task\n",
        "    pred_brand_id  = torch.argmax(outputs[\"brand\"], dim=1).item()\n",
        "    pred_gender_id = torch.argmax(outputs[\"gender\"], dim=1).item()\n",
        "    pred_usage_id  = torch.argmax(outputs[\"usage\"],  dim=1).item()\n",
        "    pred_base_id   = torch.argmax(outputs[\"baseColour\"], dim=1).item()\n",
        "    pred_article_id= torch.argmax(outputs[\"articleType\"], dim=1).item()\n",
        "\n",
        "    # 5) Chuyển sang chuỗi\n",
        "    pred_brand_str  = inv_brand_map[pred_brand_id]\n",
        "    pred_gender_str = inv_gender_map[pred_gender_id]\n",
        "    pred_usage_str  = inv_usage_map[pred_usage_id]\n",
        "    pred_base_str   = inv_base_colour_map[pred_base_id]\n",
        "    pred_article_str= inv_article_type_map[pred_article_id]\n",
        "\n",
        "    # 6) Ghép \"product display name\"\n",
        "    predicted_display_name = f\"{pred_brand_str} {pred_gender_str} {pred_usage_str} {pred_base_str} {pred_article_str}\"\n",
        "    return pred_brand_str, pred_gender_str, pred_usage_str, pred_base_str, pred_article_str, predicted_display_name"
      ]
    },
    {
      "cell_type": "code",
      "execution_count": 53,
      "metadata": {
        "colab": {
          "base_uri": "https://localhost:8080/"
        },
        "id": "Xo8VxUyGtqL4",
        "outputId": "fc2c2534-58b9-4b22-ea4e-5c5df1400640"
      },
      "outputs": [
        {
          "name": "stdout",
          "output_type": "stream",
          "text": [
            "Predicted: ('Wildcraft', 'Women', 'Casual', 'Copper', 'Nightdress', 'Wildcraft Women Casual Copper Nightdress')\n",
            "Predicted: Wildcraft\n"
          ]
        }
      ],
      "source": [
        "#Trường hợp 1: Người dùng có year/season/price:\n",
        "# year=2012, season=1, price=0.6 (vd scale 0..1)\n",
        "numeric_data = [2, 2011, 0.6]\n",
        "pred_brand_str, pred_gender_str, pred_usage_str, pred_base_str, pred_article_str, predicted_display_name = predict_product_display_name(model, \"/home/ailab1/student_share/Thanh/GPU/Data/data test/images/10000.jpg\", numeric_data=numeric_data)\n",
        "print(\"Predicted:\", product_name)\n",
        "print(\"Predicted:\", pred_brand_str)\n"
      ]
    },
    {
      "cell_type": "code",
      "execution_count": 47,
      "metadata": {
        "colab": {
          "base_uri": "https://localhost:8080/",
          "height": 339
        },
        "id": "JPI8XsRbttUo",
        "outputId": "50c84cfe-ea20-44d6-95d8-f4062e183201"
      },
      "outputs": [
        {
          "name": "stdout",
          "output_type": "stream",
          "text": [
            "Predicted: Puma Men Casual Black Watches\n"
          ]
        }
      ],
      "source": [
        "# Trường hợp 2: Người dùng chỉ up ảnh => numeric_data=None\n",
        "product_name = predict_product_display_name(model, \"/home/ailab1/student_share/Thanh/GPU/Data/data test/images/10999.jpg\", numeric_data=None)\n",
        "print(\"Predicted:\", product_name)\n"
      ]
    },
    {
      "cell_type": "markdown",
      "metadata": {
        "id": "VZMqSasF-xQv"
      },
      "source": [
        "# VII. LƯU MODEL"
      ]
    },
    {
      "cell_type": "code",
      "execution_count": 48,
      "metadata": {
        "colab": {
          "base_uri": "https://localhost:8080/",
          "height": 159
        },
        "id": "f82v-KMT-y7I",
        "outputId": "c6891791-61d9-4a3e-96f8-7f5dbc833bcd"
      },
      "outputs": [
        {
          "name": "stdout",
          "output_type": "stream",
          "text": [
            "Model weights saved to cnn_plus_mlp_multitask_model.pt\n"
          ]
        }
      ],
      "source": [
        "torch.save(model.state_dict(), \"/home/ailab1/student_share/Thanh/GPU/CNN_hierarchical_model.pt\")\n",
        "print(\"Model weights saved to cnn_plus_mlp_multitask_model.pt\")"
      ]
    },
    {
      "cell_type": "markdown",
      "metadata": {
        "id": "RDwHhOBNt48U"
      },
      "source": [
        "Triển khai web:\n",
        "\n",
        "Bước 1: Trong code backend (Flask, FastAPI, Django, …), bạn khởi tạo model với cấu trúc y hệt:\n",
        "python\n",
        "Copy\n",
        "Edit\n",
        "model_web = EndToEndHierarchicalModel(\n",
        "    num_gender, num_master, num_usage,\n",
        "    num_sub, num_article, num_base,\n",
        "    num_brand,\n",
        "    pretrained=False,\n",
        "    mlp_hidden=32,\n",
        "    embed_dim=16,\n",
        "    teacher_forcing_p=0.5\n",
        ")\n",
        "model_web.load_state_dict(torch.load(\"hierarchical_model.pt\", map_location=\"cpu\"))\n",
        "model_web.eval()\n",
        "Bước 2: Xây 1 endpoint /predict. Khi người dùng upload ảnh + (tuỳ) numeric_data, backend gọi predict_product_display_name(model_web, image_path, numeric_data).\n",
        "Bước 3: Trả về predicted_display_name cho người dùng.\n",
        "Bạn không cần huấn luyện lại model khi deploy. Chỉ load state_dict và gọi inference.\n",
        "![image.png](data:image/png;base64,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)"
      ]
    }
  ],
  "metadata": {
    "accelerator": "GPU",
    "colab": {
      "gpuType": "T4",
      "provenance": []
    },
    "kernelspec": {
      "display_name": "thanh-env",
      "language": "python",
      "name": "python3"
    },
    "language_info": {
      "codemirror_mode": {
        "name": "ipython",
        "version": 3
      },
      "file_extension": ".py",
      "mimetype": "text/x-python",
      "name": "python",
      "nbconvert_exporter": "python",
      "pygments_lexer": "ipython3",
      "version": "3.10.16"
    }
  },
  "nbformat": 4,
  "nbformat_minor": 0
}
