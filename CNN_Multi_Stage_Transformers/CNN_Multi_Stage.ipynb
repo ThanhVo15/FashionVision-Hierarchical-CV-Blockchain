{
  "cells": [
    {
      "cell_type": "markdown",
      "metadata": {
        "id": "pVKDhyDt6wSN"
      },
      "source": [
        "# I. CÀI ĐẶT / IMPORT THƯ VIỆN / LOAD DATA\n"
      ]
    },
    {
      "cell_type": "code",
      "execution_count": 117,
      "metadata": {
        "colab": {
          "base_uri": "https://localhost:8080/"
        },
        "id": "hYIo0CaP62SH",
        "outputId": "7431a394-9698-4726-d85b-f99aad3d7d28"
      },
      "outputs": [
        {
          "name": "stdout",
          "output_type": "stream",
          "text": [
            "Requirement already satisfied: datasets in /home/ailab1/miniconda3/envs/thanh-env/lib/python3.10/site-packages (3.3.2)\n",
            "Requirement already satisfied: accelerate in /home/ailab1/miniconda3/envs/thanh-env/lib/python3.10/site-packages (0.30.1)\n",
            "Requirement already satisfied: evaluate in /home/ailab1/miniconda3/envs/thanh-env/lib/python3.10/site-packages (0.4.3)\n",
            "Requirement already satisfied: torchvision in /home/ailab1/miniconda3/envs/thanh-env/lib/python3.10/site-packages (0.21.0)\n",
            "Requirement already satisfied: filelock in /home/ailab1/miniconda3/envs/thanh-env/lib/python3.10/site-packages (from datasets) (3.16.1)\n",
            "Requirement already satisfied: numpy>=1.17 in /home/ailab1/miniconda3/envs/thanh-env/lib/python3.10/site-packages (from datasets) (1.24.4)\n",
            "Requirement already satisfied: pyarrow>=15.0.0 in /home/ailab1/miniconda3/envs/thanh-env/lib/python3.10/site-packages (from datasets) (19.0.1)\n",
            "Requirement already satisfied: dill<0.3.9,>=0.3.0 in /home/ailab1/miniconda3/envs/thanh-env/lib/python3.10/site-packages (from datasets) (0.3.8)\n",
            "Requirement already satisfied: pandas in /home/ailab1/miniconda3/envs/thanh-env/lib/python3.10/site-packages (from datasets) (1.5.3)\n",
            "Requirement already satisfied: requests>=2.32.2 in /home/ailab1/miniconda3/envs/thanh-env/lib/python3.10/site-packages (from datasets) (2.32.3)\n",
            "Requirement already satisfied: tqdm>=4.66.3 in /home/ailab1/miniconda3/envs/thanh-env/lib/python3.10/site-packages (from datasets) (4.67.1)\n",
            "Requirement already satisfied: xxhash in /home/ailab1/miniconda3/envs/thanh-env/lib/python3.10/site-packages (from datasets) (3.5.0)\n",
            "Requirement already satisfied: multiprocess<0.70.17 in /home/ailab1/miniconda3/envs/thanh-env/lib/python3.10/site-packages (from datasets) (0.70.16)\n",
            "Requirement already satisfied: fsspec<=2024.12.0,>=2023.1.0 in /home/ailab1/miniconda3/envs/thanh-env/lib/python3.10/site-packages (from fsspec[http]<=2024.12.0,>=2023.1.0->datasets) (2024.12.0)\n",
            "Requirement already satisfied: aiohttp in /home/ailab1/miniconda3/envs/thanh-env/lib/python3.10/site-packages (from datasets) (3.11.13)\n",
            "Requirement already satisfied: huggingface-hub>=0.24.0 in /home/ailab1/miniconda3/envs/thanh-env/lib/python3.10/site-packages (from datasets) (0.27.0)\n",
            "Requirement already satisfied: packaging in /home/ailab1/miniconda3/envs/thanh-env/lib/python3.10/site-packages (from datasets) (24.2)\n",
            "Requirement already satisfied: pyyaml>=5.1 in /home/ailab1/miniconda3/envs/thanh-env/lib/python3.10/site-packages (from datasets) (6.0.2)\n",
            "Requirement already satisfied: psutil in /home/ailab1/miniconda3/envs/thanh-env/lib/python3.10/site-packages (from accelerate) (5.9.0)\n",
            "Requirement already satisfied: torch>=1.10.0 in /home/ailab1/miniconda3/envs/thanh-env/lib/python3.10/site-packages (from accelerate) (2.6.0)\n",
            "Requirement already satisfied: safetensors>=0.3.1 in /home/ailab1/miniconda3/envs/thanh-env/lib/python3.10/site-packages (from accelerate) (0.4.5)\n",
            "Requirement already satisfied: pillow!=8.3.*,>=5.3.0 in /home/ailab1/miniconda3/envs/thanh-env/lib/python3.10/site-packages (from torchvision) (11.0.0)\n",
            "Requirement already satisfied: typing-extensions>=4.10.0 in /home/ailab1/miniconda3/envs/thanh-env/lib/python3.10/site-packages (from torch>=1.10.0->accelerate) (4.12.2)\n",
            "Requirement already satisfied: networkx in /home/ailab1/miniconda3/envs/thanh-env/lib/python3.10/site-packages (from torch>=1.10.0->accelerate) (3.4.2)\n",
            "Requirement already satisfied: jinja2 in /home/ailab1/miniconda3/envs/thanh-env/lib/python3.10/site-packages (from torch>=1.10.0->accelerate) (3.1.5)\n",
            "Requirement already satisfied: nvidia-cuda-nvrtc-cu12==12.4.127 in /home/ailab1/miniconda3/envs/thanh-env/lib/python3.10/site-packages (from torch>=1.10.0->accelerate) (12.4.127)\n",
            "Requirement already satisfied: nvidia-cuda-runtime-cu12==12.4.127 in /home/ailab1/miniconda3/envs/thanh-env/lib/python3.10/site-packages (from torch>=1.10.0->accelerate) (12.4.127)\n",
            "Requirement already satisfied: nvidia-cuda-cupti-cu12==12.4.127 in /home/ailab1/miniconda3/envs/thanh-env/lib/python3.10/site-packages (from torch>=1.10.0->accelerate) (12.4.127)\n",
            "Requirement already satisfied: nvidia-cudnn-cu12==9.1.0.70 in /home/ailab1/miniconda3/envs/thanh-env/lib/python3.10/site-packages (from torch>=1.10.0->accelerate) (9.1.0.70)\n",
            "Requirement already satisfied: nvidia-cublas-cu12==12.4.5.8 in /home/ailab1/miniconda3/envs/thanh-env/lib/python3.10/site-packages (from torch>=1.10.0->accelerate) (12.4.5.8)\n",
            "Requirement already satisfied: nvidia-cufft-cu12==11.2.1.3 in /home/ailab1/miniconda3/envs/thanh-env/lib/python3.10/site-packages (from torch>=1.10.0->accelerate) (11.2.1.3)\n",
            "Requirement already satisfied: nvidia-curand-cu12==10.3.5.147 in /home/ailab1/miniconda3/envs/thanh-env/lib/python3.10/site-packages (from torch>=1.10.0->accelerate) (10.3.5.147)\n",
            "Requirement already satisfied: nvidia-cusolver-cu12==11.6.1.9 in /home/ailab1/miniconda3/envs/thanh-env/lib/python3.10/site-packages (from torch>=1.10.0->accelerate) (11.6.1.9)\n",
            "Requirement already satisfied: nvidia-cusparse-cu12==12.3.1.170 in /home/ailab1/miniconda3/envs/thanh-env/lib/python3.10/site-packages (from torch>=1.10.0->accelerate) (12.3.1.170)\n",
            "Requirement already satisfied: nvidia-cusparselt-cu12==0.6.2 in /home/ailab1/miniconda3/envs/thanh-env/lib/python3.10/site-packages (from torch>=1.10.0->accelerate) (0.6.2)\n",
            "Requirement already satisfied: nvidia-nccl-cu12==2.21.5 in /home/ailab1/miniconda3/envs/thanh-env/lib/python3.10/site-packages (from torch>=1.10.0->accelerate) (2.21.5)\n",
            "Requirement already satisfied: nvidia-nvtx-cu12==12.4.127 in /home/ailab1/miniconda3/envs/thanh-env/lib/python3.10/site-packages (from torch>=1.10.0->accelerate) (12.4.127)\n",
            "Requirement already satisfied: nvidia-nvjitlink-cu12==12.4.127 in /home/ailab1/miniconda3/envs/thanh-env/lib/python3.10/site-packages (from torch>=1.10.0->accelerate) (12.4.127)\n",
            "Requirement already satisfied: triton==3.2.0 in /home/ailab1/miniconda3/envs/thanh-env/lib/python3.10/site-packages (from torch>=1.10.0->accelerate) (3.2.0)\n",
            "Requirement already satisfied: sympy==1.13.1 in /home/ailab1/miniconda3/envs/thanh-env/lib/python3.10/site-packages (from torch>=1.10.0->accelerate) (1.13.1)\n",
            "Requirement already satisfied: mpmath<1.4,>=1.1.0 in /home/ailab1/miniconda3/envs/thanh-env/lib/python3.10/site-packages (from sympy==1.13.1->torch>=1.10.0->accelerate) (1.3.0)\n",
            "Requirement already satisfied: aiohappyeyeballs>=2.3.0 in /home/ailab1/miniconda3/envs/thanh-env/lib/python3.10/site-packages (from aiohttp->datasets) (2.5.0)\n",
            "Requirement already satisfied: aiosignal>=1.1.2 in /home/ailab1/miniconda3/envs/thanh-env/lib/python3.10/site-packages (from aiohttp->datasets) (1.3.2)\n",
            "Requirement already satisfied: async-timeout<6.0,>=4.0 in /home/ailab1/miniconda3/envs/thanh-env/lib/python3.10/site-packages (from aiohttp->datasets) (5.0.1)\n",
            "Requirement already satisfied: attrs>=17.3.0 in /home/ailab1/miniconda3/envs/thanh-env/lib/python3.10/site-packages (from aiohttp->datasets) (24.3.0)\n",
            "Requirement already satisfied: frozenlist>=1.1.1 in /home/ailab1/miniconda3/envs/thanh-env/lib/python3.10/site-packages (from aiohttp->datasets) (1.5.0)\n",
            "Requirement already satisfied: multidict<7.0,>=4.5 in /home/ailab1/miniconda3/envs/thanh-env/lib/python3.10/site-packages (from aiohttp->datasets) (6.1.0)\n",
            "Requirement already satisfied: propcache>=0.2.0 in /home/ailab1/miniconda3/envs/thanh-env/lib/python3.10/site-packages (from aiohttp->datasets) (0.3.0)\n",
            "Requirement already satisfied: yarl<2.0,>=1.17.0 in /home/ailab1/miniconda3/envs/thanh-env/lib/python3.10/site-packages (from aiohttp->datasets) (1.18.3)\n",
            "Requirement already satisfied: charset_normalizer<4,>=2 in /home/ailab1/miniconda3/envs/thanh-env/lib/python3.10/site-packages (from requests>=2.32.2->datasets) (3.4.0)\n",
            "Requirement already satisfied: idna<4,>=2.5 in /home/ailab1/miniconda3/envs/thanh-env/lib/python3.10/site-packages (from requests>=2.32.2->datasets) (3.10)\n",
            "Requirement already satisfied: urllib3<3,>=1.21.1 in /home/ailab1/miniconda3/envs/thanh-env/lib/python3.10/site-packages (from requests>=2.32.2->datasets) (2.3.0)\n",
            "Requirement already satisfied: certifi>=2017.4.17 in /home/ailab1/miniconda3/envs/thanh-env/lib/python3.10/site-packages (from requests>=2.32.2->datasets) (2025.1.31)\n",
            "Requirement already satisfied: python-dateutil>=2.8.1 in /home/ailab1/miniconda3/envs/thanh-env/lib/python3.10/site-packages (from pandas->datasets) (2.9.0.post0)\n",
            "Requirement already satisfied: pytz>=2020.1 in /home/ailab1/miniconda3/envs/thanh-env/lib/python3.10/site-packages (from pandas->datasets) (2024.2)\n",
            "Requirement already satisfied: six>=1.5 in /home/ailab1/miniconda3/envs/thanh-env/lib/python3.10/site-packages (from python-dateutil>=2.8.1->pandas->datasets) (1.16.0)\n",
            "Requirement already satisfied: MarkupSafe>=2.0 in /home/ailab1/miniconda3/envs/thanh-env/lib/python3.10/site-packages (from jinja2->torch>=1.10.0->accelerate) (3.0.2)\n"
          ]
        }
      ],
      "source": [
        "!pip install datasets accelerate evaluate torchvision"
      ]
    },
    {
      "cell_type": "code",
      "execution_count": 118,
      "metadata": {
        "id": "-Z4cB_6ZzGGV"
      },
      "outputs": [],
      "source": [
        "import psutil\n",
        "import pandas as pd\n",
        "import numpy as np\n",
        "import matplotlib.pyplot as plt\n",
        "\n",
        "import torch\n",
        "import torch.nn as nn\n",
        "import torch.nn.functional as F\n",
        "import torch.optim as optim\n",
        "from torch.utils.data import DataLoader, Dataset\n",
        "from torchvision import transforms, models\n",
        "\n",
        "from datasets import load_dataset, DatasetDict\n",
        "from datasets import Features, Value, Image\n",
        "# from google.colab import drive\n",
        "# drive.mount('/content/drive', force_remount=True)"
      ]
    },
    {
      "cell_type": "code",
      "execution_count": 119,
      "metadata": {
        "colab": {
          "base_uri": "https://localhost:8080/"
        },
        "id": "FD3JKiX160oz",
        "outputId": "02db7544-bc22-4595-b943-70b4a930f685"
      },
      "outputs": [
        {
          "name": "stdout",
          "output_type": "stream",
          "text": [
            "Available RAM: 23.95 GB\n",
            "CPU count: 56\n"
          ]
        }
      ],
      "source": [
        "# Kiểm tra RAM\n",
        "available_ram = psutil.virtual_memory().available\n",
        "cpu_count = psutil.cpu_count(logical=True)\n",
        "print(f\"Available RAM: {available_ram / (1024**3):.2f} GB\")\n",
        "print(f\"CPU count: {cpu_count}\")"
      ]
    },
    {
      "cell_type": "markdown",
      "metadata": {
        "id": "7Prx00vV67Dv"
      },
      "source": [
        "## 1.1 Tải dataset từ Hugging Face"
      ]
    },
    {
      "cell_type": "code",
      "execution_count": 120,
      "metadata": {
        "colab": {
          "base_uri": "https://localhost:8080/"
        },
        "id": "lwbeRCCB67cA",
        "outputId": "25dbdc55-d4e9-4978-d694-3d30cb159460"
      },
      "outputs": [
        {
          "name": "stdout",
          "output_type": "stream",
          "text": [
            "DatasetDict({\n",
            "    train: Dataset({\n",
            "        features: ['id', 'gender', 'masterCategory', 'subCategory', 'articleType', 'baseColour', 'season', 'year', 'usage', 'productDisplayName', 'image'],\n",
            "        num_rows: 44072\n",
            "    })\n",
            "})\n"
          ]
        }
      ],
      "source": [
        "dataset_dict  = load_dataset(\"ashraq/fashion-product-images-small\")\n",
        "print(dataset_dict)"
      ]
    },
    {
      "cell_type": "code",
      "execution_count": 121,
      "metadata": {
        "id": "tSZW9nK_68yJ"
      },
      "outputs": [],
      "source": [
        "# Dữ liệu gốc: dataset_dict[\"train\"]\n",
        "train_dataset_org = dataset_dict[\"train\"]"
      ]
    },
    {
      "cell_type": "code",
      "execution_count": 122,
      "metadata": {
        "colab": {
          "base_uri": "https://localhost:8080/"
        },
        "id": "47pZwqa66-Ht",
        "outputId": "71cd320a-8a5d-4665-afe3-e78511589e56"
      },
      "outputs": [
        {
          "name": "stdout",
          "output_type": "stream",
          "text": [
            "{'id': 15970, 'gender': 'Men', 'masterCategory': 'Apparel', 'subCategory': 'Topwear', 'articleType': 'Shirts', 'baseColour': 'Navy Blue', 'season': 'Fall', 'year': 2011.0, 'usage': 'Casual', 'productDisplayName': 'Turtle Check Men Navy Blue Shirt', 'image': <PIL.JpegImagePlugin.JpegImageFile image mode=RGB size=60x80 at 0x7F12FE320A30>}\n"
          ]
        }
      ],
      "source": [
        "# Xem thử 1 record\n",
        "print(train_dataset_org[0])"
      ]
    },
    {
      "cell_type": "markdown",
      "metadata": {
        "id": "25MQksSc7FZX"
      },
      "source": [
        "# II. TIỀN XỬ LÝ & CHUẨN BỊ DỮ LIỆU"
      ]
    },
    {
      "cell_type": "markdown",
      "metadata": {
        "id": "h1XNBfe-7ogN"
      },
      "source": [
        "## 2.1 Thêm cột giá (price) minh hoạ"
      ]
    },
    {
      "cell_type": "code",
      "execution_count": 123,
      "metadata": {
        "id": "x4rlg6qV7IaB"
      },
      "outputs": [],
      "source": [
        "def assign_price(masterCategory, subCategory, articleType, year, season, usage):\n",
        "    \"\"\"Giả lập sinh giá tiền dựa trên masterCategory/subCategory/...\"\"\"\n",
        "    import numpy as np\n",
        "    master_price_range = {\n",
        "        'Apparel': (10, 20), 'Accessories': (5, 100), 'Footwear': (20, 200),\n",
        "        'Personal Care': (5, 300), 'Free Items': (0, 5), 'Sporting Goods': (100, 250), 'Home': (100, 300)\n",
        "    }\n",
        "    sub_price_adjustment = {\n",
        "        'Topwear': (5, 50), 'Watches': (30, 150), 'Shoes': (20, 100),\n",
        "        'Bags': (10, 70), 'Fragrance': (5, 80), 'Jewellery': (10, 200)\n",
        "    }\n",
        "    article_price_range = {\n",
        "        'Shirts': (15, 70), 'Watches': (50, 300), 'Sports Shoes': (40, 200),\n",
        "        'Sunglasses': (30, 150), 'Perfumes': (25, 120)\n",
        "    }\n",
        "    # Lấy khoảng giá từ masterCategory\n",
        "    base_min, base_max = master_price_range.get(masterCategory, (10, 100))\n",
        "    # Điều chỉnh theo subCategory\n",
        "    adj_min, adj_max = sub_price_adjustment.get(subCategory, (0, 0))\n",
        "    # Điều chỉnh theo articleType\n",
        "    art_min, art_max = article_price_range.get(articleType, (base_min + adj_min, base_max + adj_max))\n",
        "    # Điều chỉnh năm\n",
        "    if year < 2015:\n",
        "        discount = 0.3\n",
        "    elif year < 2018:\n",
        "        discount = 0.15\n",
        "    else:\n",
        "        discount = 0\n",
        "    final_min = art_min * (1 - discount)\n",
        "    final_max = art_max * (1 - discount)\n",
        "    return round(np.random.uniform(final_min, final_max) * 2500, 0)"
      ]
    },
    {
      "cell_type": "code",
      "execution_count": 124,
      "metadata": {
        "id": "I-gZ7PxP7Khw"
      },
      "outputs": [],
      "source": [
        "def add_price_column(example):\n",
        "    example[\"price_in_vnd\"] = assign_price(\n",
        "        example[\"masterCategory\"],\n",
        "        example[\"subCategory\"],\n",
        "        example[\"articleType\"],\n",
        "        example[\"year\"],\n",
        "        example[\"season\"],\n",
        "        example[\"usage\"]\n",
        "    )\n",
        "    return example"
      ]
    },
    {
      "cell_type": "code",
      "execution_count": 125,
      "metadata": {
        "colab": {
          "base_uri": "https://localhost:8080/"
        },
        "id": "xStJrINo7L5O",
        "outputId": "59b47a42-1f6a-4642-83cb-0bb0400b3823"
      },
      "outputs": [
        {
          "name": "stdout",
          "output_type": "stream",
          "text": [
            "Số record có giá trị null: 0\n"
          ]
        }
      ],
      "source": [
        "# Loại bỏ record null\n",
        "def has_null(example):\n",
        "    return any(val is None for val in example.values())\n",
        "\n",
        "missing_null = dataset_dict[\"train\"].filter(has_null)\n",
        "print(f\"Số record có giá trị null: {len(missing_null)}\")"
      ]
    },
    {
      "cell_type": "code",
      "execution_count": 126,
      "metadata": {
        "id": "0w7n9_Ow7OJX"
      },
      "outputs": [],
      "source": [
        "# Mapped dataset\n",
        "dataset_dict[\"train\"] = dataset_dict[\"train\"].map(add_price_column)"
      ]
    },
    {
      "cell_type": "code",
      "execution_count": 127,
      "metadata": {
        "id": "JTIAI0M87PsI"
      },
      "outputs": [],
      "source": [
        "# Tách train/val/test (10% test, 10% val)\n",
        "train_test_split = dataset_dict['train'].train_test_split(test_size=0.1, seed=42)\n",
        "train_val_split = train_test_split['train'].train_test_split(test_size=0.1, seed=42)"
      ]
    },
    {
      "cell_type": "code",
      "execution_count": 128,
      "metadata": {
        "id": "SbuhncmW7Rbb"
      },
      "outputs": [],
      "source": [
        "final_dataset = DatasetDict({\n",
        "    'train': train_val_split['train'],\n",
        "    'val': train_val_split['test'],\n",
        "    'test': train_test_split['test']\n",
        "})"
      ]
    },
    {
      "cell_type": "code",
      "execution_count": 129,
      "metadata": {
        "id": "vIj1A9bL7S3r"
      },
      "outputs": [],
      "source": [
        "train_dataset = final_dataset[\"train\"]\n",
        "val_dataset   = final_dataset[\"val\"]\n",
        "test_dataset  = final_dataset[\"test\"]"
      ]
    },
    {
      "cell_type": "code",
      "execution_count": 130,
      "metadata": {
        "id": "5ey_UG3E7UXu"
      },
      "outputs": [],
      "source": [
        "# Định nghĩa features (để cast)\n",
        "features = Features({\n",
        "    'id': Value('int64'),\n",
        "    'gender': Value('string'),\n",
        "    'masterCategory': Value('string'),\n",
        "    'subCategory': Value('string'),\n",
        "    'articleType': Value('string'),\n",
        "    'baseColour': Value('string'),\n",
        "    'season': Value('string'),\n",
        "    'year': Value('int64'),\n",
        "    'usage': Value('string'),\n",
        "    'productDisplayName': Value('string'),\n",
        "    'image': Image(),\n",
        "    'price_in_vnd': Value('int64')\n",
        "})"
      ]
    },
    {
      "cell_type": "code",
      "execution_count": 131,
      "metadata": {
        "id": "ypzZ4WjJ7WIv"
      },
      "outputs": [],
      "source": [
        "train_dataset = train_dataset.cast(features)\n",
        "val_dataset   = val_dataset.cast(features)\n",
        "test_dataset  = test_dataset.cast(features)"
      ]
    },
    {
      "cell_type": "markdown",
      "metadata": {
        "id": "iMgZLvTc7lLd"
      },
      "source": [
        "## 2.2 Tạo cột brand (chỉ số hoá) từ 'productDisplayName' + 'gender'"
      ]
    },
    {
      "cell_type": "code",
      "execution_count": 132,
      "metadata": {
        "id": "mfUJSsSG7g5k"
      },
      "outputs": [],
      "source": [
        "def extract_brand(name, gender):\n",
        "    # Ví dụ: tách brand bằng cách lấy chuỗi trước từ \"gender\"\n",
        "    name_lower   = name.lower()\n",
        "    gender_lower = gender.lower()\n",
        "    tokens       = name.split(\" \")\n",
        "    tokens_lower = name_lower.split(\" \")\n",
        "    if gender_lower in tokens_lower:\n",
        "        idx = tokens_lower.index(gender_lower)\n",
        "        brand_tokens = tokens[:idx]\n",
        "        brand = \" \".join(brand_tokens).replace(\"by\",\"\").strip()\n",
        "        return brand\n",
        "    else:\n",
        "        return tokens[0]\n"
      ]
    },
    {
      "cell_type": "code",
      "execution_count": 133,
      "metadata": {
        "id": "hIfYeU8k7sJ0"
      },
      "outputs": [],
      "source": [
        "def build_brand_mapping(dataset):\n",
        "    brands = []\n",
        "    for name, gender in zip(dataset[\"productDisplayName\"], dataset[\"gender\"]):\n",
        "        brands.append(extract_brand(name, gender))\n",
        "    unique_brands = sorted(list(set(brands)))\n",
        "    mapping = {brand: idx for idx, brand in enumerate(unique_brands)}\n",
        "    inv_mapping = {idx: brand for brand, idx in mapping.items()}\n",
        "    return mapping, inv_mapping"
      ]
    },
    {
      "cell_type": "code",
      "execution_count": 134,
      "metadata": {
        "id": "fb2QPAK37udm"
      },
      "outputs": [],
      "source": [
        "def build_mapping(dataset, col):\n",
        "    unique_labels = dataset.unique(col)\n",
        "    unique_labels.sort()\n",
        "    mapping = {label: idx for idx, label in enumerate(unique_labels)}\n",
        "    inv_mapping = {idx: label for label, idx in mapping.items()}\n",
        "    return mapping, inv_mapping"
      ]
    },
    {
      "cell_type": "code",
      "execution_count": 135,
      "metadata": {
        "id": "NnRgylto7v3p"
      },
      "outputs": [],
      "source": [
        "# Sinh mapping dựa trên FULL dataset gốc (train_dataset_org) hoặc tuỳ\n",
        "gender_map, inv_gender_map           = build_mapping(train_dataset_org, \"gender\")\n",
        "master_category_map, inv_master_map  = build_mapping(train_dataset_org, \"masterCategory\")\n",
        "sub_category_map, inv_sub_cat_map    = build_mapping(train_dataset_org, \"subCategory\")\n",
        "article_type_map, inv_article_type_map = build_mapping(train_dataset_org, \"articleType\")\n",
        "base_colour_map, inv_base_colour_map = build_mapping(train_dataset_org, \"baseColour\")\n",
        "usage_map, inv_usage_map             = build_mapping(train_dataset_org, \"usage\")\n",
        "brand_map, inv_brand_map             = build_brand_mapping(train_dataset_org)"
      ]
    },
    {
      "cell_type": "code",
      "execution_count": 136,
      "metadata": {},
      "outputs": [
        {
          "name": "stdout",
          "output_type": "stream",
          "text": [
            "Mappings saved successfully!\n"
          ]
        }
      ],
      "source": [
        "import pickle\n",
        "# Lưu tất cả các ánh xạ vào một dictionary\n",
        "all_mappings = {\n",
        "    'inv_brand_map': inv_brand_map,\n",
        "    'inv_gender_map': inv_gender_map,\n",
        "    'inv_usage_map': inv_usage_map,\n",
        "    'inv_base_colour_map': inv_base_colour_map,\n",
        "    'inv_master_map': inv_master_map,\n",
        "    'inv_sub_cat_map': inv_sub_cat_map,\n",
        "    'inv_article_type_map': inv_article_type_map\n",
        "}\n",
        "\n",
        "# Lưu tất cả ánh xạ vào một file Pickle\n",
        "with open(\"mappings.pkl\", \"wb\") as f:\n",
        "    pickle.dump(all_mappings, f)\n",
        "\n",
        "print(\"Mappings saved successfully!\")"
      ]
    },
    {
      "cell_type": "code",
      "execution_count": 137,
      "metadata": {
        "id": "MC5CRSBe72E5"
      },
      "outputs": [],
      "source": [
        "def update_categorical(example):\n",
        "    # Thay thế string bằng ID\n",
        "    example[\"gender\"]         = gender_map[example[\"gender\"]]\n",
        "    example[\"masterCategory\"] = master_category_map[example[\"masterCategory\"]]\n",
        "    example[\"subCategory\"]    = sub_category_map[example[\"subCategory\"]]\n",
        "    example[\"articleType\"]    = article_type_map[example[\"articleType\"]]\n",
        "    example[\"baseColour\"]     = base_colour_map[example[\"baseColour\"]]\n",
        "    example[\"usage\"]          = usage_map[example[\"usage\"]]\n",
        "    # brand\n",
        "    extracted          = extract_brand(example[\"productDisplayName\"], inv_gender_map[example[\"gender\"]])\n",
        "    example[\"brand\"]   = brand_map.get(extracted, -1)  # -1 nếu ko match\n",
        "    return example"
      ]
    },
    {
      "cell_type": "code",
      "execution_count": 138,
      "metadata": {
        "id": "jGm6ixzX73dc"
      },
      "outputs": [],
      "source": [
        "train_dataset = train_dataset.map(update_categorical)\n",
        "val_dataset   = val_dataset.map(update_categorical)\n",
        "test_dataset  = test_dataset.map(update_categorical)"
      ]
    },
    {
      "cell_type": "code",
      "execution_count": 139,
      "metadata": {
        "id": "NJoqoKKt76pT"
      },
      "outputs": [],
      "source": [
        "from sklearn.preprocessing import MinMaxScaler\n",
        "min_max_scaler = MinMaxScaler()\n",
        "\n",
        "def scale_dataset(ds, scaler):\n",
        "    arr = np.array([ds[col] for col in [\"year\",\"price_in_vnd\"]]).T\n",
        "    scaled = scaler.transform(arr)\n",
        "    def f(ex, idx):\n",
        "        return {\n",
        "            \"year\": scaled[idx][0],\n",
        "            \"price_in_vnd\": scaled[idx][1]\n",
        "        }\n",
        "    ds = ds.map(f, with_indices=True)\n",
        "    return ds\n",
        "\n",
        "# Fit scaler trên train\n",
        "arr_train = np.array([train_dataset[col] for col in [\"year\",\"price_in_vnd\"]]).T\n",
        "scaled_train = min_max_scaler.fit_transform(arr_train)"
      ]
    },
    {
      "cell_type": "code",
      "execution_count": 140,
      "metadata": {
        "id": "2tba-nbj77Kh"
      },
      "outputs": [],
      "source": [
        "def f_train(ex, idx):\n",
        "    return {\n",
        "        \"year\": scaled_train[idx][0],\n",
        "        \"price_in_vnd\": scaled_train[idx][1]\n",
        "    }\n",
        "train_dataset = train_dataset.map(f_train, with_indices=True)\n",
        "\n",
        "# Transform val, test\n",
        "val_dataset  = scale_dataset(val_dataset, min_max_scaler)\n",
        "test_dataset = scale_dataset(test_dataset, min_max_scaler)"
      ]
    },
    {
      "cell_type": "code",
      "execution_count": 141,
      "metadata": {
        "id": "0jCQUfL37_wd"
      },
      "outputs": [],
      "source": [
        "# Encode season thủ công\n",
        "season_mapping = {'Spring': 0, 'Summer': 1, 'Fall': 2, 'Winter': 3}\n",
        "train_dataset = train_dataset.map(lambda x: {'season': season_mapping[x['season']]})\n",
        "val_dataset   = val_dataset.map(lambda x: {'season': season_mapping[x['season']]})\n",
        "test_dataset  = test_dataset.map(lambda x: {'season': season_mapping[x['season']]})\n"
      ]
    },
    {
      "cell_type": "code",
      "execution_count": 142,
      "metadata": {
        "id": "_ozfyYgO8Bce"
      },
      "outputs": [],
      "source": [
        "# Bỏ cột productDisplayName nếu muốn (đỡ cồng kềnh)\n",
        "train_dataset = train_dataset.remove_columns([\"productDisplayName\"])\n",
        "val_dataset   = val_dataset.remove_columns([\"productDisplayName\"])\n",
        "test_dataset  = test_dataset.remove_columns([\"productDisplayName\"])\n"
      ]
    },
    {
      "cell_type": "code",
      "execution_count": 143,
      "metadata": {
        "colab": {
          "base_uri": "https://localhost:8080/"
        },
        "id": "3CXYANi28hOq",
        "outputId": "c2e567be-d006-4046-bcd7-2a7642d90d22"
      },
      "outputs": [
        {
          "data": {
            "text/plain": [
              "{'id': Value(dtype='int64', id=None),\n",
              " 'gender': Value(dtype='int64', id=None),\n",
              " 'masterCategory': Value(dtype='int64', id=None),\n",
              " 'subCategory': Value(dtype='int64', id=None),\n",
              " 'articleType': Value(dtype='int64', id=None),\n",
              " 'baseColour': Value(dtype='int64', id=None),\n",
              " 'season': Value(dtype='int64', id=None),\n",
              " 'year': Value(dtype='float64', id=None),\n",
              " 'usage': Value(dtype='int64', id=None),\n",
              " 'image': Image(mode=None, decode=True, id=None),\n",
              " 'price_in_vnd': Value(dtype='float64', id=None),\n",
              " 'brand': Value(dtype='int64', id=None)}"
            ]
          },
          "execution_count": 143,
          "metadata": {},
          "output_type": "execute_result"
        }
      ],
      "source": [
        "train_dataset.features"
      ]
    },
    {
      "cell_type": "code",
      "execution_count": 144,
      "metadata": {
        "colab": {
          "base_uri": "https://localhost:8080/"
        },
        "id": "Mup4Raz08Ezh",
        "outputId": "c548c5dc-c711-47fb-a36b-c2dbbe8a377c"
      },
      "outputs": [
        {
          "name": "stdout",
          "output_type": "stream",
          "text": [
            "Train sample: {'id': 32762, 'gender': 2, 'masterCategory': 1, 'subCategory': 38, 'articleType': 103, 'baseColour': 2, 'season': 1, 'year': 0.4166666666666572, 'usage': 2, 'image': <PIL.JpegImagePlugin.JpegImageFile image mode=RGB size=60x80 at 0x7F14DBB52710>, 'price_in_vnd': 0.14414646629250383, 'brand': 405}\n"
          ]
        }
      ],
      "source": [
        "print(\"Train sample:\", train_dataset[0])"
      ]
    },
    {
      "cell_type": "markdown",
      "metadata": {
        "id": "iE-mVXP-8IUN"
      },
      "source": [
        "# III. CHUẨN BỊ DataLoader"
      ]
    },
    {
      "cell_type": "code",
      "execution_count": 145,
      "metadata": {
        "id": "2PZZthu_8GIJ"
      },
      "outputs": [],
      "source": [
        "import torchvision.transforms as transforms\n",
        "\n",
        "train_transform = transforms.Compose([\n",
        "    transforms.Resize((224, 224)),          # Resize về 224x224\n",
        "    transforms.RandomHorizontalFlip(p=0.5), # Lật ngang ngẫu nhiên 50%\n",
        "    transforms.ToTensor(),\n",
        "    transforms.RandomRotation(degrees=15),  # Xoay ±15 độ\n",
        "    transforms.ColorJitter(brightness=0.2, contrast=0.2, saturation=0.2, hue=0.1), # Biến đổi màu sắc\n",
        "    transforms.RandomResizedCrop(224, scale=(0.8, 1.0)), # Crop ngẫu nhiên rồi resize về 224x224\n",
        "    transforms.RandomAffine(degrees=0, translate=(0.1, 0.1)), # Dịch chuyển ngẫu nhiên ±10% ảnh\n",
        "    transforms.RandomErasing(p=0.5, scale=(0.02, 0.2), ratio=(0.3, 3.3)), # Cắt xóa vùng ảnh ngẫu nhiên\n",
        "    transforms.Normalize(mean=[0.485, 0.456, 0.406], std=[0.229, 0.224, 0.225]), # Chuẩn hóa theo ImageNet\n",
        "])\n",
        "\n",
        "val_test_transform = transforms.Compose([\n",
        "    transforms.Resize((224, 224)),\n",
        "    transforms.ToTensor(),\n",
        "    transforms.Normalize(mean=[0.485, 0.456, 0.406], std=[0.229, 0.224, 0.225]),\n",
        "])\n"
      ]
    },
    {
      "cell_type": "code",
      "execution_count": 146,
      "metadata": {
        "id": "lGEORec99JOr"
      },
      "outputs": [],
      "source": [
        "class FashionDataset(Dataset):\n",
        "    \"\"\"\n",
        "    Dataset trả về (image_tensor, numeric_tensor, labels_dict)\n",
        "    \"\"\"\n",
        "    def __init__(self, hf_dataset, transform=None):\n",
        "        self.dataset = hf_dataset\n",
        "        self.transform = transform\n",
        "\n",
        "    def __len__(self):\n",
        "        return len(self.dataset)\n",
        "\n",
        "    def __getitem__(self, idx):\n",
        "        item = self.dataset[idx]\n",
        "        # 1) Ảnh\n",
        "        image = item[\"image\"].convert(\"RGB\")\n",
        "        if self.transform:\n",
        "            image = self.transform(image)\n",
        "\n",
        "        # 2) Numeric features (season, year, price_in_vnd)\n",
        "        #    -> float tensor\n",
        "        #    -> Bạn có thể thêm bớt cột tuỳ ý\n",
        "        numeric_features = [\n",
        "            item[\"season\"],       # float\n",
        "            item[\"year\"],         # float (đã scale)\n",
        "            item[\"price_in_vnd\"]  # float (đã scale)\n",
        "        ]\n",
        "        numeric_features = torch.tensor(numeric_features, dtype=torch.float)\n",
        "\n",
        "        # 3) Labels (7 đầu ra multi-task)\n",
        "        labels = {}\n",
        "        labels[\"gender\"]         = torch.tensor(item[\"gender\"], dtype=torch.long)\n",
        "        labels[\"masterCategory\"] = torch.tensor(item[\"masterCategory\"], dtype=torch.long)\n",
        "        labels[\"usage\"]          = torch.tensor(item[\"usage\"], dtype=torch.long)\n",
        "        labels[\"subCategory\"]    = torch.tensor(item[\"subCategory\"], dtype=torch.long)\n",
        "        labels[\"articleType\"]    = torch.tensor(item[\"articleType\"], dtype=torch.long)\n",
        "        labels[\"baseColour\"]     = torch.tensor(item[\"baseColour\"], dtype=torch.long)\n",
        "        labels[\"brand\"]          = torch.tensor(item[\"brand\"], dtype=torch.long)\n",
        "\n",
        "        return image, numeric_features, labels"
      ]
    },
    {
      "cell_type": "code",
      "execution_count": 147,
      "metadata": {
        "id": "sy7y2JvR9VhA"
      },
      "outputs": [],
      "source": [
        "# Tạo Torch Dataset & DataLoader\n",
        "train_torch_dataset = FashionDataset(train_dataset, transform=train_transform)\n",
        "val_torch_dataset   = FashionDataset(val_dataset,   transform=val_test_transform)\n",
        "test_torch_dataset  = FashionDataset(test_dataset,  transform=val_test_transform)"
      ]
    },
    {
      "cell_type": "code",
      "execution_count": 148,
      "metadata": {
        "colab": {
          "base_uri": "https://localhost:8080/"
        },
        "id": "hFFxsZEs9XIu",
        "outputId": "866e247c-93aa-4ec4-85f1-ce6dec272552"
      },
      "outputs": [
        {
          "name": "stdout",
          "output_type": "stream",
          "text": [
            "Số batch train: 1116 Số batch val: 124\n"
          ]
        }
      ],
      "source": [
        "train_loader = DataLoader(train_torch_dataset, batch_size=32, shuffle=True,  num_workers=0)\n",
        "val_loader   = DataLoader(val_torch_dataset,   batch_size=32, shuffle=False, num_workers=0)\n",
        "test_loader  = DataLoader(test_torch_dataset,  batch_size=32, shuffle=False, num_workers=0)\n",
        "\n",
        "print(\"Số batch train:\", len(train_loader), \"Số batch val:\", len(val_loader))"
      ]
    },
    {
      "cell_type": "markdown",
      "metadata": {
        "id": "rik_9fBk9iRc"
      },
      "source": [
        "# IV. XÂY DỰNG CNN + MLP = FUSION MULTI-HEAD"
      ]
    },
    {
      "cell_type": "code",
      "execution_count": 149,
      "metadata": {
        "colab": {
          "base_uri": "https://localhost:8080/"
        },
        "id": "XyW7muXH-GBO",
        "outputId": "be9bfdce-3125-45c6-efec-50748aefaf74"
      },
      "outputs": [
        {
          "name": "stdout",
          "output_type": "stream",
          "text": [
            "num_gender 5\n",
            "num_master 7\n",
            "num_usage 8\n",
            "num_subcategory 45\n",
            "num_article 141\n",
            "num_basecolour 46\n",
            "num_brand 817\n"
          ]
        }
      ],
      "source": [
        "num_gender         = len(gender_map)         # 5\n",
        "num_master         = len(master_category_map)# 7\n",
        "num_usage          = len(usage_map)          # 8\n",
        "num_subcategory    = len(sub_category_map)   # 45\n",
        "num_article        = len(article_type_map)   # 142\n",
        "num_basecolour     = len(base_colour_map)    # 46\n",
        "num_brand          = len(brand_map)          # ~820 (tuỳ dataset)\n",
        "num_sub = len(sub_category_map)\n",
        "num_article = len(article_type_map)\n",
        "num_base = len(base_colour_map)\n",
        "num_brand = len(brand_map)\n",
        "\n",
        "# Hoặc in ra cho chắc:\n",
        "print(\"num_gender\", num_gender)\n",
        "print(\"num_master\", num_master)\n",
        "print(\"num_usage\",  num_usage)\n",
        "print(\"num_subcategory\", num_subcategory)\n",
        "print(\"num_article\", num_article)\n",
        "print(\"num_basecolour\", num_basecolour)\n",
        "print(\"num_brand\", num_brand)"
      ]
    },
    {
      "cell_type": "code",
      "execution_count": 150,
      "metadata": {},
      "outputs": [],
      "source": [
        "# Định nghĩa TransformerBlock dùng cho Stage 1 và Stage 2\n",
        "class TransformerBlock(nn.Module):\n",
        "    def __init__(self, embed_dim, num_heads, ff_hidden):\n",
        "        super().__init__()\n",
        "        self.attention = nn.MultiheadAttention(embed_dim=embed_dim, num_heads=num_heads, batch_first=True)\n",
        "        self.ff = nn.Sequential(\n",
        "            nn.Linear(embed_dim, ff_hidden),\n",
        "            nn.ReLU(),\n",
        "            nn.Linear(ff_hidden, embed_dim)\n",
        "        )\n",
        "        self.norm1 = nn.LayerNorm(embed_dim)\n",
        "        self.norm2 = nn.LayerNorm(embed_dim)\n",
        "\n",
        "    def forward(self, x):\n",
        "        # Self-attention: x shape [B, seq_len, embed_dim]\n",
        "        attn_output, _ = self.attention(x, x, x)\n",
        "        x = self.norm1(x + attn_output)\n",
        "        ff_output = self.ff(x)\n",
        "        x = self.norm2(x + ff_output)\n",
        "        return x"
      ]
    },
    {
      "cell_type": "code",
      "execution_count": 151,
      "metadata": {
        "id": "2JRs3bEF9jwZ"
      },
      "outputs": [],
      "source": [
        "# Định nghĩa mô hình EndToEndHierarchicalModel\n",
        "class EndToEndHierarchicalModel(nn.Module):\n",
        "    def __init__(\n",
        "        self,\n",
        "        num_gender, num_master, num_usage,\n",
        "        num_sub, num_article, num_base,\n",
        "        num_brand,\n",
        "        pretrained=True,\n",
        "        mlp_hidden=32,\n",
        "        embed_dim=16,\n",
        "        teacher_forcing_p=0.5\n",
        "    ):\n",
        "        super().__init__()\n",
        "        self.teacher_forcing_p = teacher_forcing_p\n",
        "\n",
        "        # 1) Backbone CNN (sử dụng ResNet50)\n",
        "        self.backbone = models.resnet50(pretrained=pretrained)\n",
        "        backbone_out = self.backbone.fc.in_features\n",
        "        self.backbone.fc = nn.Identity()\n",
        "\n",
        "        # 2) MLP xử lý numeric (3 input: [season, year, price])\n",
        "        self.mlp = nn.Sequential(\n",
        "            nn.Linear(3, mlp_hidden),\n",
        "            nn.ReLU(),\n",
        "            nn.Dropout(0.1),\n",
        "            nn.Linear(mlp_hidden, mlp_hidden),\n",
        "            nn.BatchNorm1d(mlp_hidden),\n",
        "            nn.ReLU()\n",
        "        )\n",
        "\n",
        "        self.base_feat_dim = backbone_out + mlp_hidden\n",
        "\n",
        "        # ---------- Stage 1 ----------\n",
        "        self.head_gender = nn.Linear(self.base_feat_dim, num_gender)\n",
        "        self.head_master = nn.Linear(self.base_feat_dim, num_master)\n",
        "        self.head_usage  = nn.Linear(self.base_feat_dim, num_usage)\n",
        "\n",
        "        self.embed_gender = nn.Embedding(num_gender, embed_dim)\n",
        "        self.embed_master = nn.Embedding(num_master, embed_dim)\n",
        "        self.embed_usage  = nn.Embedding(num_usage,  embed_dim)\n",
        "\n",
        "        # Attention và Transformer cho Stage 1\n",
        "        self.attention_stage1 = nn.MultiheadAttention(embed_dim=embed_dim, num_heads=1, batch_first=True)\n",
        "        self.transformer_block_stage1 = TransformerBlock(embed_dim, num_heads=4, ff_hidden=embed_dim*4)\n",
        "\n",
        "        # ---------- Stage 2 ----------\n",
        "        stage1_embed_total = 3 * embed_dim\n",
        "        stage2_input_dim = self.base_feat_dim + stage1_embed_total\n",
        "\n",
        "        self.head_sub     = nn.Linear(stage2_input_dim, num_sub)\n",
        "        self.head_article = nn.Linear(stage2_input_dim, num_article)\n",
        "        self.head_base    = nn.Linear(stage2_input_dim, num_base)\n",
        "\n",
        "        self.embed_sub     = nn.Embedding(num_sub,     embed_dim)\n",
        "        self.embed_article = nn.Embedding(num_article, embed_dim)\n",
        "        self.embed_base    = nn.Embedding(num_base,    embed_dim)\n",
        "\n",
        "        # Transformer block cho Stage 2 (áp dụng cho các embedding của subCategory, articleType, baseColour)\n",
        "        self.attention_stage2 = nn.MultiheadAttention(embed_dim=embed_dim, num_heads=1, batch_first=True)\n",
        "        self.transformer_block_stage2 = TransformerBlock(embed_dim, num_heads=4, ff_hidden=embed_dim*4)\n",
        "\n",
        "        # ---------- Stage 3 ----------\n",
        "        stage2_embed_total = 3 * embed_dim  # Sẽ tính sau khi xử lý stage 2\n",
        "        stage3_input_dim   = self.base_feat_dim + stage1_embed_total + stage2_embed_total\n",
        "        self.head_brand = nn.Linear(stage3_input_dim, num_brand)\n",
        "\n",
        "    def set_teacher_forcing_p(self, p):\n",
        "        self.teacher_forcing_p = p\n",
        "\n",
        "    def forward(self, images, numeric_data=None, labels=None):\n",
        "        batch_size = images.size(0)\n",
        "\n",
        "        # 1) Trích xuất đặc trưng ảnh qua backbone\n",
        "        cnn_feat = self.backbone(images)\n",
        "\n",
        "        # 2) Xử lý numeric data qua MLP\n",
        "        if numeric_data is None:\n",
        "            numeric_data = torch.zeros(batch_size, 3, device=images.device)\n",
        "        mlp_feat = self.mlp(numeric_data)\n",
        "        base_feat = torch.cat([cnn_feat, mlp_feat], dim=1)  # [B, base_feat_dim]\n",
        "\n",
        "        # =============== STAGE 1: Dự đoán gender, masterCategory, usage ===============\n",
        "        out_gender = self.head_gender(base_feat)\n",
        "        out_master = self.head_master(base_feat)\n",
        "        out_usage  = self.head_usage(base_feat)\n",
        "\n",
        "        pred_gender_id = torch.argmax(out_gender, dim=1)\n",
        "        pred_master_id = torch.argmax(out_master, dim=1)\n",
        "        pred_usage_id  = torch.argmax(out_usage, dim=1)\n",
        "\n",
        "        if (labels is not None) and self.training:\n",
        "            gt_gender_id = labels[\"gender\"]\n",
        "            gt_master_id = labels[\"masterCategory\"]\n",
        "            gt_usage_id  = labels[\"usage\"]\n",
        "\n",
        "            tf_mask = torch.rand(batch_size, device=images.device) < self.teacher_forcing_p\n",
        "\n",
        "            used_gender_id = torch.where(tf_mask, gt_gender_id, pred_gender_id)\n",
        "            used_master_id = torch.where(tf_mask, gt_master_id, pred_master_id)\n",
        "            used_usage_id  = torch.where(tf_mask, gt_usage_id, pred_usage_id)\n",
        "        else:\n",
        "            used_gender_id = pred_gender_id\n",
        "            used_master_id = pred_master_id\n",
        "            used_usage_id  = pred_usage_id\n",
        "\n",
        "        # Lấy embedding cho từng nhãn và thêm chiều sequence (1 token mỗi nhãn)\n",
        "        embed_g = self.embed_gender(used_gender_id).unsqueeze(1)  # [B, 1, embed_dim]\n",
        "        embed_m = self.embed_master(used_master_id).unsqueeze(1)    # [B, 1, embed_dim]\n",
        "        embed_u = self.embed_usage(used_usage_id).unsqueeze(1)      # [B, 1, embed_dim]\n",
        "\n",
        "        # Tạo stage1_tokens: ghép các embedding thành tensor [B, 3, embed_dim]\n",
        "        stage1_tokens = torch.cat([embed_g, embed_m, embed_u], dim=1)\n",
        "\n",
        "        # Áp dụng attention cơ bản cho stage 1:\n",
        "        attended_stage1, _ = self.attention_stage1(stage1_tokens, stage1_tokens, stage1_tokens)\n",
        "        # Áp dụng Transformer Block cho stage 1:\n",
        "        attended_stage1 = self.transformer_block_stage1(attended_stage1)\n",
        "        # Flatten thành vector duy nhất: [B, 3*embed_dim]\n",
        "        stage1_embed = attended_stage1.view(batch_size, -1)\n",
        "\n",
        "        # =============== STAGE 2: Dự đoán subCategory, articleType, baseColour ===============\n",
        "        # Tạo dự đoán ban đầu cho Stage 2\n",
        "        out_sub     = self.head_sub(torch.cat([base_feat, stage1_embed], dim=1))\n",
        "        out_article = self.head_article(torch.cat([base_feat, stage1_embed], dim=1))\n",
        "        out_base    = self.head_base(torch.cat([base_feat, stage1_embed], dim=1))\n",
        "\n",
        "        pred_sub_id     = torch.argmax(out_sub, dim=1)\n",
        "        pred_article_id = torch.argmax(out_article, dim=1)\n",
        "        pred_base_id    = torch.argmax(out_base, dim=1)\n",
        "\n",
        "        if (labels is not None) and self.training:\n",
        "            gt_sub_id     = labels[\"subCategory\"]\n",
        "            gt_article_id = labels[\"articleType\"]\n",
        "            gt_base_id    = labels[\"baseColour\"]\n",
        "\n",
        "            tf_mask2 = torch.rand(batch_size, device=images.device) < self.teacher_forcing_p\n",
        "\n",
        "            used_sub_id     = torch.where(tf_mask2, gt_sub_id, pred_sub_id)\n",
        "            used_article_id = torch.where(tf_mask2, gt_article_id, pred_article_id)\n",
        "            used_base_id    = torch.where(tf_mask2, gt_base_id, pred_base_id)\n",
        "        else:\n",
        "            used_sub_id     = pred_sub_id\n",
        "            used_article_id = pred_article_id\n",
        "            used_base_id    = pred_base_id\n",
        "\n",
        "        # Lấy embedding cho các nhãn ở Stage 2:\n",
        "        embed_s = self.embed_sub(used_sub_id)\n",
        "        embed_a = self.embed_article(used_article_id)\n",
        "        embed_b = self.embed_base(used_base_id)\n",
        "\n",
        "        # Tạo stage2_tokens với shape [B, 3, embed_dim] thay vì chỉ concat:\n",
        "        stage2_tokens = torch.stack([embed_s, embed_a, embed_b], dim=1)\n",
        "        # Áp dụng attention cơ bản cho stage 1:\n",
        "        attended_stage2, _ = self.attention_stage2(stage2_tokens, stage2_tokens, stage2_tokens)\n",
        "        # Áp dụng Transformer Block cho Stage 2:\n",
        "        attended_stage2 = self.transformer_block_stage2(stage2_tokens)\n",
        "        # Flatten lại thành vector: [B, 3*embed_dim]\n",
        "        stage2_embed = attended_stage2.view(batch_size, -1)\n",
        "\n",
        "        # =============== STAGE 3: Dự đoán brand ===============\n",
        "        # Ghép base_feat, stage1_embed, và stage2_embed lại để tạo đầu vào cho Stage 3:\n",
        "        stage3_input = torch.cat([base_feat, stage1_embed, stage2_embed], dim=1)\n",
        "        out_brand = self.head_brand(stage3_input)\n",
        "\n",
        "        outputs = {\n",
        "            \"gender\": out_gender,\n",
        "            \"masterCategory\": out_master,\n",
        "            \"usage\": out_usage,\n",
        "            \"subCategory\": out_sub,\n",
        "            \"articleType\": out_article,\n",
        "            \"baseColour\": out_base,\n",
        "            \"brand\": out_brand\n",
        "        }\n",
        "        return outputs"
      ]
    },
    {
      "cell_type": "code",
      "execution_count": 152,
      "metadata": {
        "id": "m9EiAwsgEzCY"
      },
      "outputs": [],
      "source": [
        "def hierarchical_loss(outputs, labels):\n",
        "    \"\"\"\n",
        "    Tính loss = trung bình loss 3 stage.\n",
        "    Stage 1: (gender, masterCategory, usage)\n",
        "    Stage 2: (subCategory, articleType, baseColour)\n",
        "    Stage 3: (brand)\n",
        "    \"\"\"\n",
        "    # Stage 1\n",
        "    loss_s1 = (\n",
        "        F.cross_entropy(outputs[\"gender\"],         labels[\"gender\"]) +\n",
        "        F.cross_entropy(outputs[\"masterCategory\"], labels[\"masterCategory\"]) +\n",
        "        F.cross_entropy(outputs[\"usage\"],          labels[\"usage\"])\n",
        "    ) / 3.0\n",
        "\n",
        "    # Stage 2\n",
        "    loss_s2 = (\n",
        "        F.cross_entropy(outputs[\"subCategory\"],    labels[\"subCategory\"]) +\n",
        "        F.cross_entropy(outputs[\"articleType\"],    labels[\"articleType\"]) +\n",
        "        F.cross_entropy(outputs[\"baseColour\"],     labels[\"baseColour\"])\n",
        "    ) / 3.0\n",
        "\n",
        "    # Stage 3\n",
        "    loss_s3 = F.cross_entropy(outputs[\"brand\"], labels[\"brand\"])\n",
        "\n",
        "    # Trung bình stage 1,2,3\n",
        "    loss_total = (loss_s1 + loss_s2 + loss_s3) / 3.0\n",
        "    return loss_total\n"
      ]
    },
    {
      "cell_type": "code",
      "execution_count": 153,
      "metadata": {
        "id": "tdTBLYtW9n1c"
      },
      "outputs": [],
      "source": [
        "# Khởi tạo model\n",
        "device = torch.device(\"cuda\" if torch.cuda.is_available() else \"cpu\")"
      ]
    },
    {
      "cell_type": "code",
      "execution_count": 154,
      "metadata": {
        "colab": {
          "base_uri": "https://localhost:8080/"
        },
        "id": "aZSZ8m3d9p4P",
        "outputId": "88c15d9a-a1ee-47c8-c245-1df5f8f7c7e4"
      },
      "outputs": [
        {
          "name": "stderr",
          "output_type": "stream",
          "text": [
            "/home/ailab1/miniconda3/envs/thanh-env/lib/python3.10/site-packages/torchvision/models/_utils.py:208: UserWarning: The parameter 'pretrained' is deprecated since 0.13 and may be removed in the future, please use 'weights' instead.\n",
            "  warnings.warn(\n",
            "/home/ailab1/miniconda3/envs/thanh-env/lib/python3.10/site-packages/torchvision/models/_utils.py:223: UserWarning: Arguments other than a weight enum or `None` for 'weights' are deprecated since 0.13 and may be removed in the future. The current behavior is equivalent to passing `weights=ResNet50_Weights.IMAGENET1K_V1`. You can also use `weights=ResNet50_Weights.DEFAULT` to get the most up-to-date weights.\n",
            "  warnings.warn(msg)\n"
          ]
        }
      ],
      "source": [
        "model = EndToEndHierarchicalModel(\n",
        "    num_gender, num_master, num_usage,\n",
        "    num_sub, num_article, num_base,\n",
        "    num_brand,\n",
        "    pretrained=True,\n",
        "    mlp_hidden=32,\n",
        "    embed_dim=16,\n",
        "    teacher_forcing_p=0.5\n",
        ").to(device)"
      ]
    },
    {
      "cell_type": "markdown",
      "metadata": {
        "id": "0pNMNFMD-PL3"
      },
      "source": [
        "# V. TRAINING LOOP"
      ]
    },
    {
      "cell_type": "code",
      "execution_count": 155,
      "metadata": {
        "id": "gHdPMuie9rqv"
      },
      "outputs": [],
      "source": [
        "optimizer = optim.Adam(model.parameters(), lr=1e-4)\n",
        "scheduler = optim.lr_scheduler.StepLR(optimizer, step_size=5, gamma=0.1)"
      ]
    },
    {
      "cell_type": "code",
      "execution_count": 156,
      "metadata": {
        "id": "pl0Kxbou-STk"
      },
      "outputs": [],
      "source": [
        "def multi_task_loss(outputs, labels):\n",
        "    total_loss = 0\n",
        "    for key in labels:\n",
        "        total_loss += F.cross_entropy(outputs[key], labels[key])\n",
        "    return total_loss"
      ]
    },
    {
      "cell_type": "code",
      "execution_count": 157,
      "metadata": {
        "id": "_lbEyfKL-XUL"
      },
      "outputs": [],
      "source": [
        "def train_one_epoch(model, dataloader, optimizer):\n",
        "    model.train()\n",
        "    total_loss = 0\n",
        "    for images, numeric_data, labels_dict in dataloader:\n",
        "        images = images.to(device)\n",
        "        numeric_data = numeric_data.to(device)\n",
        "        for k in labels_dict:\n",
        "            labels_dict[k] = labels_dict[k].to(device)\n",
        "\n",
        "        optimizer.zero_grad()\n",
        "        outputs = model(images, numeric_data, labels=labels_dict)\n",
        "        loss = hierarchical_loss(outputs, labels_dict)\n",
        "        loss.backward()\n",
        "        optimizer.step()\n",
        "        total_loss += loss.item()\n",
        "    return total_loss / len(dataloader)"
      ]
    },
    {
      "cell_type": "code",
      "execution_count": 158,
      "metadata": {
        "id": "c_7WADjD-ZbG"
      },
      "outputs": [],
      "source": [
        "def evaluate(model, dataloader):\n",
        "    model.eval()\n",
        "    total_loss = 0\n",
        "    correct_counts = {k: 0 for k in [\"gender\",\"masterCategory\",\"usage\",\"subCategory\",\"articleType\",\"baseColour\",\"brand\"]}\n",
        "    total_samples  = 0\n",
        "\n",
        "    with torch.no_grad():\n",
        "        for images, numeric_data, labels_dict in dataloader:\n",
        "            images = images.to(device)\n",
        "            numeric_data = numeric_data.to(device)\n",
        "            for k in labels_dict:\n",
        "                labels_dict[k] = labels_dict[k].to(device)\n",
        "\n",
        "            outputs = model(images, numeric_data, labels=labels_dict)\n",
        "            loss = hierarchical_loss(outputs, labels_dict)\n",
        "            total_loss += loss.item()\n",
        "\n",
        "            batch_size = images.size(0)\n",
        "            total_samples += batch_size\n",
        "            for k in labels_dict:\n",
        "                preds = torch.argmax(outputs[k], dim=1)\n",
        "                correct_counts[k] += (preds == labels_dict[k]).sum().item()\n",
        "\n",
        "    avg_loss = total_loss / len(dataloader)\n",
        "    accuracies = {}\n",
        "    for k in correct_counts:\n",
        "        accuracies[k] = correct_counts[k] / float(total_samples)\n",
        "    return avg_loss, accuracies"
      ]
    },
    {
      "cell_type": "code",
      "execution_count": null,
      "metadata": {
        "colab": {
          "base_uri": "https://localhost:8080/"
        },
        "id": "PA1H8McU-bv5",
        "outputId": "fe371490-98bc-4a49-a7a0-7f3a77e303d2"
      },
      "outputs": [
        {
          "name": "stdout",
          "output_type": "stream",
          "text": [
            "Epoch [1/10] - teacher_forcing_p: 0.4000\n",
            "Epoch [1/10]\n",
            "   Train Loss: 1.7069\n",
            "   Val   Loss: 1.3080\n",
            "       Val gender Acc: 87.24%\n",
            "       Val masterCategory Acc: 98.87%\n",
            "       Val usage Acc: 90.35%\n",
            "       Val subCategory Acc: 91.56%\n",
            "       Val articleType Acc: 78.65%\n",
            "       Val baseColour Acc: 56.37%\n",
            "       Val brand Acc: 29.77%\n",
            "Epoch [2/10] - teacher_forcing_p: 0.3200\n",
            "Epoch [2/10]\n",
            "   Train Loss: 1.2390\n",
            "   Val   Loss: 1.1589\n",
            "       Val gender Acc: 86.72%\n",
            "       Val masterCategory Acc: 99.02%\n",
            "       Val usage Acc: 91.00%\n",
            "       Val subCategory Acc: 93.65%\n",
            "       Val articleType Acc: 82.20%\n",
            "       Val baseColour Acc: 59.49%\n",
            "       Val brand Acc: 35.92%\n",
            "Epoch [3/10] - teacher_forcing_p: 0.2560\n",
            "Epoch [3/10]\n",
            "   Train Loss: 1.0790\n",
            "   Val   Loss: 1.0614\n",
            "       Val gender Acc: 89.29%\n",
            "       Val masterCategory Acc: 98.92%\n",
            "       Val usage Acc: 91.23%\n",
            "       Val subCategory Acc: 95.01%\n",
            "       Val articleType Acc: 84.37%\n",
            "       Val baseColour Acc: 60.83%\n",
            "       Val brand Acc: 40.64%\n",
            "Epoch [4/10] - teacher_forcing_p: 0.2048\n",
            "Epoch [4/10]\n",
            "   Train Loss: 0.9663\n",
            "   Val   Loss: 0.9766\n",
            "       Val gender Acc: 90.65%\n",
            "       Val masterCategory Acc: 99.07%\n",
            "       Val usage Acc: 91.81%\n",
            "       Val subCategory Acc: 95.34%\n",
            "       Val articleType Acc: 86.06%\n",
            "       Val baseColour Acc: 62.04%\n",
            "       Val brand Acc: 45.95%\n",
            "Epoch [5/10] - teacher_forcing_p: 0.1638\n",
            "Epoch [5/10]\n",
            "   Train Loss: 0.8827\n",
            "   Val   Loss: 0.9667\n",
            "       Val gender Acc: 88.96%\n",
            "       Val masterCategory Acc: 99.24%\n",
            "       Val usage Acc: 91.66%\n",
            "       Val subCategory Acc: 94.76%\n",
            "       Val articleType Acc: 85.61%\n",
            "       Val baseColour Acc: 62.67%\n",
            "       Val brand Acc: 47.01%\n",
            "Epoch [6/10] - teacher_forcing_p: 0.1311\n",
            "Epoch [6/10]\n",
            "   Train Loss: 0.7183\n",
            "   Val   Loss: 0.8425\n",
            "       Val gender Acc: 90.40%\n",
            "       Val masterCategory Acc: 99.32%\n",
            "       Val usage Acc: 92.49%\n",
            "       Val subCategory Acc: 95.89%\n",
            "       Val articleType Acc: 87.47%\n",
            "       Val baseColour Acc: 64.58%\n",
            "       Val brand Acc: 54.65%\n",
            "Epoch [7/10] - teacher_forcing_p: 0.1049\n",
            "Epoch [7/10]\n",
            "   Train Loss: 0.6743\n",
            "   Val   Loss: 0.8187\n",
            "       Val gender Acc: 90.65%\n",
            "       Val masterCategory Acc: 99.29%\n",
            "       Val usage Acc: 92.31%\n",
            "       Val subCategory Acc: 96.22%\n",
            "       Val articleType Acc: 88.03%\n",
            "       Val baseColour Acc: 65.59%\n",
            "       Val brand Acc: 55.84%\n",
            "Epoch [8/10] - teacher_forcing_p: 0.0839\n",
            "Epoch [8/10]\n",
            "   Train Loss: 0.6500\n",
            "   Val   Loss: 0.8185\n",
            "       Val gender Acc: 89.66%\n",
            "       Val masterCategory Acc: 99.34%\n",
            "       Val usage Acc: 92.56%\n",
            "       Val subCategory Acc: 96.04%\n",
            "       Val articleType Acc: 88.08%\n",
            "       Val baseColour Acc: 65.74%\n",
            "       Val brand Acc: 56.19%\n",
            "Epoch [9/10] - teacher_forcing_p: 0.0671\n",
            "Epoch [9/10]\n",
            "   Train Loss: 0.6307\n",
            "   Val   Loss: 0.8076\n",
            "       Val gender Acc: 90.55%\n",
            "       Val masterCategory Acc: 99.34%\n",
            "       Val usage Acc: 92.64%\n",
            "       Val subCategory Acc: 96.09%\n",
            "       Val articleType Acc: 88.43%\n",
            "       Val baseColour Acc: 66.47%\n",
            "       Val brand Acc: 56.52%\n",
            "Epoch [10/10] - teacher_forcing_p: 0.0537\n",
            "Epoch [10/10]\n",
            "   Train Loss: 0.6118\n",
            "   Val   Loss: 0.7991\n",
            "       Val gender Acc: 90.65%\n",
            "       Val masterCategory Acc: 99.27%\n",
            "       Val usage Acc: 92.39%\n",
            "       Val subCategory Acc: 95.99%\n",
            "       Val articleType Acc: 88.28%\n",
            "       Val baseColour Acc: 65.92%\n",
            "       Val brand Acc: 57.10%\n"
          ]
        }
      ],
      "source": [
        "num_epochs = 10\n",
        "teacher_forcing_decay = 0.8  # Mỗi epoch giảm 10%\n",
        "train_losses = []\n",
        "val_losses = []\n",
        "for epoch in range(num_epochs):\n",
        "    # Cập nhật teacher forcing\n",
        "    new_tf_p = model.teacher_forcing_p * teacher_forcing_decay\n",
        "    model.set_teacher_forcing_p(new_tf_p)\n",
        "\n",
        "    train_loss = train_one_epoch(model, train_loader, optimizer)\n",
        "    val_loss, val_accs = evaluate(model, val_loader)\n",
        "    scheduler.step()\n",
        "\n",
        "    train_losses.append(train_loss)\n",
        "    val_losses.append(val_loss)\n",
        "    \n",
        "    print(f\"Epoch [{epoch+1}/{num_epochs}] - teacher_forcing_p: {model.teacher_forcing_p:.4f}\")\n",
        "    print(f\"Epoch [{epoch+1}/{num_epochs}]\")\n",
        "    print(f\"   Train Loss: {train_loss:.4f}\")\n",
        "    print(f\"   Val   Loss: {val_loss:.4f}\")\n",
        "    for task, acc in val_accs.items():\n",
        "        print(f\"       Val {task} Acc: {acc*100:.2f}%\")"
      ]
    },
    {
      "cell_type": "code",
      "execution_count": null,
      "metadata": {},
      "outputs": [],
      "source": [
        "import matplotlib.pyplot as plt\n",
        "\n",
        "# Giả sử bạn có 2 list chứa giá trị loss của train và validation sau mỗi epoch:\n",
        "# train_losses = [loss_epoch1, loss_epoch2, ..., loss_epochN]\n",
        "# val_losses   = [val_loss_epoch1, val_loss_epoch2, ..., val_loss_epochN]\n",
        "# Và số epoch:\n",
        "epochs = range(1, len(train_losses) + 1)\n",
        "\n",
        "plt.figure(figsize=(8, 6))\n",
        "plt.plot(epochs, train_losses, label='Training Loss', marker='o')\n",
        "plt.plot(epochs, val_losses, label='Validation Loss', marker='o')\n",
        "plt.xlabel('Epochs')\n",
        "plt.ylabel('Loss')\n",
        "plt.title('Training and Validation Loss Over Epochs')\n",
        "plt.legend()\n",
        "plt.grid(True)\n",
        "plt.show()"
      ]
    },
    {
      "cell_type": "code",
      "execution_count": 169,
      "metadata": {},
      "outputs": [
        {
          "data": {
            "image/png": "[encoded data removed]",
            "text/plain": [
              "<Figure size 1200x1200 with 3 Axes>"
            ]
          },
          "metadata": {},
          "output_type": "display_data"
        }
      ],
      "source": [
        "import matplotlib.pyplot as plt\n",
        "\n",
        "# Epochs (1 to 10)\n",
        "epochs = list(range(1, 11))\n",
        "\n",
        "# Loss values from your logs:\n",
        "train_losses = [1.7069, 1.2390, 1.0790, 0.9663, 0.8827, 0.7183, 0.6743, 0.6500, 0.6307, 0.6118]\n",
        "val_losses   = [1.3080, 1.1589, 1.0614, 0.9766, 0.9667, 0.8425, 0.8187, 0.8185, 0.8076, 0.7991]\n",
        "teacher_forcing = [0.4000, 0.3200, 0.2560, 0.2048, 0.1638, 0.1311, 0.1049, 0.0839, 0.0671, 0.0537]\n",
        "\n",
        "# Validation Accuracy values (in percentages):\n",
        "acc_gender   = [87.24, 86.72, 89.29, 90.65, 88.96, 90.40, 90.65, 89.66, 90.55, 90.65]\n",
        "acc_master   = [98.87, 99.02, 98.92, 99.07, 99.24, 99.32, 99.29, 99.34, 99.34, 99.27]\n",
        "acc_usage    = [90.35, 91.00, 91.23, 91.81, 91.66, 92.49, 92.31, 92.56, 92.64, 92.39]\n",
        "acc_sub      = [91.56, 93.65, 95.01, 95.34, 94.76, 95.89, 96.22, 96.04, 96.09, 95.99]\n",
        "acc_article  = [78.65, 82.20, 84.37, 86.06, 85.61, 87.47, 88.03, 88.08, 88.43, 88.28]\n",
        "acc_base     = [56.37, 59.49, 60.83, 62.04, 62.67, 64.58, 65.59, 65.74, 66.47, 65.92]\n",
        "acc_brand    = [29.77, 35.92, 40.64, 45.95, 47.01, 54.65, 55.84, 56.19, 56.52, 57.10]\n",
        "\n",
        "# Create one figure with 2 subplots (stacked vertically)\n",
        "fig, (ax1, ax2) = plt.subplots(2, 1, figsize=(12, 12))\n",
        "\n",
        "# ---- Top subplot: Losses and Teacher Forcing ----\n",
        "ln1 = ax1.plot(epochs, train_losses, label='Training Loss', marker='o')\n",
        "ln2 = ax1.plot(epochs, val_losses, label='Validation Loss', marker='o')\n",
        "ax1.set_xlabel('Epochs')\n",
        "ax1.set_ylabel('Loss')\n",
        "ax1.set_title('Loss and Teacher Forcing Over Epochs')\n",
        "ax1.grid(True)\n",
        "\n",
        "# Add teacher forcing probability on a twin y-axis (since its scale is different)\n",
        "ax1_twin = ax1.twinx()\n",
        "ln3 = ax1_twin.plot(epochs, teacher_forcing, label='Teacher Forcing p', marker='s', color='green')\n",
        "ax1_twin.set_ylabel('Teacher Forcing Probability')\n",
        "\n",
        "# Combine legends from both y-axes\n",
        "lns = ln1 + ln2 + ln3\n",
        "labels = [l.get_label() for l in lns]\n",
        "ax1.legend(lns, labels, loc='upper right')\n",
        "\n",
        "# ---- Bottom subplot: Validation Accuracy Metrics ----\n",
        "ax2.plot(epochs, acc_gender,    label='Gender Acc', marker='o')\n",
        "ax2.plot(epochs, acc_master,    label='Master Cat Acc', marker='o')\n",
        "ax2.plot(epochs, acc_usage,     label='Usage Acc', marker='o')\n",
        "ax2.plot(epochs, acc_sub,       label='SubCat Acc', marker='o')\n",
        "ax2.plot(epochs, acc_article,   label='Article Acc', marker='o')\n",
        "ax2.plot(epochs, acc_base,      label='Base Colour Acc', marker='o')\n",
        "ax2.plot(epochs, acc_brand,     label='Brand Acc', marker='o')\n",
        "ax2.set_xlabel('Epochs')\n",
        "ax2.set_ylabel('Validation Accuracy (%)')\n",
        "ax2.set_title('Validation Accuracy Metrics Over Epochs')\n",
        "ax2.grid(True)\n",
        "ax2.legend(loc='lower right')\n",
        "\n",
        "plt.tight_layout()\n",
        "plt.show()\n"
      ]
    },
    {
      "cell_type": "markdown",
      "metadata": {
        "id": "xxbC2x5l-vJg"
      },
      "source": [
        "# VI. ĐÁNH GIÁ TRÊN TEST"
      ]
    },
    {
      "cell_type": "code",
      "execution_count": 160,
      "metadata": {
        "colab": {
          "base_uri": "https://localhost:8080/"
        },
        "id": "cRsmLlxU-sM9",
        "outputId": "e8feb020-b6b1-4355-b83f-1979c802c435"
      },
      "outputs": [
        {
          "name": "stdout",
          "output_type": "stream",
          "text": [
            "[Test] Loss: 0.7796\n",
            "[Test] gender Accuracy = 90.79%\n",
            "[Test] masterCategory Accuracy = 99.57%\n",
            "[Test] usage Accuracy = 92.35%\n",
            "[Test] subCategory Accuracy = 96.28%\n",
            "[Test] articleType Accuracy = 87.23%\n",
            "[Test] baseColour Accuracy = 66.18%\n",
            "[Test] brand Accuracy = 58.64%\n"
          ]
        }
      ],
      "source": [
        "test_loss, test_accs = evaluate(model, test_loader)\n",
        "print(f\"[Test] Loss: {test_loss:.4f}\")\n",
        "for task, acc in test_accs.items():\n",
        "    print(f\"[Test] {task} Accuracy = {acc*100:.2f}%\")"
      ]
    },
    {
      "cell_type": "code",
      "execution_count": 161,
      "metadata": {
        "id": "f6TQ7S1QpJn7"
      },
      "outputs": [],
      "source": [
        "transform_infer = transforms.Compose([\n",
        "    transforms.Resize((224, 224)),\n",
        "    transforms.ToTensor(),\n",
        "    transforms.Normalize(mean=[0.485, 0.456, 0.406], std=[0.229, 0.224, 0.225]),\n",
        "])"
      ]
    },
    {
      "cell_type": "code",
      "execution_count": 162,
      "metadata": {
        "id": "OCU4HpW-tn4V"
      },
      "outputs": [],
      "source": [
        "from PIL import Image\n",
        "\n",
        "def predict_product_display_name(\n",
        "    model,\n",
        "    image_path,\n",
        "    numeric_data=None  # tuple/list [season, year, price] hoặc None\n",
        "):\n",
        "    \"\"\"\n",
        "    - image_path: đường dẫn ảnh\n",
        "    - numeric_data: [season, year, price] hoặc None\n",
        "    - return: predicted_display_name (chuỗi)\n",
        "    \"\"\"\n",
        "\n",
        "    # 1) Load & transform ảnh\n",
        "    img = Image.open(image_path).convert(\"RGB\")\n",
        "    img_tensor = transform_infer(img).unsqueeze(0)  # [1,3,224,224]\n",
        "\n",
        "    # 2) numeric_data\n",
        "    if numeric_data is not None:\n",
        "        numeric_data = torch.tensor(numeric_data, dtype=torch.float).unsqueeze(0)\n",
        "        # shape [1,3]\n",
        "    else:\n",
        "        numeric_data = None\n",
        "\n",
        "    # 3) Model forward\n",
        "    model.eval()\n",
        "    with torch.no_grad():\n",
        "        outputs = model(img_tensor.to(device), numeric_data=numeric_data.to(device) if numeric_data is not None else None)\n",
        "\n",
        "    # 4) Lấy argmax cho mỗi task\n",
        "    pred_brand_id  = torch.argmax(outputs[\"brand\"], dim=1).item()\n",
        "    pred_gender_id = torch.argmax(outputs[\"gender\"], dim=1).item()\n",
        "    pred_usage_id  = torch.argmax(outputs[\"usage\"],  dim=1).item()\n",
        "    pred_base_id   = torch.argmax(outputs[\"baseColour\"], dim=1).item()\n",
        "    pred_masterCategory_id = torch.argmax(outputs[\"masterCategory\"], dim=1).item()\n",
        "    pred_subCategory_id    = torch.argmax(outputs[\"subCategory\"], dim=1).item()\n",
        "    pred_article_id = torch.argmax(outputs[\"articleType\"], dim=1).item()\n",
        "\n",
        "    # 5) Chuyển sang chuỗi\n",
        "    pred_brand_str  = inv_brand_map[pred_brand_id]\n",
        "    pred_gender_str = inv_gender_map[pred_gender_id]\n",
        "    pred_usage_str  = inv_usage_map[pred_usage_id]\n",
        "    pred_base_str   = inv_base_colour_map[pred_base_id]\n",
        "    pred_masterCategory_str = inv_master_map[pred_masterCategory_id]\n",
        "    pred_subCategory_str = inv_sub_cat_map[pred_subCategory_id]\n",
        "    pred_article_str = inv_article_type_map[pred_article_id]\n",
        "\n",
        "    # 6) Ghép \"product display name\"\n",
        "    predicted_display_name = f\"{pred_brand_str} {pred_gender_str} {pred_usage_str} {pred_base_str} {pred_article_str}\"\n",
        "    return pred_brand_str, pred_gender_str, pred_usage_str, pred_base_str, pred_masterCategory_str, pred_subCategory_str, pred_article_str, predicted_display_name"
      ]
    },
    {
      "cell_type": "code",
      "execution_count": null,
      "metadata": {
        "colab": {
          "base_uri": "https://localhost:8080/"
        },
        "id": "Xo8VxUyGtqL4",
        "outputId": "fc2c2534-58b9-4b22-ea4e-5c5df1400640"
      },
      "outputs": [],
      "source": [
        "#Trường hợp 1: Người dùng có year/season/price:\n",
        "# year=2012, season=1, price=0.6 (vd scale 0..1)\n",
        "numeric_data = [2, 2011, 0.6]\n",
        "pred_brand_str, pred_gender_str, pred_usage_str, pred_base_str, pred_article_str, predicted_display_name = predict_product_display_name(model, \"/home/ailab1/student_share/Thanh/GPU/Data/data test/images/10000.jpg\", numeric_data=numeric_data)\n",
        "print(\"Predicted:\", predicted_display_name)\n",
        "print(\"Predicted:\", pred_brand_str)\n"
      ]
    },
    {
      "cell_type": "code",
      "execution_count": 165,
      "metadata": {
        "colab": {
          "base_uri": "https://localhost:8080/",
          "height": 339
        },
        "id": "JPI8XsRbttUo",
        "outputId": "50c84cfe-ea20-44d6-95d8-f4062e183201"
      },
      "outputs": [
        {
          "name": "stdout",
          "output_type": "stream",
          "text": [
            "Predicted: ('Puma', 'Unisex', 'Sports', 'Black', 'Accessories', 'Watches', 'Watches', 'Puma Unisex Sports Black Watches')\n"
          ]
        }
      ],
      "source": [
        "# Trường hợp 2: Người dùng chỉ up ảnh => numeric_data=None\n",
        "product_name = predict_product_display_name(model, \"/home/ailab1/student_share/Thanh/GPU/Data/data test/images/10999.jpg\", numeric_data=None)\n",
        "print(\"Predicted:\", product_name)\n"
      ]
    },
    {
      "cell_type": "markdown",
      "metadata": {
        "id": "VZMqSasF-xQv"
      },
      "source": [
        "# VII. LƯU MODEL"
      ]
    },
    {
      "cell_type": "code",
      "execution_count": 166,
      "metadata": {
        "colab": {
          "base_uri": "https://localhost:8080/",
          "height": 159
        },
        "id": "f82v-KMT-y7I",
        "outputId": "c6891791-61d9-4a3e-96f8-7f5dbc833bcd"
      },
      "outputs": [
        {
          "name": "stdout",
          "output_type": "stream",
          "text": [
            "Model weights saved to cnn_plus_mlp_multitask_model.pt\n"
          ]
        }
      ],
      "source": [
        "torch.save(model.state_dict(), \"/home/ailab1/student_share/Thanh/GPU/CNN_hierarchical_model.pt\")\n",
        "print(\"Model weights saved to cnn_plus_mlp_multitask_model.pt\")"
      ]
    }
  ],
  "metadata": {
    "accelerator": "GPU",
    "colab": {
      "gpuType": "T4",
      "provenance": []
    },
    "kernelspec": {
      "display_name": "thanh-env",
      "language": "python",
      "name": "python3"
    },
    "language_info": {
      "codemirror_mode": {
        "name": "ipython",
        "version": 3
      },
      "file_extension": ".py",
      "mimetype": "text/x-python",
      "name": "python",
      "nbconvert_exporter": "python",
      "pygments_lexer": "ipython3",
      "version": "3.10.16"
    }
  },
  "nbformat": 4,
  "nbformat_minor": 0
}
